{
  "nbformat": 4,
  "nbformat_minor": 0,
  "metadata": {
    "colab": {
      "name": "dfd_pledges.ipynb",
      "version": "0.3.2",
      "provenance": [],
      "private_outputs": true,
      "collapsed_sections": [],
      "toc_visible": true,
      "include_colab_link": true
    },
    "kernelspec": {
      "name": "python3",
      "display_name": "Python 3"
    },
    "accelerator": "GPU"
  },
  "cells": [
    {
      "cell_type": "markdown",
      "metadata": {
        "id": "view-in-github",
        "colab_type": "text"
      },
      "source": [
        "<a href=\"https://colab.research.google.com/github/janilles/dfdapp/blob/master/dfd_pledges.ipynb\" target=\"_parent\"><img src=\"https://colab.research.google.com/assets/colab-badge.svg\" alt=\"Open In Colab\"/></a>"
      ]
    },
    {
      "metadata": {
        "id": "hVd7cCkUJNjW",
        "colab_type": "text"
      },
      "cell_type": "markdown",
      "source": [
        "# Drink Free Days app\n",
        "\n",
        "# PLEDGES ANALYSIS\n",
        "\n",
        "Questions answered in this notebook:\n",
        "\n",
        "- What's the conversion from downloading the app to pledging?\n",
        "- Are people meeting their pledges?\n",
        "- Are people increasing their pledges?\n",
        "- What are the most popular pledge day combinations?"
      ]
    },
    {
      "metadata": {
        "id": "O1OSH-XjD4xd",
        "colab_type": "text"
      },
      "cell_type": "markdown",
      "source": [
        "# Credentials to run the notebook"
      ]
    },
    {
      "metadata": {
        "id": "i0C0jUBOJejP",
        "colab_type": "text"
      },
      "cell_type": "markdown",
      "source": [
        "## Google Drive authentication (optional step)\n",
        "NOTE: If login credentials are hardcoded into the database connection (code cell below) this step in not necesary. Otherwise:\n",
        "\n",
        "Install and authenticate [PyDrive](https://pythonhosted.org/PyDrive/index.html) for loading files from Google Drive so that database passwords aren't hardcoded into the notebook.\n"
      ]
    },
    {
      "metadata": {
        "id": "i-uwdb3-J8B8",
        "colab_type": "code",
        "colab": {}
      },
      "cell_type": "code",
      "source": [
        "# added -q for suppressing output\n",
        "!pip install -U -q PyDrive\n",
        "\n",
        "# see PyDrive documentation for libraries code snippets\n",
        "from pydrive.auth import GoogleAuth\n",
        "from pydrive.drive import GoogleDrive\n",
        "from google.colab import auth\n",
        "from oauth2client.client import GoogleCredentials\n",
        "\n",
        "# authenticate and create the PyDrive client\n",
        "auth.authenticate_user()\n",
        "gauth = GoogleAuth()\n",
        "gauth.credentials = GoogleCredentials.get_application_default()\n",
        "drive = GoogleDrive(gauth)\n"
      ],
      "execution_count": 0,
      "outputs": []
    },
    {
      "metadata": {
        "id": "3QhdNMalfDmU",
        "colab_type": "text"
      },
      "cell_type": "markdown",
      "source": [
        "## Database connection\n",
        "- Connecting to AWS RDS database with [PyMySQL](https://pymysql.readthedocs.io/en/latest/user/examples.html).\n",
        "- Retruning MySQL queries as Pandas dataframes with [```read_sql()```](https://pandas.pydata.org/pandas-docs/stable/generated/pandas.read_sql.html) function."
      ]
    },
    {
      "metadata": {
        "id": "_oFep_FLZJ2M",
        "colab_type": "code",
        "colab": {}
      },
      "cell_type": "code",
      "source": [
        "# added -q for suppressing output\n",
        "!pip install -q -U pymysql\n",
        "\n",
        "import pymysql\n",
        "import pandas as pd\n"
      ],
      "execution_count": 0,
      "outputs": []
    },
    {
      "metadata": {
        "id": "5aAq_cyXORAC",
        "colab_type": "code",
        "colab": {}
      },
      "cell_type": "code",
      "source": [
        "# only run if using PyDrive: 'id' is Google Drive file ID\n",
        "hostnm_file = drive.CreateFile(\n",
        "    {'id': '1lL_DFWe2F0yNTZRJ3sq5bpJeHgCTqxMn'})\n",
        "usernm_file = drive.CreateFile(\n",
        "    {'id': '1l0NedyVzKKhPJ1-_cOqF1VRt_oQyr8OL'})\n",
        "passwd_file = drive.CreateFile(\n",
        "    {'id': '1YnGugBHvqjJk0nbTqN-683Agb0vaZKHo'})\n",
        "dbname_file = drive.CreateFile(\n",
        "    {'id': '1_mZ3aYMcWdRKKJXRud4sPwnQc8vVgznC'})\n",
        "\n",
        "# variables used in the connect function below\n",
        "host_name = hostnm_file.GetContentString()\n",
        "user_name = usernm_file.GetContentString()\n",
        "user_passwd = passwd_file.GetContentString()\n",
        "db_name = dbname_file.GetContentString()\n"
      ],
      "execution_count": 0,
      "outputs": []
    },
    {
      "metadata": {
        "id": "Bc4vHmqKZiyA",
        "colab_type": "code",
        "colab": {}
      },
      "cell_type": "code",
      "source": [
        "def connect():\n",
        "    return pymysql.connect(\n",
        "        host = host_name,\n",
        "        port= 1313,\n",
        "        user= user_name,\n",
        "        passwd= user_passwd,\n",
        "        db= db_name,\n",
        "        autocommit=True\n",
        "        )\n",
        "\n",
        "connection = connect()\n",
        "\n",
        "def sql_to_df(sql):\n",
        "    return pd.read_sql(sql, con=connection)\n"
      ],
      "execution_count": 0,
      "outputs": []
    },
    {
      "metadata": {
        "id": "3H4vBNdu2omb",
        "colab_type": "text"
      },
      "cell_type": "markdown",
      "source": [
        "# Database tables used in reports (optional step)\n",
        "Overview of avaliable data and tables used in the MySQL queries below. See [MySQL documentation](https://dev.mysql.com/doc/refman/8.0/en/introduction.html) for MySQL syntax."
      ]
    },
    {
      "metadata": {
        "id": "iZPg1ZmMKMFw",
        "colab_type": "code",
        "colab": {}
      },
      "cell_type": "code",
      "source": [
        "# formatting column width of Pandas dataframes\n",
        "# increase column width so that longer comments don't get truncated\n",
        "pd.set_option('max_colwidth', 100)\n"
      ],
      "execution_count": 0,
      "outputs": []
    },
    {
      "metadata": {
        "id": "pABlehhu7nF2",
        "colab_type": "text"
      },
      "cell_type": "markdown",
      "source": [
        "### Pledges table"
      ]
    },
    {
      "metadata": {
        "id": "sXBsb3XT_cG5",
        "colab_type": "code",
        "colab": {}
      },
      "cell_type": "code",
      "source": [
        "# run pd.set_option('max_colwidth', 100) if comments column gets truncated\n",
        "sql_to_df(\"\"\"\n",
        "        SELECT\n",
        "            table_name, column_name, data_type, column_comment\n",
        "        FROM\n",
        "            information_schema.columns\n",
        "        WHERE\n",
        "            table_name = 'g_apppledges'\n",
        "        \"\"\")\n"
      ],
      "execution_count": 0,
      "outputs": []
    },
    {
      "metadata": {
        "id": "fD4kqaRoo_2n",
        "colab_type": "text"
      },
      "cell_type": "markdown",
      "source": [
        "### Days off table (drink free days)"
      ]
    },
    {
      "metadata": {
        "id": "iL0bfw_9pH3G",
        "colab_type": "code",
        "colab": {}
      },
      "cell_type": "code",
      "source": [
        "# run pd.set_option('max_colwidth', 100) if comments column gets truncated\n",
        "sql_to_df(\"\"\"\n",
        "        SELECT\n",
        "            table_name, column_name, data_type, column_comment\n",
        "        FROM\n",
        "            information_schema.columns\n",
        "        WHERE\n",
        "            table_name = 'g_appdaysoff'\n",
        "        \"\"\")\n"
      ],
      "execution_count": 0,
      "outputs": []
    },
    {
      "metadata": {
        "id": "hZ-pBqOs1xlQ",
        "colab_type": "text"
      },
      "cell_type": "markdown",
      "source": [
        "### App users table"
      ]
    },
    {
      "metadata": {
        "id": "PZC5riNj1rMg",
        "colab_type": "code",
        "colab": {}
      },
      "cell_type": "code",
      "source": [
        "# run pd.set_option('max_colwidth', 100) if comments column gets truncated\n",
        "sql_to_df(\"\"\"\n",
        "        SELECT\n",
        "            table_name, column_name, data_type, column_comment\n",
        "        FROM\n",
        "            information_schema.columns\n",
        "        WHERE\n",
        "            table_name = 'g_appusers'\n",
        "        \"\"\")\n"
      ],
      "execution_count": 0,
      "outputs": []
    },
    {
      "metadata": {
        "id": "8t0NgYmtfl-H",
        "colab_type": "text"
      },
      "cell_type": "markdown",
      "source": [
        "# Reports\n",
        "SQL queries as strings inside ```sql_to_df()``` function defined as PyMySQL connection above.  \n",
        "See [MySQL documentation](https://dev.mysql.com/doc/refman/8.0/en/introduction.html) for SQL syntax reference."
      ]
    },
    {
      "metadata": {
        "id": "JHxn2inNVP90",
        "colab_type": "text"
      },
      "cell_type": "markdown",
      "source": [
        "## Conversion from downloading the app to pledging\n",
        "- **NB for SQL query: ** Pledges table only ever holds one week for each user\n",
        "- 'downloading' = installing the app i.e. user ID appearing in the database."
      ]
    },
    {
      "metadata": {
        "id": "r0Hwhotvl22T",
        "colab_type": "text"
      },
      "cell_type": "markdown",
      "source": [
        "### During the first four weeks of campaign\n",
        "Only for users who have last used the app in the fourth week of campaign or later and downloaded the app whenever in 2018."
      ]
    },
    {
      "metadata": {
        "id": "gHMUYQWpmV-C",
        "colab_type": "code",
        "cellView": "form",
        "colab": {}
      },
      "cell_type": "code",
      "source": [
        "#@title SQL query to dataframe\n",
        "conversion_campaign = sql_to_df(\n",
        "    \"\"\"\n",
        "    SELECT\n",
        "        COUNT(DISTINCT U.id) AS all_users,\n",
        "        COUNT(DISTINCT P.id) AS of_which_pledging_users,\n",
        "        ROUND(COUNT(DISTINCT P.id) / (COUNT(DISTINCT U.id) /100), 1) AS conversion_rate,\n",
        "        CAST(ROUND(SUM(P.sum_days), 1) AS UNSIGNED) AS sum_days_pledged,\n",
        "        ROUND(AVG(P.avg_days), 1) AS avg_per_user_per_wk\n",
        "    FROM\n",
        "        (SELECT\n",
        "            id,\n",
        "            AVG(daycount) AS avg_days,\n",
        "            SUM(daycount) AS sum_days\n",
        "        FROM\n",
        "            g_apppledges\n",
        "        WHERE\n",
        "            YEAR(week) = 2018\n",
        "        AND\n",
        "            WEEK(week, 1) BETWEEN 37 AND 40 -- first 4 weeks of campaign\n",
        "            \n",
        "        GROUP BY\n",
        "            id) P\n",
        "    RIGHT JOIN \n",
        "        g_appusers U\n",
        "    ON\n",
        "        P.id=U.id\n",
        "    WHERE\n",
        "        YEAR(joined) = 2018\n",
        "    AND\n",
        "        WEEK(lastseen, 1) >= 40\n",
        "    \"\"\")\n",
        "\n",
        "conversion_campaign"
      ],
      "execution_count": 0,
      "outputs": []
    },
    {
      "metadata": {
        "id": "qAFg6zTfyoKq",
        "colab_type": "text"
      },
      "cell_type": "markdown",
      "source": [
        "### Users who downloaded the app during the first week of campaign\n",
        "This means it takes their values from the pledges table for however long they’ve used the app for (since it’s a right join and the “joined week = 37” condition has been satisfied)."
      ]
    },
    {
      "metadata": {
        "id": "-yx4Kc9WxTvR",
        "colab_type": "code",
        "cellView": "form",
        "colab": {}
      },
      "cell_type": "code",
      "source": [
        "#@title SQL query to dataframe\n",
        "conversion = sql_to_df(\n",
        "    \"\"\"\n",
        "    SELECT\n",
        "        COUNT(DISTINCT U.id) AS all_users,\n",
        "        COUNT(DISTINCT P.id) AS of_which_pledging_users,\n",
        "        ROUND(COUNT(DISTINCT P.id) / (COUNT(DISTINCT U.id) /100), 1) AS conversion_rate,\n",
        "        CAST(ROUND(SUM(P.sum_days), 1) AS UNSIGNED) AS sum_days_pledged,\n",
        "        ROUND(AVG(P.avg_days), 1) AS avg_per_user_per_wk\n",
        "    FROM\n",
        "        (SELECT\n",
        "            id,\n",
        "            AVG(daycount) AS avg_days,\n",
        "            SUM(daycount) AS sum_days\n",
        "        FROM\n",
        "            g_apppledges\n",
        "        GROUP BY\n",
        "            id) P\n",
        "    RIGHT JOIN \n",
        "        g_appusers U\n",
        "    ON\n",
        "        P.id=U.id\n",
        "    WHERE\n",
        "        YEAR(joined) = 2018\n",
        "    AND\n",
        "        WEEK(joined, 1) = 37 -- first week of campaign\n",
        "    \"\"\")\n",
        "\n",
        "conversion"
      ],
      "execution_count": 0,
      "outputs": []
    },
    {
      "metadata": {
        "id": "26EH-zsRydn9",
        "colab_type": "text"
      },
      "cell_type": "markdown",
      "source": [
        "### Users who downloaded the app pre-campaign launch\n",
        "Downloads of all of 2018 up to launch in week 37."
      ]
    },
    {
      "metadata": {
        "id": "4OfEggOxPu1G",
        "colab_type": "code",
        "cellView": "form",
        "colab": {}
      },
      "cell_type": "code",
      "source": [
        "#@title SQL query to dataframe\n",
        "conversion_pre = sql_to_df(\n",
        "    \"\"\"\n",
        "    SELECT\n",
        "        COUNT(DISTINCT U.id) AS all_users,\n",
        "        COUNT(DISTINCT P.id) AS of_which_pledging_users,\n",
        "        ROUND(COUNT(DISTINCT P.id) / (COUNT(DISTINCT U.id) /100), 1) AS conversion_rate,\n",
        "        CAST(ROUND(SUM(P.sum_days), 1) AS UNSIGNED) AS sum_days_pledged,\n",
        "        ROUND(AVG(P.avg_days), 1) AS avg_per_user_per_wk\n",
        "    FROM\n",
        "        (SELECT\n",
        "            id,\n",
        "            AVG(daycount) AS avg_days,\n",
        "            SUM(daycount) AS sum_days\n",
        "        FROM\n",
        "            g_apppledges\n",
        "        GROUP BY\n",
        "            id) P\n",
        "    RIGHT JOIN \n",
        "        g_appusers U\n",
        "    ON\n",
        "        P.id=U.id\n",
        "    WHERE\n",
        "        YEAR(joined) = 2018\n",
        "    AND\n",
        "        WEEK(joined, 1) < 37 -- first week of campaign\n",
        "    \n",
        "    \"\"\")\n",
        "\n",
        "conversion_pre"
      ],
      "execution_count": 0,
      "outputs": []
    },
    {
      "metadata": {
        "id": "C19SWTWz-pCQ",
        "colab_type": "text"
      },
      "cell_type": "markdown",
      "source": [
        "### Users who downloaded the app pre-campaign launch AND kept using it at least a week after campaign launch"
      ]
    },
    {
      "metadata": {
        "id": "xdi3NykE5OA0",
        "colab_type": "code",
        "cellView": "form",
        "colab": {}
      },
      "cell_type": "code",
      "source": [
        "#@title SQL to dataframe\n",
        "conversion_pre_post = sql_to_df(\n",
        "    \"\"\"\n",
        "    SELECT\n",
        "        COUNT(DISTINCT U.id) AS all_users,\n",
        "        COUNT(DISTINCT P.id) AS of_which_pledging_users,\n",
        "        ROUND(COUNT(DISTINCT P.id) / (COUNT(DISTINCT U.id) /100), 1) AS conversion_rate,\n",
        "        CAST(ROUND(SUM(P.sum_days), 1) AS UNSIGNED) AS sum_days_pledged,\n",
        "        ROUND(AVG(P.avg_days), 1) AS avg_per_user_per_wk\n",
        "    FROM\n",
        "        (SELECT\n",
        "            id,\n",
        "            AVG(daycount) AS avg_days,\n",
        "            SUM(daycount) AS sum_days\n",
        "        FROM\n",
        "            g_apppledges\n",
        "        GROUP BY\n",
        "            id) P\n",
        "    RIGHT JOIN \n",
        "        g_appusers U\n",
        "    ON\n",
        "        P.id=U.id\n",
        "    WHERE\n",
        "        YEAR(joined) = 2018\n",
        "    AND\n",
        "        WEEK(joined, 1) < 37 -- first week of campaign\n",
        "    AND\n",
        "        WEEK(lastseen, 1) >= 38\n",
        "    \n",
        "    \"\"\")\n",
        "\n",
        "conversion_pre_post"
      ],
      "execution_count": 0,
      "outputs": []
    },
    {
      "metadata": {
        "id": "tv_-jPb6--7R",
        "colab_type": "text"
      },
      "cell_type": "markdown",
      "source": [
        "### Users who downloaded the app pre-campaign launch AND stopped using it pre-campaign launch"
      ]
    },
    {
      "metadata": {
        "id": "0DDEycVY6SYf",
        "colab_type": "code",
        "cellView": "form",
        "colab": {}
      },
      "cell_type": "code",
      "source": [
        "#@title SQL to dataframe\n",
        "conversion_pre_pre = sql_to_df(\n",
        "    \"\"\"\n",
        "    SELECT\n",
        "        COUNT(DISTINCT U.id) AS all_users,\n",
        "        COUNT(DISTINCT P.id) AS of_which_pledging_users,\n",
        "        ROUND(COUNT(DISTINCT P.id) / (COUNT(DISTINCT U.id) /100), 1) AS conversion_rate,\n",
        "        CAST(ROUND(SUM(P.sum_days), 1) AS UNSIGNED) AS sum_days_pledged,\n",
        "        ROUND(AVG(P.avg_days), 1) AS avg_per_user_per_wk\n",
        "    FROM\n",
        "        (SELECT\n",
        "            id,\n",
        "            AVG(daycount) AS avg_days,\n",
        "            SUM(daycount) AS sum_days\n",
        "        FROM\n",
        "            g_apppledges\n",
        "        GROUP BY\n",
        "            id) P\n",
        "    RIGHT JOIN \n",
        "        g_appusers U\n",
        "    ON\n",
        "        P.id=U.id\n",
        "    WHERE\n",
        "        YEAR(joined) = 2018\n",
        "    AND\n",
        "        WEEK(joined, 1) < 37 -- first week of campaign\n",
        "    AND\n",
        "        WEEK(lastseen, 1) < 37\n",
        "    \n",
        "    \"\"\")\n",
        "\n",
        "conversion_pre_pre"
      ],
      "execution_count": 0,
      "outputs": []
    },
    {
      "metadata": {
        "id": "NILd3QyApVTL",
        "colab_type": "text"
      },
      "cell_type": "markdown",
      "source": [
        "## Are people meeting their pledges (during campaign)?\n",
        "Comparison of the number of days pledged and actual drink free days achieved. \n",
        "\n",
        "**Method:**  \n",
        "Drink free days achieved are aggregated by week\n",
        "number and then week numbers of pledges are matched to week numbers of drink free days.\n",
        "\n",
        "**NB:** \n",
        "- Pledge table only holds week number for a user when a pledge is set or changed - not for all weeks a user uses the app.\n",
        "- Default MySQL week begins with Sunday, so to make weeks begin with Monday use: ```WEEK(date, 1)``` instead of ```WEEK(date)```"
      ]
    },
    {
      "metadata": {
        "id": "KXDxjdcwp1Kp",
        "colab_type": "code",
        "cellView": "both",
        "colab": {}
      },
      "cell_type": "code",
      "source": [
        "#@title SQL query { vertical-output: true }\n",
        "comparison = sql_to_df(\"\"\"\n",
        "    SELECT\n",
        "        O.id,\n",
        "        WEEK(date, 1) AS week_of_dfds, -- make sure week starts with Monday\n",
        "        WEEK(week, 1) AS pledge_week, -- make sure week starts with Monday\n",
        "        COUNT(date) AS dfds_in_week,        \n",
        "        daycount AS days_pledged_in_week\n",
        "    FROM\n",
        "        g_appdaysoff O\n",
        "    LEFT JOIN -- so that week numbers higher than pledge weeks are included\n",
        "        g_apppledges P\n",
        "    ON\n",
        "        O.id=P.id\n",
        "    AND\n",
        "        WEEK(date, 1)=WEEK(week, 1) -- comparing like for like weeks\n",
        "    WHERE\n",
        "        YEAR(date) = 2018 -- else week days from other years are pulled in\n",
        "    AND\n",
        "        WEEK(date, 1) >= 37 -- campaign start week is 37\n",
        "    GROUP BY\n",
        "        id, week_of_dfds\n",
        "    \"\"\")\n",
        "\n",
        "comparison.head()\n"
      ],
      "execution_count": 0,
      "outputs": []
    },
    {
      "metadata": {
        "id": "3r5IEBqy86Fj",
        "colab_type": "text"
      },
      "cell_type": "markdown",
      "source": [
        "### The quick version (smaller data sample)\n",
        "Remove missing pledge week values and keep only like for like weeks.\n",
        "\n",
        "Pledges table only holds weeks for when a pledge was initially set or altered by a user.  \n",
        "\n",
        "Number of users in each category is not sum of all users as some are counted more than once if they alter their pledges. "
      ]
    },
    {
      "metadata": {
        "id": "0SaSXW3Rk0WY",
        "colab_type": "code",
        "cellView": "both",
        "colab": {}
      },
      "cell_type": "code",
      "source": [
        "#@title Table\n",
        "# remove missing values that are there because of LEFT JOIN\n",
        "comparison_quick = comparison.dropna(inplace=False)\n",
        "\n",
        "# change days pledged values from float to integer\n",
        "comparison_quick = comparison_quick.astype(\n",
        "    {'days_pledged_in_week': 'int'}) \n",
        "\n",
        "# group data by days pledged\n",
        "comparison_quick = round(\n",
        "    comparison_quick.groupby('days_pledged_in_week',\n",
        "                             as_index=False).agg(\n",
        "                                {\n",
        "                                    'dfds_in_week': 'mean',\n",
        "                                    'id': 'nunique'\n",
        "                                }), 1)\n",
        "\n",
        "# rename columns for clarity\n",
        "comparison_quick.rename(columns={\n",
        "                            'dfds_in_week': 'avg_achieved',\n",
        "                            'id': 'num_of_users'\n",
        "                        },\n",
        "                        inplace=True)\n",
        "\n",
        "# create new column with percentages\n",
        "comparison_quick['%_of_target'] = round(\n",
        "    comparison_quick['avg_achieved'] /\n",
        "    comparison_quick['days_pledged_in_week']*100, 1)\n",
        "\n",
        "comparison_quick\n"
      ],
      "execution_count": 0,
      "outputs": []
    },
    {
      "metadata": {
        "id": "5SnPoOOPmgmr",
        "colab_type": "code",
        "cellView": "both",
        "colab": {}
      },
      "cell_type": "code",
      "source": [
        "#@title Chart\n",
        "import altair as alt\n",
        "\n",
        "bubble_quick = alt.Chart(\n",
        "    comparison_quick,\n",
        "    title='Are people meeting their pledges?').mark_point(\n",
        ").encode(\n",
        "    alt.X('days_pledged_in_week',\n",
        "          title='Number of days pledged',\n",
        "          scale=alt.Scale(domain=[0, 8])),\n",
        "    alt.Y('%_of_target',\n",
        "          title='% of pledge met (on average)'),\n",
        "    size=alt.Size('num_of_users',\n",
        "                  legend=alt.Legend(title='Number of users')),\n",
        "    tooltip=['%_of_target',\n",
        "             'num_of_users']\n",
        ")\n",
        "\n",
        "rule_quick = alt.Chart(\n",
        "    comparison_quick).mark_rule(color='orange').encode(\n",
        "    y='mean(%_of_target)',\n",
        "    size=alt.value(2),\n",
        "    tooltip=['mean(%_of_target)']\n",
        ")\n",
        "\n",
        "bubble_quick + rule_quick\n"
      ],
      "execution_count": 0,
      "outputs": []
    },
    {
      "metadata": {
        "id": "99DfGuQuFfHx",
        "colab_type": "text"
      },
      "cell_type": "markdown",
      "source": [
        "### The longer version (larger data sample)\n",
        "\n",
        "Replacing most missing values for pledges by copying the last set value into the weeks a user is clocking drink free days.\n",
        "\n",
        "That's needed because the pledges table only holds weeks for when a pledge was initially set or altered.\n",
        "\n",
        "**Q: Does the data frame need sorting by id and week numbers first?**"
      ]
    },
    {
      "metadata": {
        "id": "zmFg34_095hb",
        "colab_type": "code",
        "colab": {}
      },
      "cell_type": "code",
      "source": [
        "comparison.head()"
      ],
      "execution_count": 0,
      "outputs": []
    },
    {
      "metadata": {
        "id": "DWJyseUXfV_D",
        "colab_type": "code",
        "cellView": "both",
        "colab": {}
      },
      "cell_type": "code",
      "source": [
        "# @title Table\n",
        "# reduce dataframe size for for loop\n",
        "comparison_long = comparison.astype({'week_of_dfds': 'category',\n",
        "                                     'dfds_in_week': 'category',\n",
        "                                     'pledge_week': 'category',\n",
        "                                     'days_pledged_in_week': 'category'})\n",
        "\n",
        "user = comparison_long['id']\n",
        "pledge = comparison_long['days_pledged_in_week']\n",
        "\n",
        "# fill days_pledged according to these rules\n",
        "for i in range(len(comparison)):\n",
        "    if pd.isnull(pledge.iloc[i]):\n",
        "        if user.iloc[i] == user.iloc[i-1]:\n",
        "            pledge.iloc[i] = pledge.iloc[i-1]\n",
        "        else:\n",
        "            pass\n",
        "    else:\n",
        "        pass\n",
        "\n",
        "# remove rows with NaN in days_pledged\n",
        "comparison_long = comparison_long.loc[\n",
        "    pd.notna(comparison_long['days_pledged_in_week'])]\n",
        "\n",
        "# change data types\n",
        "comparison_long = comparison_long.astype(\n",
        "    {\n",
        "        'days_pledged_in_week': 'int',\n",
        "        'dfds_in_week': 'int'\n",
        "    })\n",
        "\n",
        "# group data by days pledged\n",
        "comparison_long = round(\n",
        "    comparison_long.groupby('days_pledged_in_week',\n",
        "                            as_index=False).agg(\n",
        "                                   {\n",
        "                                         'dfds_in_week': 'mean',\n",
        "                                         'id': 'nunique'\n",
        "                                    }), 1)\n",
        "\n",
        "# rename columns for clarity\n",
        "comparison_long.rename(columns={\n",
        "                                 'dfds_in_week': 'avg_achieved',\n",
        "                                 'id': 'num_of_users'\n",
        "                               },\n",
        "                       inplace=True)\n",
        "\n",
        "# create new column with percentages\n",
        "comparison_long['%_of_target'] = round(\n",
        "    comparison_long['avg_achieved'] /\n",
        "    comparison_long['days_pledged_in_week']*100, 1)\n",
        "\n",
        "comparison_long\n"
      ],
      "execution_count": 0,
      "outputs": []
    },
    {
      "metadata": {
        "id": "bbFJ596xkGRr",
        "colab_type": "code",
        "cellView": "both",
        "colab": {}
      },
      "cell_type": "code",
      "source": [
        "# @title Chart\n",
        "# import altair as alt\n",
        "\n",
        "bubble = alt.Chart(\n",
        "    comparison_long,\n",
        "    title='Are people meeting their pledges?').mark_point(\n",
        ").encode(\n",
        "    alt.X('days_pledged_in_week',\n",
        "          title='Number of days pledged',\n",
        "          scale=alt.Scale(domain=[0, 8])),\n",
        "    alt.Y('%_of_target',\n",
        "          title='% of pledge met (on average)'),\n",
        "    size=alt.Size('num_of_users',\n",
        "                  legend=alt.Legend(title=\"Number of users\")),\n",
        "    tooltip=['%_of_target',\n",
        "             'num_of_users']\n",
        ")\n",
        "\n",
        "rule = alt.Chart(comparison_long).mark_rule(color='orange').encode(\n",
        "    y='mean(%_of_target)',\n",
        "    size=alt.value(2),\n",
        "    tooltip=['mean(%_of_target)']\n",
        ")\n",
        "\n",
        "bubble + rule\n"
      ],
      "execution_count": 0,
      "outputs": []
    },
    {
      "metadata": {
        "id": "AhRdxjVJKRfG",
        "colab_type": "text"
      },
      "cell_type": "markdown",
      "source": [
        "## Are people meeting their plredges (pre campaign)?\n",
        "Same as above (quick version) with pre-campaign weeks in 2018."
      ]
    },
    {
      "metadata": {
        "id": "WedIgzSGKXcE",
        "colab_type": "code",
        "cellView": "both",
        "colab": {}
      },
      "cell_type": "code",
      "source": [
        "# @title SQL query\n",
        "comparisonPRE = sql_to_df(\"\"\"\n",
        "    SELECT\n",
        "        O.id,\n",
        "        WEEK(date, 1) AS week_of_dfds, -- make sure week starts with Monday\n",
        "        WEEK(week, 1) AS pledge_week, -- make sure week starts with Monday\n",
        "        COUNT(date) AS dfds_in_week,        \n",
        "        daycount AS days_pledged_in_week\n",
        "    FROM\n",
        "        g_appdaysoff O\n",
        "    LEFT JOIN\n",
        "        g_apppledges P\n",
        "    ON\n",
        "        O.id=P.id\n",
        "    AND\n",
        "        WEEK(date, 1)=WEEK(week, 1) -- comparing like for like weeks\n",
        "    WHERE\n",
        "        YEAR(date) = 2018 -- else week days from other years are pulled in\n",
        "    AND\n",
        "        WEEK(date, 1) < 37 -- campaign start week is 37\n",
        "    GROUP BY\n",
        "        id, week_of_dfds\n",
        "    \"\"\")\n",
        "\n",
        "# comparisonPRE.head()\n"
      ],
      "execution_count": 0,
      "outputs": []
    },
    {
      "metadata": {
        "id": "zqRUEhEWLn7H",
        "colab_type": "code",
        "cellView": "both",
        "colab": {}
      },
      "cell_type": "code",
      "source": [
        "# @title Table\n",
        "# remove missing values\n",
        "comparison_quick2 = comparisonPRE.dropna(inplace=False)\n",
        "\n",
        "# change days pledged values from float to integer\n",
        "comparison_quick2 = comparison_quick2.astype({'days_pledged_in_week': 'int'}) \n",
        "\n",
        "# group data by days pledged\n",
        "comparison_quick2 = round(\n",
        "    comparison_quick2.groupby('days_pledged_in_week',\n",
        "                              as_index=False).agg(\n",
        "                                 {\n",
        "                                     'dfds_in_week': 'mean',\n",
        "                                     'id': 'nunique'\n",
        "                                 }), 1)\n",
        "\n",
        "# rename columns for clarity\n",
        "comparison_quick2.rename(columns={\n",
        "                             'dfds_in_week': 'avg_achieved',\n",
        "                             'id': 'num_of_users'\n",
        "                         },\n",
        "                         inplace=True)\n",
        "\n",
        "# create new column with percentages\n",
        "comparison_quick2['%_of_target'] = round(\n",
        "    comparison_quick2['avg_achieved'] /\n",
        "    comparison_quick2['days_pledged_in_week']*100, 1)\n",
        "\n",
        "comparison_quick2\n"
      ],
      "execution_count": 0,
      "outputs": []
    },
    {
      "metadata": {
        "id": "PfU4cRLl2Zio",
        "colab_type": "code",
        "cellView": "both",
        "colab": {}
      },
      "cell_type": "code",
      "source": [
        "#@title Chart\n",
        "bubble2 = alt.Chart(\n",
        "    comparison_quick2,\n",
        "    title='Are people meeting their pledges?').mark_point(\n",
        ").encode(\n",
        "    alt.X('days_pledged_in_week',\n",
        "          title='Number of days pledged',\n",
        "          scale=alt.Scale(domain=[0, 8])),\n",
        "    alt.Y('%_of_target',\n",
        "          title='% of pledge met (on average)'),\n",
        "    size=alt.Size('num_of_users',\n",
        "                  legend=alt.Legend(title=\"Number of users\")),\n",
        "    tooltip=['%_of_target',\n",
        "             'num_of_users']\n",
        ")\n",
        "\n",
        "rule2 = alt.Chart(comparison_quick2).mark_rule(color='orange').encode(\n",
        "    y='mean(%_of_target)',\n",
        "    size=alt.value(2),\n",
        "    tooltip=['mean(%_of_target)']\n",
        ")\n",
        "\n",
        "bubble2 + rule2\n"
      ],
      "execution_count": 0,
      "outputs": []
    },
    {
      "metadata": {
        "id": "hjJIZQnLW1nt",
        "colab_type": "text"
      },
      "cell_type": "markdown",
      "source": [
        "## Are people increasing their pledges (during campaign)?\n",
        "Data caveats, assumptions and metodology:\n",
        "- users can join and not pledge until later\n",
        "- users selection details: see WHERE statements in SQL query\n",
        "- pledges table doesn't hold records for all weeks (just last change of pleding)\n",
        "- if people stopped using the app we assume their last pledged number of days remains (for simplicity) i.e. they didn't increase their pledging which is what we're interested in anyway\n",
        "- dropping those who (in the weeks we're looking at):\n",
        " - do not pledge at all \n",
        " - do not change thier pledge at all"
      ]
    },
    {
      "metadata": {
        "id": "wDkKMWV3piF0",
        "colab_type": "code",
        "cellView": "both",
        "colab": {}
      },
      "cell_type": "code",
      "source": [
        "#@title SQL query\n",
        "pledges = sql_to_df(\"\"\"\n",
        "    SELECT\n",
        "        P.id,\n",
        "        WEEK(week, 1) AS pledge_week,\n",
        "        daycount AS days_pledged\n",
        "    FROM\n",
        "        g_apppledges P\n",
        "    INNER JOIN\n",
        "        g_appusers U\n",
        "    ON\n",
        "        P.id=U.id\n",
        "    WHERE\n",
        "        gender LIKE '%ale' -- exclude empty values in gender\n",
        "    AND\n",
        "        age BETWEEN 19 AND 79 -- 18 and 80+ are outliers\n",
        "    AND\n",
        "        YEAR(joined) = 2018 -- important for week number calculations\n",
        "    AND\n",
        "        WEEK(joined, 1) = 37 -- joined in the first week of campaign\n",
        "    AND\n",
        "        WEEK(lastseen, 1) >= 38 -- at least in the next week after launch\n",
        "    ORDER BY\n",
        "        id, pledge_week\n",
        "        \"\"\")\n",
        "\n",
        "# pledges.head()\n"
      ],
      "execution_count": 0,
      "outputs": []
    },
    {
      "metadata": {
        "id": "yVPb5eTVprV5",
        "colab_type": "text"
      },
      "cell_type": "markdown",
      "source": [
        "#### Dataframe manipulation"
      ]
    },
    {
      "metadata": {
        "id": "swm9vkhnM3l_",
        "colab_type": "code",
        "colab": {}
      },
      "cell_type": "code",
      "source": [
        "def pledge_columns(df=pledges):\n",
        "    \"\"\"\n",
        "    Create columns for pledge weeks in range.\n",
        "    \"\"\"\n",
        "    for week in range(37, 43):\n",
        "        col_name = f\"pledge_{week}\"\n",
        "        df.loc[df['pledge_week'] == week,\n",
        "               col_name] = df['days_pledged']\n",
        "        df.fillna(0, inplace=True)\n",
        "    return df\n",
        "\n",
        "# call the function\n",
        "pledge_columns();\n"
      ],
      "execution_count": 0,
      "outputs": []
    },
    {
      "metadata": {
        "id": "LTwwc8CZrTmA",
        "colab_type": "code",
        "colab": {}
      },
      "cell_type": "code",
      "source": [
        "# drop redundant columns\n",
        "pledges.drop(columns=['pledge_week',\n",
        "                     'days_pledged'],\n",
        "            inplace=True)\n",
        "\n",
        "# group dataframe by users\n",
        "# call .sum() on the groupby object because\n",
        "# there's at most one non-zero value per given week per user\n",
        "pledges = pledges.groupby('id', as_index=False).sum()\n",
        "\n",
        "pledges.head()\n"
      ],
      "execution_count": 0,
      "outputs": []
    },
    {
      "metadata": {
        "id": "Fy-2R5k8W4kB",
        "colab_type": "text"
      },
      "cell_type": "markdown",
      "source": [
        "**Next step explanation:**\n",
        "\n",
        "Because the pledges table doesn't hold data for all weeks a user is using the app we need to populate the subsequent weeks from the week a pledge was set or changed.\n",
        "\n",
        "For simplicity, users who stopped using the app are given the last pledge value set for subsequent weeks. Alternative solution would be to only look at users who were last seen in the last (or later) week of the period we're looking at.\n",
        "\n",
        "Note: Pledge can't be set to zero."
      ]
    },
    {
      "metadata": {
        "id": "KKHY20y2xSV7",
        "colab_type": "code",
        "colab": {}
      },
      "cell_type": "code",
      "source": [
        "# range starts at earliest week+1\n",
        "for week in range(38, 43):\n",
        "    pledges.loc[(pledges[f\"pledge_{week}\"] == 0) &\n",
        "                (pledges[f\"pledge_{week-1}\"] != 0),\n",
        "                f\"pledge_{week}\"] = pledges[f\"pledge_{week-1}\"]\n",
        "\n",
        "pledges.head()\n"
      ],
      "execution_count": 0,
      "outputs": []
    },
    {
      "metadata": {
        "id": "wLDSvMyU_r4P",
        "colab_type": "code",
        "colab": {}
      },
      "cell_type": "code",
      "source": [
        "# increased pledging or started to pledge\n",
        "# if value in week 37 < avg. value in remaining weeks\n",
        "increased = pledges.loc[pledges['pledge_37'] <\n",
        "                        pledges.iloc[:, 2:].sum(axis=1) /\n",
        "                        len(pledges.iloc[:, 2:].columns)]\n",
        "\n",
        "# increased.head()\n"
      ],
      "execution_count": 0,
      "outputs": []
    },
    {
      "metadata": {
        "id": "gRWrP2CeBK4E",
        "colab_type": "code",
        "colab": {}
      },
      "cell_type": "code",
      "source": [
        "# decreased pledging \n",
        "# if value in week 37 > avg. value in remaining weeks\n",
        "decreased = pledges.loc[pledges['pledge_37'] >\n",
        "                        pledges.iloc[:, 2:].sum(axis=1) /\n",
        "                        len(pledges.iloc[:, 2:].columns)]\n",
        "\n",
        "# decreased.head()\n"
      ],
      "execution_count": 0,
      "outputs": []
    },
    {
      "metadata": {
        "colab_type": "text",
        "id": "C2Rlp4W601-Y"
      },
      "cell_type": "markdown",
      "source": [
        "### Results in counts and percentages"
      ]
    },
    {
      "metadata": {
        "id": "t-wfBQOyBREg",
        "colab_type": "code",
        "cellView": "form",
        "colab": {}
      },
      "cell_type": "code",
      "source": [
        "#@title\n",
        "print(f\"Total users: {pledges['id'].nunique()}\")\n",
        "      \n",
        "print(f\"Users who increased pledges: {len(increased)} \\\n",
        "({round(len(increased)/pledges['id'].nunique()*100, 1)}%)\")\n",
        "\n",
        "print(f\"Users who decreased pledges: {len(decreased)} \\\n",
        "({round(len(decreased)/pledges['id'].nunique()*100, 1)}%)\")\n"
      ],
      "execution_count": 0,
      "outputs": []
    },
    {
      "metadata": {
        "id": "K4WDp1v0aMiB",
        "colab_type": "text"
      },
      "cell_type": "markdown",
      "source": [
        "### Most common pledge settings and changes among app users"
      ]
    },
    {
      "metadata": {
        "id": "T95XRkElpJJd",
        "colab_type": "code",
        "cellView": "form",
        "colab": {}
      },
      "cell_type": "code",
      "source": [
        "#@title\n",
        "# aggregate by pledge columns and add count of users\n",
        "grouped = pledges.groupby(by=pledges.columns[1:].tolist(),\n",
        "                as_index=False)['id'].count()\n",
        "\n",
        "# rename column for clarity\n",
        "grouped.rename(columns={'id': 'num_of_users'},\n",
        "               inplace=True)\n",
        "\n",
        "# create a percentage column\n",
        "grouped['%_of_total'] = round(\n",
        "    grouped['num_of_users'] /\n",
        "    grouped['num_of_users'].sum()*100, 1)\n",
        "\n",
        "# sort by the most common pledge journey\n",
        "grouped.sort_values('%_of_total',\n",
        "                    ascending=False).head(20)\n"
      ],
      "execution_count": 0,
      "outputs": []
    },
    {
      "metadata": {
        "id": "2QoklC8aI4I-",
        "colab_type": "text"
      },
      "cell_type": "markdown",
      "source": [
        "## Pledge days"
      ]
    },
    {
      "metadata": {
        "id": "nciUp2fWHi1T",
        "colab_type": "text"
      },
      "cell_type": "markdown",
      "source": [
        "### Most popular day combinations\n",
        "1 = Monday ... 0 = Sunday"
      ]
    },
    {
      "metadata": {
        "id": "iZ7TOWOHCGS0",
        "colab_type": "code",
        "colab": {}
      },
      "cell_type": "code",
      "source": [
        "pledgeDayCombi = sql_to_df(\n",
        "    \"\"\"\n",
        "    SELECT\n",
        "        COUNT(DISTINCT id) AS number_of_users,\n",
        "        daycount AS number_of_days_pledged,\n",
        "        days AS day_combinations\n",
        "    FROM\n",
        "        g_apppledges\n",
        "    WHERE\n",
        "        days IS NOT NULL\n",
        "    GROUP BY \n",
        "        days, daycount\n",
        "\tORDER BY\n",
        "\t\tcount(distinct id) desc, daycount DESC \n",
        "    \"\"\")\n",
        "\n",
        "# ordering values\n",
        "pledgeDayCombi.sort_values('number_of_users',\n",
        "                           ascending=False,\n",
        "                           inplace=True)\n",
        "\n",
        "pledgeDayCombi.head(10)\n"
      ],
      "execution_count": 0,
      "outputs": []
    },
    {
      "metadata": {
        "id": "L8SnZ7CxIBNw",
        "colab_type": "code",
        "colab": {}
      },
      "cell_type": "code",
      "source": [
        "alt.Chart(pledgeDayCombi).mark_bar().encode(\n",
        "    #y='day combinations',\n",
        "    #x='number of users'\n",
        "    x=alt.X('number_of_users', sort=\"ascending\"),\n",
        "    y=alt.Y('day_combinations', sort=\"ascending\")\n",
        ")"
      ],
      "execution_count": 0,
      "outputs": []
    },
    {
      "metadata": {
        "id": "QMmkoqyyM2Fc",
        "colab_type": "text"
      },
      "cell_type": "markdown",
      "source": [
        "## User-level pledge journeys (visual data analysis)\n",
        "Experimental..."
      ]
    },
    {
      "metadata": {
        "id": "D2Oq551XrgHZ",
        "colab_type": "code",
        "colab": {}
      },
      "cell_type": "code",
      "source": [
        "# only keep users who either increase or decrease pledges\n",
        "journeys = pledges.loc[\n",
        "    pledges['pledge_37'] != pledges.iloc[:,1:].sum(axis=1) / 6]\n",
        "journeys.set_index('id', inplace=True)\n",
        "journeys.head()"
      ],
      "execution_count": 0,
      "outputs": []
    },
    {
      "metadata": {
        "id": "bgE0n3mokJFj",
        "colab_type": "code",
        "colab": {}
      },
      "cell_type": "code",
      "source": [
        "journeys.loc[\n",
        "    journeys['pledge_37'] == 0].T.plot(\n",
        "        legend=False, \n",
        "        alpha=0.1, \n",
        "        figsize=(12,8), \n",
        "        title='User journeys with pledge at 0 in first week');\n"
      ],
      "execution_count": 0,
      "outputs": []
    },
    {
      "metadata": {
        "id": "e2h9Oy8Am9-k",
        "colab_type": "code",
        "colab": {}
      },
      "cell_type": "code",
      "source": [
        "journeys.loc[\n",
        "    journeys['pledge_37'] == 1].T.plot(\n",
        "        legend=False, \n",
        "        alpha=0.3, \n",
        "        figsize=(12,8), \n",
        "        title='User journeys with pledge at 1 in first week');\n"
      ],
      "execution_count": 0,
      "outputs": []
    },
    {
      "metadata": {
        "id": "D4cyAtW4nD15",
        "colab_type": "code",
        "colab": {}
      },
      "cell_type": "code",
      "source": [
        "journeys.loc[\n",
        "    journeys['pledge_37'] == 2].T.plot(\n",
        "        legend=False, \n",
        "        alpha=0.1, \n",
        "        figsize=(12,8), \n",
        "        title='User journeys with pledge at 2 in first week');\n"
      ],
      "execution_count": 0,
      "outputs": []
    },
    {
      "metadata": {
        "id": "j-JNV14OnKya",
        "colab_type": "code",
        "colab": {}
      },
      "cell_type": "code",
      "source": [
        "journeys.loc[\n",
        "    journeys['pledge_37'] == 3].T.plot(\n",
        "        legend=False, \n",
        "        alpha=0.1, \n",
        "        figsize=(12,8), \n",
        "        title='User journeys with pledge at 3 in first week');\n"
      ],
      "execution_count": 0,
      "outputs": []
    },
    {
      "metadata": {
        "id": "-J98C6iinOGS",
        "colab_type": "code",
        "colab": {}
      },
      "cell_type": "code",
      "source": [
        "journeys.loc[\n",
        "    journeys['pledge_37'] == 4].T.plot(\n",
        "        legend=False, \n",
        "        alpha=0.1, \n",
        "        figsize=(12,8), \n",
        "        title='User journeys with pledge at 4 in first week');\n"
      ],
      "execution_count": 0,
      "outputs": []
    },
    {
      "metadata": {
        "id": "KWU5x64cnSPd",
        "colab_type": "code",
        "colab": {}
      },
      "cell_type": "code",
      "source": [
        "journeys.loc[\n",
        "    journeys['pledge_37'] == 5].T.plot(\n",
        "        legend=False, \n",
        "        alpha=0.1, \n",
        "        figsize=(12,8), \n",
        "        title='User journeys with pledge at 5 in first week');\n"
      ],
      "execution_count": 0,
      "outputs": []
    },
    {
      "metadata": {
        "id": "8mVv-j0SnUpX",
        "colab_type": "code",
        "colab": {}
      },
      "cell_type": "code",
      "source": [
        "journeys.loc[\n",
        "    journeys['pledge_37'] == 6].T.plot(\n",
        "        legend=False, \n",
        "        alpha=0.1, \n",
        "        figsize=(12,8), \n",
        "        title='User journeys with pledge at 6 in first week');\n"
      ],
      "execution_count": 0,
      "outputs": []
    },
    {
      "metadata": {
        "id": "xbdXHCF2nX2j",
        "colab_type": "code",
        "colab": {}
      },
      "cell_type": "code",
      "source": [
        "journeys.loc[\n",
        "    journeys['pledge_37'] == 7].T.plot(\n",
        "        legend=False, \n",
        "        alpha=0.1, \n",
        "        figsize=(12,8), \n",
        "        title='User journeys with pledge at 7 in first week');\n"
      ],
      "execution_count": 0,
      "outputs": []
    },
    {
      "metadata": {
        "id": "cR14OSSnnnXH",
        "colab_type": "code",
        "colab": {}
      },
      "cell_type": "code",
      "source": [
        "journeys.loc[\n",
        "    journeys['pledge_38'] == 0].T.plot(\n",
        "        legend=False, \n",
        "        alpha=0.1, \n",
        "        figsize=(12,8), \n",
        "        title='User journeys with pledge at 0 in SECOND week');\n"
      ],
      "execution_count": 0,
      "outputs": []
    }
  ]
}