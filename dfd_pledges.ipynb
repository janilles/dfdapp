{
  "nbformat": 4,
  "nbformat_minor": 0,
  "metadata": {
    "colab": {
      "name": "dfd_pledges.ipynb",
      "version": "0.3.2",
      "provenance": [],
      "private_outputs": true,
      "collapsed_sections": [
        "i0C0jUBOJejP",
        "uFEwDPG2HkxA",
        "Jybkdb9UugTL",
        "ZUVy5ewwrxte",
        "CszBFySS2WBM"
      ],
      "toc_visible": true,
      "include_colab_link": true
    },
    "kernelspec": {
      "name": "python3",
      "display_name": "Python 3"
    },
    "accelerator": "GPU"
  },
  "cells": [
    {
      "cell_type": "markdown",
      "metadata": {
        "id": "view-in-github",
        "colab_type": "text"
      },
      "source": [
        "[View in Colaboratory](https://colab.research.google.com/github/janilles/dfdapp/blob/master/dfd_pledges.ipynb)"
      ]
    },
    {
      "metadata": {
        "id": "hVd7cCkUJNjW",
        "colab_type": "text"
      },
      "cell_type": "markdown",
      "source": [
        "# Drink Free Days - Pledges\n",
        "From AWS RDS using PyMySQL "
      ]
    },
    {
      "metadata": {
        "id": "i0C0jUBOJejP",
        "colab_type": "text"
      },
      "cell_type": "markdown",
      "source": [
        "## Install PyDrive for loading files from Google Drive\n",
        "https://pythonhosted.org/PyDrive/index.html"
      ]
    },
    {
      "metadata": {
        "id": "i-uwdb3-J8B8",
        "colab_type": "code",
        "colab": {}
      },
      "cell_type": "code",
      "source": [
        "# added -q for suppressing output\n",
        "!pip install -U -q PyDrive\n",
        "\n",
        "# see PyDrive documentation for libraries code snippets\n",
        "from pydrive.auth import GoogleAuth\n",
        "from pydrive.drive import GoogleDrive\n",
        "from google.colab import auth\n",
        "from oauth2client.client import GoogleCredentials\n",
        "\n",
        "# authenticate and create the PyDrive client\n",
        "auth.authenticate_user()\n",
        "gauth = GoogleAuth()\n",
        "gauth.credentials = GoogleCredentials.get_application_default()\n",
        "drive = GoogleDrive(gauth)"
      ],
      "execution_count": 0,
      "outputs": []
    },
    {
      "metadata": {
        "id": "uFEwDPG2HkxA",
        "colab_type": "text"
      },
      "cell_type": "markdown",
      "source": [
        "### Create and upload a text file with PyDrive (if needed)"
      ]
    },
    {
      "metadata": {
        "id": "zxnYzk-HLJxL",
        "colab_type": "text"
      },
      "cell_type": "markdown",
      "source": [
        "```python\n",
        "uploaded = drive.CreateFile({'title': 'sample_file.txt'})\n",
        "uploaded.SetContentString('Sample file content.')\n",
        "uploaded.Upload()\n",
        "print('Uploaded file with ID {}'.format(uploaded.get('id')))\n",
        "```"
      ]
    },
    {
      "metadata": {
        "id": "Jybkdb9UugTL",
        "colab_type": "text"
      },
      "cell_type": "markdown",
      "source": [
        "### Get the Google Drive IDs of your file (if needed)"
      ]
    },
    {
      "metadata": {
        "id": "Z1rPVpFdOJac",
        "colab_type": "text"
      },
      "cell_type": "markdown",
      "source": [
        "You will need your file's google Drive ID to load the content of the text file into a variable with PyDrive.  \n",
        "\n",
        "To get the ID, you can: \n",
        "#### Right-click on the file in your Google Drive and selcet 'Get shareable link' which gives you a URL with 'id=' in it.\n",
        "  \n",
        "Alternatively, you can obtain the ID directly from the notebook by running this code:  \n",
        "\n",
        "- Step 1:   \n",
        "Get your file's ID.  To get a list of all the file and folder IDs in the root folder:\n",
        "```python\n",
        "file_list = drive.ListFile({'q': \"'root' in parents and trashed=false\"}).GetList()\n",
        "for file1 in file_list:\n",
        "print(\"File %s\\n\\n\",(file1))\n",
        "```\n",
        "You can replace ```'root'``` with the folder ID your file is in. You can either get the folder ID from the web interface: ```drive.google.com/drive/u/0/folders/<folder ID>```  \n",
        "or have PyDrive list the IDs for you:\n",
        "```python\n",
        "# Paginate file lists and specify number of max results if necessary\n",
        "for file_list in drive.ListFile({'q': 'trashed=False', 'maxResults': 10}):\n",
        "  print('Received %s files from Files.list()' % len(file_list)) # <= 10\n",
        "  for file1 in file_list:\n",
        "      print('title: %s, id: %s' % (file1['title'], file1['id']))\n",
        "    ```\n",
        "- Step 2:   \n",
        "Load the file.\n",
        "```python\n",
        "downloaded = drive.CreateFile({'id': '<file ID>'})\n",
        "# you can print the content of the text file to check it\n",
        "print('Downloaded content \"{}\"'.format(downloaded.GetContentString()))\n",
        "```\n"
      ]
    },
    {
      "metadata": {
        "id": "ZUVy5ewwrxte",
        "colab_type": "text"
      },
      "cell_type": "markdown",
      "source": [
        "### Load the file's content (i.e. the password) into a variable"
      ]
    },
    {
      "metadata": {
        "id": "5aAq_cyXORAC",
        "colab_type": "code",
        "colab": {}
      },
      "cell_type": "code",
      "source": [
        "# insert ID of the file with the password\n",
        "# comment out the other user when running this cell\n",
        "\n",
        "# Jan's file\n",
        "passwd_file = drive.CreateFile({'id': '1YnGugBHvqjJk0nbTqN-683Agb0vaZKHo'}) \n",
        "\n",
        "# Tacey's file\n",
        "# passwd_file = drive.CreateFile({'id': ' '}) \n",
        "\n",
        "# load the password as a string into a variable\n",
        "# you will use this variable in pymysql connection\n",
        "# instead of the actual password string\n",
        "user_passwd = passwd_file.GetContentString()"
      ],
      "execution_count": 0,
      "outputs": []
    },
    {
      "metadata": {
        "id": "3QhdNMalfDmU",
        "colab_type": "text"
      },
      "cell_type": "markdown",
      "source": [
        "## Connect to AWS database via PyMySQL\n",
        "### Retrun SQL queries as Pandas dataframes\n",
        "Pandas ```read_sql``` [documentation](https://pandas.pydata.org/pandas-docs/stable/generated/pandas.read_sql.html)"
      ]
    },
    {
      "metadata": {
        "id": "_oFep_FLZJ2M",
        "colab_type": "code",
        "colab": {}
      },
      "cell_type": "code",
      "source": [
        "# added -q for suppressing output\n",
        "!pip install -q -U pymysql\n",
        "\n",
        "import pymysql\n",
        "import pandas as pd"
      ],
      "execution_count": 0,
      "outputs": []
    },
    {
      "metadata": {
        "id": "Bc4vHmqKZiyA",
        "colab_type": "code",
        "colab": {}
      },
      "cell_type": "code",
      "source": [
        "def connect():  \n",
        "    return pymysql.connect(\n",
        "        \n",
        "        host = \"df-phereplica3.crqbvr0pveqx.eu-west-1.rds.amazonaws.com\",\n",
        "        \n",
        "        # change user name and password as necessary\n",
        "           \n",
        "        user = \"jan\",\n",
        "        # user = \"tacey\",\n",
        "        passwd = user_passwd, # loaded into variable with PyDrive above\n",
        "   \n",
        "        db = \"daysoff\",\n",
        "        autocommit=True\n",
        "        \n",
        "        )\n",
        "\n",
        "connection = connect()\n",
        "\n",
        "def sql_to_df(sql):\n",
        "    \"\"\"\n",
        "    Returns SQL queries as pandas dataframes\n",
        "    \"\"\"\n",
        "    return pd.read_sql(sql, con = connection)"
      ],
      "execution_count": 0,
      "outputs": []
    },
    {
      "metadata": {
        "id": "3H4vBNdu2omb",
        "colab_type": "text"
      },
      "cell_type": "markdown",
      "source": [
        "# Database tables\n",
        "See [MySQL documentation](https://dev.mysql.com/doc/refman/8.0/en/introduction.html) for SQL syntax."
      ]
    },
    {
      "metadata": {
        "id": "iZPg1ZmMKMFw",
        "colab_type": "code",
        "colab": {}
      },
      "cell_type": "code",
      "source": [
        "# formatting column width of Pandas dataframes\n",
        "# increase column width so that longer comments don't get truncated\n",
        "\n",
        "pd.set_option('max_colwidth',100)"
      ],
      "execution_count": 0,
      "outputs": []
    },
    {
      "metadata": {
        "id": "pABlehhu7nF2",
        "colab_type": "text"
      },
      "cell_type": "markdown",
      "source": [
        "### Pledges table"
      ]
    },
    {
      "metadata": {
        "id": "sXBsb3XT_cG5",
        "colab_type": "code",
        "colab": {}
      },
      "cell_type": "code",
      "source": [
        "# run pd.set_option('max_colwidth',100) if comments column gets truncated\n",
        "\n",
        "sql_to_df(\"\"\"\n",
        "        select \n",
        "            table_name, column_name, data_type, column_comment\n",
        "        from \n",
        "            information_schema.columns\n",
        "        where\n",
        "            table_name = 'g_apppledges'\n",
        "        \"\"\")"
      ],
      "execution_count": 0,
      "outputs": []
    },
    {
      "metadata": {
        "id": "hZ-pBqOs1xlQ",
        "colab_type": "text"
      },
      "cell_type": "markdown",
      "source": [
        "### App users table"
      ]
    },
    {
      "metadata": {
        "id": "PZC5riNj1rMg",
        "colab_type": "code",
        "colab": {}
      },
      "cell_type": "code",
      "source": [
        "# run pd.set_option('max_colwidth',100) if comments column gets truncated\n",
        "\n",
        "sql_to_df(\"\"\"\n",
        "        select \n",
        "            table_name, column_name, data_type, column_comment\n",
        "        from \n",
        "            information_schema.columns\n",
        "        where\n",
        "            table_name = 'g_appusers'\n",
        "        \"\"\")"
      ],
      "execution_count": 0,
      "outputs": []
    },
    {
      "metadata": {
        "id": "8t0NgYmtfl-H",
        "colab_type": "text"
      },
      "cell_type": "markdown",
      "source": [
        "# Reports\n",
        "SQL queries as strings inside ```qud()``` function defined as pymysql connection above.  \n",
        "See [MySQL documentation](https://dev.mysql.com/doc/refman/8.0/en/introduction.html) for SQL syntax reference."
      ]
    },
    {
      "metadata": {
        "id": "JHxn2inNVP90",
        "colab_type": "text"
      },
      "cell_type": "markdown",
      "source": [
        "## Pleges overview in numbers\n",
        "* number of all users (a.k.a. app downloads)\n",
        "* number of users who have pledged \n",
        "* user conversion (from downloading the app to pledging)\n",
        "* number of pledges made\n",
        "* average pledges per pledging user\n",
        "* average pledges per all user (a.k.a. per app downloads)"
      ]
    },
    {
      "metadata": {
        "id": "4OfEggOxPu1G",
        "colab_type": "code",
        "colab": {}
      },
      "cell_type": "code",
      "source": [
        "pledgesOverview = sql_to_df(\n",
        "    \"\"\"\n",
        "    select\n",
        "        count(distinct g_appusers.id) as 'All users',\n",
        "        count(distinct g_apppledges.id) as 'Pledging users',\n",
        "        round(count(distinct g_apppledges.id) / (count(distinct g_appusers.id) /100), 1) as 'User conversion %',\n",
        "        count(g_apppledges.id) as 'Total pledges',\n",
        "        round(count(g_apppledges.id) / count(distinct g_apppledges.id), 1) as 'Pledges/pledging user',\n",
        "        round(count(g_apppledges.id) / count(distinct g_appusers.id), 1) as 'Pledges/all users'\n",
        "    from\n",
        "        daysoff.g_apppledges right join daysoff.g_appusers\n",
        "        on g_apppledges.id=g_appusers.id\n",
        "    \"\"\")\n",
        "\n",
        "pledgesOverview"
      ],
      "execution_count": 0,
      "outputs": []
    },
    {
      "metadata": {
        "id": "iM9THjU28yKv",
        "colab_type": "text"
      },
      "cell_type": "markdown",
      "source": [
        "## Pledges by week"
      ]
    },
    {
      "metadata": {
        "id": "rARPB99plr-U",
        "colab_type": "text"
      },
      "cell_type": "markdown",
      "source": [
        "### SQL query"
      ]
    },
    {
      "metadata": {
        "id": "dNKus1DNloYm",
        "colab_type": "code",
        "colab": {}
      },
      "cell_type": "code",
      "source": [
        "pledges = sql_to_df(\n",
        "    \"\"\"\n",
        "    select\n",
        "        id as 'user id', \n",
        "        week as 'pledged week', \n",
        "        week(week) as 'week number',  \n",
        "        daycount as 'days pledged'\n",
        "    from\n",
        "        daysoff.g_apppledges\n",
        "    \"\"\")\n",
        "\n",
        "pledges.head()"
      ],
      "execution_count": 0,
      "outputs": []
    },
    {
      "metadata": {
        "id": "UoSWjQOHp7zg",
        "colab_type": "code",
        "colab": {}
      },
      "cell_type": "code",
      "source": [
        "pledges.info()"
      ],
      "execution_count": 0,
      "outputs": []
    },
    {
      "metadata": {
        "id": "80OWL3CJqIAf",
        "colab_type": "code",
        "colab": {}
      },
      "cell_type": "code",
      "source": [
        "# converting strings to datetime \n",
        "\n",
        "pledges['pledged week'] = pd.to_datetime(pledges['pledged week'])"
      ],
      "execution_count": 0,
      "outputs": []
    },
    {
      "metadata": {
        "id": "I81ZRW0Rr6kj",
        "colab_type": "text"
      },
      "cell_type": "markdown",
      "source": [
        "### Pledges by week number (2017 and 2018 on the same axis)"
      ]
    },
    {
      "metadata": {
        "id": "J0tdQwnfr9PB",
        "colab_type": "code",
        "colab": {}
      },
      "cell_type": "code",
      "source": [
        "pledges_byWeekNumber = pledges.groupby('week number')['user id'].count()\n",
        "\n",
        "pledges_byWeekNumber.plot(title='Number of pledges by week number (2017 and 2018 on the same axis)');"
      ],
      "execution_count": 0,
      "outputs": []
    },
    {
      "metadata": {
        "id": "4PG56h62GtMY",
        "colab_type": "text"
      },
      "cell_type": "markdown",
      "source": [
        "### Pledges by calendar week"
      ]
    },
    {
      "metadata": {
        "id": "MzsDW1TRFsez",
        "colab_type": "code",
        "colab": {}
      },
      "cell_type": "code",
      "source": [
        "pledges_byCalendarWeek = pledges.groupby('pledged week')['user id'].count()\n",
        "\n",
        "pledges_byCalendarWeek.plot(title='Number of pledges - app history timeline');"
      ],
      "execution_count": 0,
      "outputs": []
    },
    {
      "metadata": {
        "id": "e99w6Ph5ug2F",
        "colab_type": "text"
      },
      "cell_type": "markdown",
      "source": [
        "## How many days do people pledge"
      ]
    },
    {
      "metadata": {
        "id": "BQU4zP-OukG9",
        "colab_type": "code",
        "colab": {}
      },
      "cell_type": "code",
      "source": [
        "pledges_daysPledged = pledges.groupby('days pledged')['user id'].count()\n",
        "\n",
        "pledges_daysPledged.plot(title='How many users pledge how many days');"
      ],
      "execution_count": 0,
      "outputs": []
    },
    {
      "metadata": {
        "id": "vmlZJ40JKE4F",
        "colab_type": "text"
      },
      "cell_type": "markdown",
      "source": [
        "# UNFINISHED FROM HERE"
      ]
    },
    {
      "metadata": {
        "id": "-WpH0h-FwvWi",
        "colab_type": "text"
      },
      "cell_type": "markdown",
      "source": [
        "### Plot pledge count by month"
      ]
    },
    {
      "metadata": {
        "id": "mV8OA8Daw19C",
        "colab_type": "text"
      },
      "cell_type": "markdown",
      "source": [
        "#### Function to extract month"
      ]
    },
    {
      "metadata": {
        "id": "09uwQ9ecw58L",
        "colab_type": "code",
        "colab": {}
      },
      "cell_type": "code",
      "source": [
        "def extractMonthNumber(row):\n",
        "    \"\"\"\n",
        "    Takes the datetime object in column 'week'\n",
        "    and returns the month number from it.\n",
        "    \"\"\"\n",
        "    return row['week'].month\n",
        "\n",
        "pledges['monthNumber'] = pledges.apply(extractMonthNumber, axis=1)\n",
        "\n",
        "pledges.head()"
      ],
      "execution_count": 0,
      "outputs": []
    },
    {
      "metadata": {
        "id": "w586kA4QxaWd",
        "colab_type": "code",
        "colab": {}
      },
      "cell_type": "code",
      "source": [
        "pledges_plot_m = pledges.groupby(['monthNumber', 'daycount'], as_index=False).count()"
      ],
      "execution_count": 0,
      "outputs": []
    },
    {
      "metadata": {
        "id": "zGQI6Ffax6N-",
        "colab_type": "code",
        "colab": {}
      },
      "cell_type": "code",
      "source": [
        "pledges_plot_m.head()"
      ],
      "execution_count": 0,
      "outputs": []
    },
    {
      "metadata": {
        "id": "divP6WSSYynf",
        "colab_type": "text"
      },
      "cell_type": "markdown",
      "source": [
        "#### Pledge by month"
      ]
    },
    {
      "metadata": {
        "id": "bYFTUWeTJ04j",
        "colab_type": "text"
      },
      "cell_type": "markdown",
      "source": [
        "Colour scheme: You can also use ```alt.Color('column name', scale=alt.Scale(scheme='scheme name'))``` where scheme_name is a string that matches any of the available Vega color schemes: https://vega.github.io/vega/docs/schemes/#reference"
      ]
    },
    {
      "metadata": {
        "id": "lwRvw3bHzkci",
        "colab_type": "code",
        "colab": {}
      },
      "cell_type": "code",
      "source": [
        "alt.Chart(pledges_plot_m).mark_line().encode(\n",
        "    x='daycount',\n",
        "    y='id',\n",
        "    color=alt.Color('monthNumber:N', scale=alt.Scale(scheme='tableau20'))\n",
        ")"
      ],
      "execution_count": 0,
      "outputs": []
    },
    {
      "metadata": {
        "id": "CszBFySS2WBM",
        "colab_type": "text"
      },
      "cell_type": "markdown",
      "source": [
        "#### Pledge by month - mormalised - data prep"
      ]
    },
    {
      "metadata": {
        "id": "Pb54ft3kT-EX",
        "colab_type": "code",
        "colab": {}
      },
      "cell_type": "code",
      "source": [
        "pledges_plot_m.head(7)"
      ],
      "execution_count": 0,
      "outputs": []
    },
    {
      "metadata": {
        "id": "o18vKbRVUM93",
        "colab_type": "code",
        "colab": {}
      },
      "cell_type": "code",
      "source": [
        "pledges_plot_mg = pledges_plot_m.groupby(['monthNumber'], as_index=False)['id'].sum()"
      ],
      "execution_count": 0,
      "outputs": []
    },
    {
      "metadata": {
        "id": "j_bq7r7_VtJq",
        "colab_type": "code",
        "colab": {}
      },
      "cell_type": "code",
      "source": [
        "pledges_plot_mg.head()"
      ],
      "execution_count": 0,
      "outputs": []
    },
    {
      "metadata": {
        "id": "IgG7r0K0V3Xa",
        "colab_type": "code",
        "colab": {}
      },
      "cell_type": "code",
      "source": [
        "pledges_plot_mg.columns= ['monthNumber', 'monthSum']\n",
        "pledges_plot_mg.head()"
      ],
      "execution_count": 0,
      "outputs": []
    },
    {
      "metadata": {
        "id": "v9alEFBJWvS8",
        "colab_type": "code",
        "colab": {}
      },
      "cell_type": "code",
      "source": [
        "monthNorm = pd.merge(pledges_plot_m, pledges_plot_mg, how='inner', on='monthNumber')\n",
        "\n",
        "monthNorm.head(14)"
      ],
      "execution_count": 0,
      "outputs": []
    },
    {
      "metadata": {
        "id": "wjgB8IVaXVg_",
        "colab_type": "code",
        "colab": {}
      },
      "cell_type": "code",
      "source": [
        "monthNorm['percent'] = monthNorm['id'] / (monthNorm['monthSum'] / 100)\n",
        "\n",
        "monthNorm.head(14)"
      ],
      "execution_count": 0,
      "outputs": []
    },
    {
      "metadata": {
        "id": "8ACbBjtFYHuo",
        "colab_type": "text"
      },
      "cell_type": "markdown",
      "source": [
        "#### Pledge by month - normalised"
      ]
    },
    {
      "metadata": {
        "id": "_LV-YGqQX3WX",
        "colab_type": "code",
        "colab": {}
      },
      "cell_type": "code",
      "source": [
        "alt.Chart(monthNorm).mark_line().encode(\n",
        "    x='daycount',\n",
        "    y='percent',\n",
        "    color=alt.Color('monthNumber:N', scale=alt.Scale(scheme='tableau20'))\n",
        ")"
      ],
      "execution_count": 0,
      "outputs": []
    },
    {
      "metadata": {
        "id": "P7uVZ4OTPENG",
        "colab_type": "text"
      },
      "cell_type": "markdown",
      "source": [
        "### Plot most popular day off (when only one day is pledged)"
      ]
    },
    {
      "metadata": {
        "id": "WA8YI_4LLP9l",
        "colab_type": "code",
        "colab": {}
      },
      "cell_type": "code",
      "source": [
        "pledges_plot_d = pledges.groupby(['daycount', 'days'], as_index=False).count()\n",
        "\n",
        "pledges_plot_d.head(7)"
      ],
      "execution_count": 0,
      "outputs": []
    },
    {
      "metadata": {
        "id": "c_ecH6KDNwuD",
        "colab_type": "code",
        "colab": {}
      },
      "cell_type": "code",
      "source": [
        "# daycount = 1\n",
        "# when it's just one day pledged\n",
        "# most popular is 1 (which is Tuesday or Monday?)\n",
        "# index 0 == Monday?\n",
        "pledges_plot_d.iloc[0:7,1:3].plot();"
      ],
      "execution_count": 0,
      "outputs": []
    },
    {
      "metadata": {
        "id": "hhXvg4_0Rhpk",
        "colab_type": "code",
        "colab": {}
      },
      "cell_type": "code",
      "source": [
        "daysoff.info()"
      ],
      "execution_count": 0,
      "outputs": []
    },
    {
      "metadata": {
        "id": "ATB0q1IqR1bU",
        "colab_type": "text"
      },
      "cell_type": "markdown",
      "source": [
        "### Function to get week numbers"
      ]
    },
    {
      "metadata": {
        "id": "3-jwV3ZCScqX",
        "colab_type": "code",
        "colab": {}
      },
      "cell_type": "code",
      "source": [
        "# app developers should change the data type of 'date'\n",
        "# from 'object' to 'datetime' so this isn't needed\n",
        "\n",
        "daysoff['date'] = pd.to_datetime(daysoff['date'])"
      ],
      "execution_count": 0,
      "outputs": []
    },
    {
      "metadata": {
        "id": "l3uyae39R4So",
        "colab_type": "code",
        "colab": {}
      },
      "cell_type": "code",
      "source": [
        "def getWeekNumber(row):\n",
        "    \"\"\"\n",
        "    Takes the datetime object in column 'date'\n",
        "    and returns the week number from it.\n",
        "    \"\"\"\n",
        "    return row['date'].week\n",
        "\n",
        "daysoff['weekNumber'] = daysoff.apply(getWeekNumber, axis=1)\n",
        "\n",
        "daysoff.head()"
      ],
      "execution_count": 0,
      "outputs": []
    },
    {
      "metadata": {
        "id": "Xha18pIoomVg",
        "colab_type": "code",
        "colab": {}
      },
      "cell_type": "code",
      "source": [
        "daysoff.info()"
      ],
      "execution_count": 0,
      "outputs": []
    },
    {
      "metadata": {
        "id": "RkJiKrhOoq8M",
        "colab_type": "code",
        "colab": {}
      },
      "cell_type": "code",
      "source": [
        "daysoff = daysoff.groupby(['id', 'weekNumber'], as_index=False)['date'].count()\n",
        "\n",
        "daysoff.head()"
      ],
      "execution_count": 0,
      "outputs": []
    },
    {
      "metadata": {
        "id": "7iL4dxr9pUP4",
        "colab_type": "text"
      },
      "cell_type": "markdown",
      "source": [
        "### Join days off with pledges"
      ]
    },
    {
      "metadata": {
        "id": "WYevtPOtp0xN",
        "colab_type": "code",
        "colab": {}
      },
      "cell_type": "code",
      "source": [
        "pledges.head()"
      ],
      "execution_count": 0,
      "outputs": []
    },
    {
      "metadata": {
        "id": "znXEIdFkqsE7",
        "colab_type": "code",
        "colab": {}
      },
      "cell_type": "code",
      "source": [
        "pledges.drop(columns=['week'], inplace=True)\n",
        "\n",
        "pledges.head()"
      ],
      "execution_count": 0,
      "outputs": []
    },
    {
      "metadata": {
        "id": "DVTxNrxUrT90",
        "colab_type": "code",
        "colab": {}
      },
      "cell_type": "code",
      "source": [
        "pledges = pledges.groupby(['id', 'weekNumber', 'daycount'], as_index=False).count()\n",
        "\n",
        "pledges.sort_values(by='daycount', ascending=False, inplace=True)\n",
        "\n",
        "pledges.head()"
      ],
      "execution_count": 0,
      "outputs": []
    },
    {
      "metadata": {
        "id": "GYDp2OUis7zK",
        "colab_type": "code",
        "colab": {}
      },
      "cell_type": "code",
      "source": [
        "merge = pd.merge(daysoff, pledges, how='inner', on=['id', 'weekNumber'])\n",
        "\n",
        "merge.head()"
      ],
      "execution_count": 0,
      "outputs": []
    },
    {
      "metadata": {
        "id": "Wk0RjZiAtobl",
        "colab_type": "code",
        "colab": {}
      },
      "cell_type": "code",
      "source": [
        "merge.drop(columns=['days'], inplace=True)\n",
        "\n",
        "merge.columns = ['userID', 'weekNumber', 'daysOff', 'daysPledged']\n",
        "\n",
        "merge.head()"
      ],
      "execution_count": 0,
      "outputs": []
    },
    {
      "metadata": {
        "id": "4ENE2OG9fUnV",
        "colab_type": "text"
      },
      "cell_type": "markdown",
      "source": [
        "#### Export df to csv"
      ]
    },
    {
      "metadata": {
        "id": "VQjWSTQXaHGI",
        "colab_type": "code",
        "colab": {}
      },
      "cell_type": "code",
      "source": [
        "merge.to_csv('df.csv', index=False)"
      ],
      "execution_count": 0,
      "outputs": []
    },
    {
      "metadata": {
        "id": "ydl_W68Jajb2",
        "colab_type": "code",
        "colab": {}
      },
      "cell_type": "code",
      "source": [
        "from google.colab import files"
      ],
      "execution_count": 0,
      "outputs": []
    },
    {
      "metadata": {
        "id": "2xuz64OVa6-f",
        "colab_type": "code",
        "colab": {}
      },
      "cell_type": "code",
      "source": [
        "files.download('df.csv')"
      ],
      "execution_count": 0,
      "outputs": []
    },
    {
      "metadata": {
        "id": "2QoklC8aI4I-",
        "colab_type": "text"
      },
      "cell_type": "markdown",
      "source": [
        "#### On the fly quick analysis"
      ]
    },
    {
      "metadata": {
        "id": "mqtR075cvG9F",
        "colab_type": "code",
        "colab": {}
      },
      "cell_type": "code",
      "source": [
        "merge.loc[merge['daysPledged'] > merge['daysOff']].count()"
      ],
      "execution_count": 0,
      "outputs": []
    },
    {
      "metadata": {
        "id": "-Jtxkz1auVoK",
        "colab_type": "code",
        "colab": {}
      },
      "cell_type": "code",
      "source": [
        "merge.loc[merge['daysPledged'] > merge['daysOff']].nunique()"
      ],
      "execution_count": 0,
      "outputs": []
    },
    {
      "metadata": {
        "id": "d5aQnHYdvPv1",
        "colab_type": "code",
        "colab": {}
      },
      "cell_type": "code",
      "source": [
        "merge.loc[merge['daysPledged'] > merge['daysOff']].mean()"
      ],
      "execution_count": 0,
      "outputs": []
    },
    {
      "metadata": {
        "id": "QvHnuRyFvXHc",
        "colab_type": "code",
        "colab": {}
      },
      "cell_type": "code",
      "source": [
        "merge.loc[merge['daysPledged'] <= merge['daysOff']].mean()"
      ],
      "execution_count": 0,
      "outputs": []
    },
    {
      "metadata": {
        "id": "S3paBiCuvct2",
        "colab_type": "code",
        "colab": {}
      },
      "cell_type": "code",
      "source": [
        "merge.loc[merge['daysPledged'] < merge['daysOff']].mean()"
      ],
      "execution_count": 0,
      "outputs": []
    },
    {
      "metadata": {
        "id": "7OKV_3jQy_L7",
        "colab_type": "code",
        "colab": {}
      },
      "cell_type": "code",
      "source": [
        "genAge = sql_to_df(\n",
        "    \"\"\"\n",
        "    SELECT \n",
        "        daysoff.g_appusers.id AS userID,\n",
        "        gender,\n",
        "        age\n",
        "    FROM \n",
        "        daysoff.g_appusers\n",
        "    \"\"\")\n",
        "\n",
        "genAge.head()"
      ],
      "execution_count": 0,
      "outputs": []
    },
    {
      "metadata": {
        "id": "jG-kzbtczmLu",
        "colab_type": "code",
        "colab": {}
      },
      "cell_type": "code",
      "source": [
        "merge2 = pd.merge(merge, genAge, how='inner', on='userID')\n",
        "\n",
        "merge2.head()"
      ],
      "execution_count": 0,
      "outputs": []
    },
    {
      "metadata": {
        "id": "B7nRoTvc1HvP",
        "colab_type": "code",
        "colab": {}
      },
      "cell_type": "code",
      "source": [
        "merge2.nunique()"
      ],
      "execution_count": 0,
      "outputs": []
    },
    {
      "metadata": {
        "id": "X2y5dPr70Wb9",
        "colab_type": "code",
        "colab": {}
      },
      "cell_type": "code",
      "source": [
        "merge2.loc[merge2['daysPledged'] > merge2['daysOff']].mean()"
      ],
      "execution_count": 0,
      "outputs": []
    },
    {
      "metadata": {
        "id": "GtFziJJF0qL8",
        "colab_type": "code",
        "colab": {}
      },
      "cell_type": "code",
      "source": [
        "merge2.loc[merge2['daysPledged'] <= merge2['daysOff']].mean()"
      ],
      "execution_count": 0,
      "outputs": []
    },
    {
      "metadata": {
        "id": "dzOAqIdT0wSZ",
        "colab_type": "code",
        "colab": {}
      },
      "cell_type": "code",
      "source": [
        "merge2.loc[merge2['daysPledged'] > merge2['daysOff']].groupby('gender').count()"
      ],
      "execution_count": 0,
      "outputs": []
    },
    {
      "metadata": {
        "id": "LlR7Kx7Q078N",
        "colab_type": "code",
        "colab": {}
      },
      "cell_type": "code",
      "source": [
        "merge2.loc[merge2['daysPledged'] <= merge2['daysOff']].groupby('gender').count()"
      ],
      "execution_count": 0,
      "outputs": []
    },
    {
      "metadata": {
        "id": "A9zDCPF-1pXw",
        "colab_type": "code",
        "colab": {}
      },
      "cell_type": "code",
      "source": [
        "merge2.loc[(merge2['daysPledged'] <= merge2['daysOff']) & (merge2['gender'] == 'Male')].mean()"
      ],
      "execution_count": 0,
      "outputs": []
    },
    {
      "metadata": {
        "id": "0CgAiAM-2L46",
        "colab_type": "code",
        "colab": {}
      },
      "cell_type": "code",
      "source": [
        "merge2.loc[(merge2['daysPledged'] <= merge2['daysOff']) & (merge2['gender'] == 'Female')].mean()"
      ],
      "execution_count": 0,
      "outputs": []
    },
    {
      "metadata": {
        "id": "Y5yrZz4m2VTD",
        "colab_type": "code",
        "colab": {}
      },
      "cell_type": "code",
      "source": [
        "merge2.loc[(merge2['daysPledged'] > merge2['daysOff']) & (merge2['gender'] == 'Male')].mean()"
      ],
      "execution_count": 0,
      "outputs": []
    },
    {
      "metadata": {
        "id": "KqrjVIbz2YwY",
        "colab_type": "code",
        "colab": {}
      },
      "cell_type": "code",
      "source": [
        "merge2.loc[(merge2['daysPledged'] > merge2['daysOff']) & (merge2['gender'] == 'Female')].mean()"
      ],
      "execution_count": 0,
      "outputs": []
    },
    {
      "metadata": {
        "id": "xqhK4xCp23tT",
        "colab_type": "code",
        "colab": {}
      },
      "cell_type": "code",
      "source": [
        "merge2.loc[(merge2['daysPledged'] > merge2['daysOff']) & \n",
        "           (merge2['gender'] == 'Female') & \n",
        "           (merge2['age'] < 35)].mean()"
      ],
      "execution_count": 0,
      "outputs": []
    },
    {
      "metadata": {
        "id": "17e90aOE3XZg",
        "colab_type": "code",
        "colab": {}
      },
      "cell_type": "code",
      "source": [
        "merge2.loc[(merge2['daysPledged'] > merge2['daysOff']) & \n",
        "           (merge2['gender'] == 'Male') & \n",
        "           (merge2['age'] < 35)].mean()"
      ],
      "execution_count": 0,
      "outputs": []
    },
    {
      "metadata": {
        "id": "0OA2OJPG4Gi-",
        "colab_type": "code",
        "colab": {}
      },
      "cell_type": "code",
      "source": [
        "genAge.mean()"
      ],
      "execution_count": 0,
      "outputs": []
    },
    {
      "metadata": {
        "id": "YkIyx7Lm8SqR",
        "colab_type": "code",
        "colab": {}
      },
      "cell_type": "code",
      "source": [
        "drinks.info()"
      ],
      "execution_count": 0,
      "outputs": []
    },
    {
      "metadata": {
        "id": "XEsYZE9i8bfY",
        "colab_type": "code",
        "colab": {}
      },
      "cell_type": "code",
      "source": [
        "drinks['gender'] = drinks['gender'].astype('category')\n",
        "drinks['category'] = drinks['category'].astype('category')\n",
        "drinks['subcategory'] = drinks['subcategory'].astype('category')\n",
        "drinks['volume'] = drinks['volume'].astype('category')"
      ],
      "execution_count": 0,
      "outputs": []
    },
    {
      "metadata": {
        "id": "KOkEyvS09o6G",
        "colab_type": "code",
        "colab": {}
      },
      "cell_type": "code",
      "source": [
        "drinks_gb = drinks.groupby(['gender', 'age', 'category', 'subcategory', 'volume'], as_index=False)['userID'].count()\n",
        "\n",
        "drinks_gb.head()"
      ],
      "execution_count": 0,
      "outputs": []
    },
    {
      "metadata": {
        "id": "vskrQIRB-_3X",
        "colab_type": "code",
        "colab": {}
      },
      "cell_type": "code",
      "source": [
        "drinks_gb.info()"
      ],
      "execution_count": 0,
      "outputs": []
    },
    {
      "metadata": {
        "id": "vFgdTse0_D8o",
        "colab_type": "code",
        "colab": {}
      },
      "cell_type": "code",
      "source": [
        "drinks_gb.dropna(inplace=True)"
      ],
      "execution_count": 0,
      "outputs": []
    },
    {
      "metadata": {
        "id": "liC4fgP2_TNY",
        "colab_type": "code",
        "colab": {}
      },
      "cell_type": "code",
      "source": [
        "drinks_gb.head()"
      ],
      "execution_count": 0,
      "outputs": []
    },
    {
      "metadata": {
        "id": "pfhwW_CnBSdB",
        "colab_type": "code",
        "colab": {}
      },
      "cell_type": "code",
      "source": [
        "alt.Chart(drinks_gb).mark_bar().encode(\n",
        "    y='category',\n",
        "    x='count(userID)',\n",
        "    color=alt.Color('subcategory:N', scale=alt.Scale(scheme='tableau20'))\n",
        ")"
      ],
      "execution_count": 0,
      "outputs": []
    },
    {
      "metadata": {
        "id": "EfQLizTbhYjK",
        "colab_type": "code",
        "colab": {}
      },
      "cell_type": "code",
      "source": [
        "alt.Chart(drinks_gb).mark_bar().encode(\n",
        "    y='gender',\n",
        "    x='count(userID)',\n",
        "    color=alt.Color('category:N', scale=alt.Scale(scheme='tableau20'))\n",
        ")"
      ],
      "execution_count": 0,
      "outputs": []
    },
    {
      "metadata": {
        "id": "l6R2-64Ohi9n",
        "colab_type": "code",
        "colab": {}
      },
      "cell_type": "code",
      "source": [
        "alt.Chart(drinks_gb).mark_bar().encode(\n",
        "    alt.Y('gender:O', scale=alt.Scale(rangeStep=17)),\n",
        "    alt.X('count(userID):Q',\n",
        "        axis=alt.Axis(title='User count'),\n",
        "        #stack='normalize'\n",
        "    ),\n",
        "    alt.Color('subcategory:N', scale=alt.Scale(scheme='tableau20'))\n",
        ")"
      ],
      "execution_count": 0,
      "outputs": []
    },
    {
      "metadata": {
        "id": "i5Rx6V3FbN5L",
        "colab_type": "code",
        "colab": {}
      },
      "cell_type": "code",
      "source": [
        "# Define aggregate fields\n",
        "lower_box = 'q1(age):Q'\n",
        "lower_whisker = 'min(age):Q'\n",
        "upper_box = 'q3(age):Q'\n",
        "upper_whisker = 'max(age):Q'\n",
        "\n",
        "# Compose each layer individually\n",
        "lower_plot = alt.Chart(drinks_gb).mark_rule().encode(\n",
        "    x=alt.X(lower_whisker, axis=alt.Axis(title=\"age\")),\n",
        "    x2=lower_box,\n",
        "    y='subcategory:O'\n",
        ")\n",
        "\n",
        "middle_plot = alt.Chart(drinks_gb).mark_bar(size=5.0).encode(\n",
        "    x=lower_box,\n",
        "    x2=upper_box,\n",
        "    y='subcategory:O'\n",
        ")\n",
        "\n",
        "upper_plot = alt.Chart(drinks_gb).mark_rule().encode(\n",
        "    x=upper_whisker,\n",
        "    x2=upper_box,\n",
        "    y='subcategory:O'\n",
        ")\n",
        "\n",
        "middle_tick = alt.Chart(drinks_gb).mark_tick(\n",
        "    color='white',\n",
        "    size=5.0\n",
        ").encode(\n",
        "    x='median(age):Q',\n",
        "    y='subcategory:O',\n",
        ")\n",
        "\n",
        "lower_plot + middle_plot + upper_plot + middle_tick"
      ],
      "execution_count": 0,
      "outputs": []
    },
    {
      "metadata": {
        "id": "TMAj3hJxA126",
        "colab_type": "code",
        "colab": {}
      },
      "cell_type": "code",
      "source": [
        "alt.Chart(drinks_gb).mark_bar().encode(\n",
        "    y='category',\n",
        "    x='userID'\n",
        ")"
      ],
      "execution_count": 0,
      "outputs": []
    },
    {
      "metadata": {
        "id": "4d0F5lToA-Kn",
        "colab_type": "code",
        "colab": {}
      },
      "cell_type": "code",
      "source": [
        "alt.Chart(drinks_gb).mark_bar().encode(\n",
        "    y='subcategory',\n",
        "    x='userID'\n",
        ")"
      ],
      "execution_count": 0,
      "outputs": []
    }
  ]
}