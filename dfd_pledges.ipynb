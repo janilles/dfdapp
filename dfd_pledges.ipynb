{
  "nbformat": 4,
  "nbformat_minor": 0,
  "metadata": {
    "colab": {
      "name": "dfd_pledges.ipynb",
      "version": "0.3.2",
      "provenance": [],
      "private_outputs": true,
      "collapsed_sections": [],
      "include_colab_link": true
    },
    "kernelspec": {
      "name": "python3",
      "display_name": "Python 3"
    },
    "accelerator": "GPU"
  },
  "cells": [
    {
      "cell_type": "markdown",
      "metadata": {
        "id": "view-in-github",
        "colab_type": "text"
      },
      "source": [
        "[View in Colaboratory](https://colab.research.google.com/github/janilles/dfdapp/blob/master/dfd_pledges.ipynb)"
      ]
    },
    {
      "metadata": {
        "id": "87umfhWD3nbk",
        "colab_type": "text"
      },
      "cell_type": "markdown",
      "source": [
        "# PLEDGES"
      ]
    },
    {
      "metadata": {
        "id": "Txjx79oIkGWz",
        "colab_type": "text"
      },
      "cell_type": "markdown",
      "source": [
        "# Credentials to run the notebook"
      ]
    },
    {
      "metadata": {
        "id": "i0C0jUBOJejP",
        "colab_type": "text"
      },
      "cell_type": "markdown",
      "source": [
        "## Google Drive authentication (optional)\n",
        "NOTE: If login credentials are hardcoded into the database connection (code cell below) this step in not necesary. Otherwise: \n",
        "\n",
        "Install and authenticate [PyDrive](https://pythonhosted.org/PyDrive/index.html) for loading files from Google Drive so that database passwords aren't hardcoded into the notebook."
      ]
    },
    {
      "metadata": {
        "id": "i-uwdb3-J8B8",
        "colab_type": "code",
        "colab": {}
      },
      "cell_type": "code",
      "source": [
        "# added -q for suppressing output\n",
        "!pip install -U -q PyDrive\n",
        "\n",
        "# see PyDrive documentation for libraries code snippets\n",
        "from pydrive.auth import GoogleAuth\n",
        "from pydrive.drive import GoogleDrive\n",
        "from google.colab import auth\n",
        "from oauth2client.client import GoogleCredentials\n",
        "\n",
        "# authenticate and create the PyDrive client\n",
        "auth.authenticate_user()\n",
        "gauth = GoogleAuth()\n",
        "gauth.credentials = GoogleCredentials.get_application_default()\n",
        "drive = GoogleDrive(gauth)"
      ],
      "execution_count": 0,
      "outputs": []
    },
    {
      "metadata": {
        "id": "3QhdNMalfDmU",
        "colab_type": "text"
      },
      "cell_type": "markdown",
      "source": [
        "## Database connection\n",
        "- Connecting to AWS RDS database with [PyMySQL](https://pymysql.readthedocs.io/en/latest/user/examples.html).\n",
        "- Retruning MySQL queries as Pandas dataframes with [```read_sql()``` ](https://pandas.pydata.org/pandas-docs/stable/generated/pandas.read_sql.html) function."
      ]
    },
    {
      "metadata": {
        "id": "_oFep_FLZJ2M",
        "colab_type": "code",
        "colab": {}
      },
      "cell_type": "code",
      "source": [
        "# added -q for suppressing output\n",
        "!pip install -q -U pymysql\n",
        "\n",
        "import pymysql\n",
        "import pandas as pd"
      ],
      "execution_count": 0,
      "outputs": []
    },
    {
      "metadata": {
        "id": "5aAq_cyXORAC",
        "colab_type": "code",
        "colab": {}
      },
      "cell_type": "code",
      "source": [
        "# 'id' is Google Drive file ID\n",
        "usernm_file = drive.CreateFile({'id': '1l0NedyVzKKhPJ1-_cOqF1VRt_oQyr8OL'})\n",
        "passwd_file = drive.CreateFile({'id': '1YnGugBHvqjJk0nbTqN-683Agb0vaZKHo'}) \n",
        "\n",
        "# this variable is used in the connect function below\n",
        "user_name = usernm_file.GetContentString()\n",
        "user_passwd = passwd_file.GetContentString()"
      ],
      "execution_count": 0,
      "outputs": []
    },
    {
      "metadata": {
        "id": "Bc4vHmqKZiyA",
        "colab_type": "code",
        "colab": {}
      },
      "cell_type": "code",
      "source": [
        "def connect():\n",
        "\n",
        "    return pymysql.connect(\n",
        "        \n",
        "        host = \"df-phereplica3.crqbvr0pveqx.eu-west-1.rds.amazonaws.com\",\n",
        "           \n",
        "        user = user_name, # assigned in the cell above\n",
        "\n",
        "        passwd = user_passwd, # assigned in the cell above\n",
        "   \n",
        "        db = \"daysoff\",\n",
        "        \n",
        "        autocommit=True\n",
        "\n",
        "        )\n",
        "\n",
        "connection = connect()\n",
        "\n",
        "def sql_to_df(sql):\n",
        "    \"\"\"\n",
        "    Returns MySQL queries as Pandas dataframes.\n",
        "    \"\"\"\n",
        "    return pd.read_sql(sql, con = connection)"
      ],
      "execution_count": 0,
      "outputs": []
    },
    {
      "metadata": {
        "id": "3H4vBNdu2omb",
        "colab_type": "text"
      },
      "cell_type": "markdown",
      "source": [
        "# Database tables used (optional step)\n",
        "Overview of avaliable data and tables used in the MySQL queries below. \n",
        "See [MySQL documentation](https://dev.mysql.com/doc/refman/8.0/en/introduction.html) for MySQL syntax."
      ]
    },
    {
      "metadata": {
        "id": "iZPg1ZmMKMFw",
        "colab_type": "code",
        "colab": {}
      },
      "cell_type": "code",
      "source": [
        "# formatting column width of Pandas dataframes\n",
        "# increase column width so that longer comments don't get truncated\n",
        "\n",
        "pd.set_option('max_colwidth',200)"
      ],
      "execution_count": 0,
      "outputs": []
    },
    {
      "metadata": {
        "id": "WuAv81GX3_Jb",
        "colab_type": "text"
      },
      "cell_type": "markdown",
      "source": [
        "### App pledges table"
      ]
    },
    {
      "metadata": {
        "id": "5EqwVi1736ue",
        "colab_type": "code",
        "colab": {}
      },
      "cell_type": "code",
      "source": [
        "# run pd.set_option('max_colwidth',100) if comments column gets truncated\n",
        "\n",
        "sql_to_df(\"\"\"\n",
        "        SELECT\n",
        "            table_name, column_name, data_type, column_comment\n",
        "        FROM\n",
        "            information_schema.columns\n",
        "        WHERE\n",
        "            table_name = 'g_apppledges'\n",
        "        \"\"\")"
      ],
      "execution_count": 0,
      "outputs": []
    },
    {
      "metadata": {
        "id": "hZ-pBqOs1xlQ",
        "colab_type": "text"
      },
      "cell_type": "markdown",
      "source": [
        "### App users table"
      ]
    },
    {
      "metadata": {
        "id": "PZC5riNj1rMg",
        "colab_type": "code",
        "colab": {}
      },
      "cell_type": "code",
      "source": [
        "# run pd.set_option('max_colwidth',100) if comments column gets truncated\n",
        "\n",
        "sql_to_df(\"\"\"\n",
        "        SELECT\n",
        "            table_name, column_name, data_type, column_comment\n",
        "        FROM\n",
        "            information_schema.columns\n",
        "        WHERE\n",
        "            table_name = 'g_appusers'\n",
        "        \"\"\")"
      ],
      "execution_count": 0,
      "outputs": []
    },
    {
      "metadata": {
        "id": "sK1JWqlTOXvp",
        "colab_type": "text"
      },
      "cell_type": "markdown",
      "source": [
        "### Days off table"
      ]
    },
    {
      "metadata": {
        "id": "2RGxCCqIObnB",
        "colab_type": "code",
        "colab": {}
      },
      "cell_type": "code",
      "source": [
        "# run pd.set_option('max_colwidth',100) if comments column gets truncated\n",
        "\n",
        "sql_to_df(\"\"\"\n",
        "        SELECT\n",
        "            table_name, column_name, data_type, column_comment\n",
        "        FROM\n",
        "            information_schema.columns\n",
        "        WHERE\n",
        "            table_name = 'g_appdaysoff'\n",
        "        \"\"\")"
      ],
      "execution_count": 0,
      "outputs": []
    },
    {
      "metadata": {
        "id": "8t0NgYmtfl-H",
        "colab_type": "text"
      },
      "cell_type": "markdown",
      "source": [
        "# Report generation\n",
        "- Write MySQL queries as long strings inside ```sql_to_df()``` function.  See [MySQL documentation](https://dev.mysql.com/doc/refman/8.0/en/introduction.html) for MySQL syntax reference.\n",
        "- ```sql_to_df()``` returns Pandas dataframes.\n",
        "\n",
        "**NB:** MySQL week starts on Sunday by default so:\n",
        "\n",
        "- week(lastseen) counts weeks from Sundays\n",
        "- week(lastseen, 1) counts weeks from Monday"
      ]
    },
    {
      "metadata": {
        "id": "DvlCN7xA5-Sl",
        "colab_type": "code",
        "colab": {}
      },
      "cell_type": "code",
      "source": [
        "selection = sql_to_df(\"\"\"\n",
        "        SELECT \n",
        "            P.id, \n",
        "            WEEK(week, 1) AS pledge_week, -- week to start on Monday\n",
        "            daycount AS num_of_pledged_days,            \n",
        "            WEEK(lastseen, 1) AS last_week -- week to start on Monday\n",
        "        FROM \n",
        "            g_apppledges P\n",
        "            JOIN\n",
        "            g_appusers U ON P.id=U.id\n",
        "            JOIN\n",
        "            g_appdaysoff D ON D.id=P.id\n",
        "        WHERE\n",
        "            YEAR(week) = 2018\n",
        "        GROUP BY \n",
        "            id, \n",
        "            pledge_week\n",
        "        ORDER BY\n",
        "            pledge_week DESC, id\n",
        "        \"\"\")\n",
        "\n",
        "selection.head(10)"
      ],
      "execution_count": 0,
      "outputs": []
    },
    {
      "metadata": {
        "id": "YAYxf_uf4Gui",
        "colab_type": "code",
        "colab": {}
      },
      "cell_type": "code",
      "source": [
        "df = sql_to_df(\"\"\"\n",
        "        SELECT \n",
        "            id,\n",
        "            COUNT(id) AS num_of_dfd,\n",
        "            WEEK(date, 1) AS dfd_week \n",
        "        FROM \n",
        "            g_appdaysoff\n",
        "        WHERE\n",
        "            YEAR(date) = 2018\n",
        "        GROUP BY \n",
        "            id, \n",
        "            dfd_week\n",
        "        ORDER BY\n",
        "            dfd_week DESC, id\n",
        "        \"\"\")\n",
        "\n",
        "df.head(10)"
      ],
      "execution_count": 0,
      "outputs": []
    },
    {
      "metadata": {
        "id": "-Omon2jQ8hAT",
        "colab_type": "code",
        "colab": {}
      },
      "cell_type": "code",
      "source": [
        "result = pd.merge(selection, df, left_on=['id', 'pledge_week'], right_on=['id', 'dfd_week'])\n",
        "\n",
        "result.head(10)"
      ],
      "execution_count": 0,
      "outputs": []
    },
    {
      "metadata": {
        "id": "rgehOG54-2Vr",
        "colab_type": "code",
        "colab": {}
      },
      "cell_type": "code",
      "source": [
        "pd.DataFrame.corr(result.iloc[:, [2,4]])"
      ],
      "execution_count": 0,
      "outputs": []
    },
    {
      "metadata": {
        "id": "X-2SGlPOwCsN",
        "colab_type": "text"
      },
      "cell_type": "markdown",
      "source": [
        "# TBC\n",
        "Below cell copied form 'risk levels' notebook."
      ]
    },
    {
      "metadata": {
        "id": "yc5a6QsjP1pB",
        "colab_type": "text"
      },
      "cell_type": "markdown",
      "source": [
        "### Users by day\n",
        "Filtering of users (i.e. WHERE condition) explained:\n",
        "- ```gender LIKE '%ale'``` is data cleaning to filter out empty values since gender is necesary for calculating risk levels\n",
        "- age range: 18 (the minimum the app accepts) seems to have too many fake values and the upper cuts off outliers\n",
        "- ```joined >= '2018-09-10'``` to only include app users who joined on or after the campaign start date\n",
        "- ```lastseen >= '2018-09-16'``` to only include app users who have recoded some activity on (or after) seven days from the campaign launch (10 Sep 2018) so we can assume that they are using the app\n",
        "\n",
        "**NB:** MySQL week starts on Sunday by default so: \n",
        "- ```week(lastseen)```  counts weeks from Sundays\n",
        "- ```week(lastseen, 1)``` counts weeks from Monday"
      ]
    },
    {
      "metadata": {
        "id": "1gFiLavCJyaV",
        "colab_type": "code",
        "colab": {}
      },
      "cell_type": "code",
      "source": [
        "# 'typical day' is needed for matching units to deduct \n",
        "# from drink free days recorded by a user\n",
        "# Alcohol units calculation = (percent * ml)/ 1000\n",
        "\n",
        "usersByDay = sql_to_df(\"\"\"\n",
        "        SELECT \n",
        "            U.id,\n",
        "            gender,\n",
        "            age,\n",
        "            WEEK(lastseen, 1) AS last_week, -- MySQL week begins with Sunday by default\n",
        "            day AS typical_day, -- days with no drinks in them are not recorded in database\n",
        "            SUM((percent * ml)/ 1000) AS typical_units\n",
        "        FROM\n",
        "            g_appusers U\n",
        "        LEFT JOIN g_appdrinks D\n",
        "            ON U.id=D.id            \n",
        "        WHERE\n",
        "            gender LIKE '%ale' -- to exclude empty values\n",
        "            AND\n",
        "            age BETWEEN 19 AND 79 -- 18 has too many fake values, 80+ are outliers\n",
        "            AND\n",
        "            joined >= '2018-09-10' -- campaign start date\n",
        "            AND\n",
        "            lastseen >= '2018-09-16' -- at least a week from campaign launch (Monday-Sunday)\n",
        "            AND\n",
        "            day IS NOT NULL -- data cleaning, there were some users 'None' typical days\n",
        "        GROUP BY \n",
        "            U.id, typical_day -- to sum up multiple drinks and get total units for each day\n",
        "        \"\"\")\n",
        "\n",
        "usersByDay.head()"
      ],
      "execution_count": 0,
      "outputs": []
    }
  ]
}