{
  "nbformat": 4,
  "nbformat_minor": 0,
  "metadata": {
    "colab": {
      "name": "dfd_pledges.ipynb",
      "version": "0.3.2",
      "provenance": [],
      "private_outputs": true,
      "collapsed_sections": [
        "O1OSH-XjD4xd",
        "i0C0jUBOJejP",
        "3QhdNMalfDmU",
        "3H4vBNdu2omb"
      ],
      "toc_visible": true,
      "include_colab_link": true
    },
    "kernelspec": {
      "name": "python3",
      "display_name": "Python 3"
    },
    "accelerator": "GPU"
  },
  "cells": [
    {
      "cell_type": "markdown",
      "metadata": {
        "id": "view-in-github",
        "colab_type": "text"
      },
      "source": [
        "<a href=\"https://colab.research.google.com/github/janilles/dfdapp/blob/master/dfd_pledges.ipynb\" target=\"_parent\"><img src=\"https://colab.research.google.com/assets/colab-badge.svg\" alt=\"Open In Colab\"/></a>"
      ]
    },
    {
      "metadata": {
        "id": "hVd7cCkUJNjW",
        "colab_type": "text"
      },
      "cell_type": "markdown",
      "source": [
        "# Drink Free Days app\n",
        "\n",
        "# PLEDGES ANALYSIS\n",
        "\n",
        "Lorem ipsusm "
      ]
    },
    {
      "metadata": {
        "id": "O1OSH-XjD4xd",
        "colab_type": "text"
      },
      "cell_type": "markdown",
      "source": [
        "# Credentials to run the notebook"
      ]
    },
    {
      "metadata": {
        "id": "i0C0jUBOJejP",
        "colab_type": "text"
      },
      "cell_type": "markdown",
      "source": [
        "## Google Drive authentication (optional step)\n",
        "NOTE: If login credentials are hardcoded into the database connection (code cell below) this step in not necesary. Otherwise:\n",
        "\n",
        "Install and authenticate [PyDrive](https://pythonhosted.org/PyDrive/index.html) for loading files from Google Drive so that database passwords aren't hardcoded into the notebook.\n"
      ]
    },
    {
      "metadata": {
        "id": "i-uwdb3-J8B8",
        "colab_type": "code",
        "colab": {}
      },
      "cell_type": "code",
      "source": [
        "# added -q for suppressing output\n",
        "!pip install -U -q PyDrive\n",
        "\n",
        "# see PyDrive documentation for libraries code snippets\n",
        "from pydrive.auth import GoogleAuth\n",
        "from pydrive.drive import GoogleDrive\n",
        "from google.colab import auth\n",
        "from oauth2client.client import GoogleCredentials\n",
        "\n",
        "# authenticate and create the PyDrive client\n",
        "auth.authenticate_user()\n",
        "gauth = GoogleAuth()\n",
        "gauth.credentials = GoogleCredentials.get_application_default()\n",
        "drive = GoogleDrive(gauth)\n"
      ],
      "execution_count": 0,
      "outputs": []
    },
    {
      "metadata": {
        "id": "3QhdNMalfDmU",
        "colab_type": "text"
      },
      "cell_type": "markdown",
      "source": [
        "## Database connection\n",
        "- Connecting to AWS RDS database with [PyMySQL](https://pymysql.readthedocs.io/en/latest/user/examples.html).\n",
        "- Retruning MySQL queries as Pandas dataframes with [```read_sql()```](https://pandas.pydata.org/pandas-docs/stable/generated/pandas.read_sql.html) function."
      ]
    },
    {
      "metadata": {
        "id": "_oFep_FLZJ2M",
        "colab_type": "code",
        "colab": {}
      },
      "cell_type": "code",
      "source": [
        "# added -q for suppressing output\n",
        "!pip install -q -U pymysql\n",
        "\n",
        "import pymysql\n",
        "import pandas as pd\n"
      ],
      "execution_count": 0,
      "outputs": []
    },
    {
      "metadata": {
        "id": "5aAq_cyXORAC",
        "colab_type": "code",
        "colab": {}
      },
      "cell_type": "code",
      "source": [
        "# only run if using PyDrive: 'id' is Google Drive file ID\n",
        "hostnm_file = drive.CreateFile(\n",
        "    {'id': '1lL_DFWe2F0yNTZRJ3sq5bpJeHgCTqxMn'})\n",
        "usernm_file = drive.CreateFile(\n",
        "    {'id': '1l0NedyVzKKhPJ1-_cOqF1VRt_oQyr8OL'})\n",
        "passwd_file = drive.CreateFile(\n",
        "    {'id': '1YnGugBHvqjJk0nbTqN-683Agb0vaZKHo'})\n",
        "dbname_file = drive.CreateFile(\n",
        "    {'id': '1_mZ3aYMcWdRKKJXRud4sPwnQc8vVgznC'})\n",
        "\n",
        "# variables used in the connect function below\n",
        "host_name = hostnm_file.GetContentString()\n",
        "user_name = usernm_file.GetContentString()\n",
        "user_passwd = passwd_file.GetContentString()\n",
        "db_name = dbname_file.GetContentString()\n"
      ],
      "execution_count": 0,
      "outputs": []
    },
    {
      "metadata": {
        "id": "Bc4vHmqKZiyA",
        "colab_type": "code",
        "colab": {}
      },
      "cell_type": "code",
      "source": [
        "def connect():\n",
        "    return pymysql.connect(\n",
        "host = host_name,\n",
        "        user=user_name,\n",
        "        passwd=user_passwd,\n",
        "        db=db_name,\n",
        "        autocommit=True\n",
        "        )\n",
        "\n",
        "connection = connect()\n",
        "\n",
        "def sql_to_df(sql):\n",
        "    return pd.read_sql(sql, con=connection)\n"
      ],
      "execution_count": 0,
      "outputs": []
    },
    {
      "metadata": {
        "id": "3H4vBNdu2omb",
        "colab_type": "text"
      },
      "cell_type": "markdown",
      "source": [
        "# Database tables used in reports (optional step)\n",
        "Overview of avaliable data and tables used in the MySQL queries below. See [MySQL documentation](https://dev.mysql.com/doc/refman/8.0/en/introduction.html) for MySQL syntax."
      ]
    },
    {
      "metadata": {
        "id": "iZPg1ZmMKMFw",
        "colab_type": "code",
        "colab": {}
      },
      "cell_type": "code",
      "source": [
        "# formatting column width of Pandas dataframes\n",
        "# increase column width so that longer comments don't get truncated\n",
        "pd.set_option('max_colwidth', 100)\n"
      ],
      "execution_count": 0,
      "outputs": []
    },
    {
      "metadata": {
        "id": "pABlehhu7nF2",
        "colab_type": "text"
      },
      "cell_type": "markdown",
      "source": [
        "### Pledges table"
      ]
    },
    {
      "metadata": {
        "id": "sXBsb3XT_cG5",
        "colab_type": "code",
        "colab": {}
      },
      "cell_type": "code",
      "source": [
        "# run pd.set_option('max_colwidth', 100) if comments column gets truncated\n",
        "sql_to_df(\"\"\"\n",
        "        SELECT\n",
        "            table_name, column_name, data_type, column_comment\n",
        "        FROM\n",
        "            information_schema.columns\n",
        "        WHERE\n",
        "            table_name = 'g_apppledges'\n",
        "        \"\"\")\n"
      ],
      "execution_count": 0,
      "outputs": []
    },
    {
      "metadata": {
        "id": "fD4kqaRoo_2n",
        "colab_type": "text"
      },
      "cell_type": "markdown",
      "source": [
        "### Days off table (drink free days)"
      ]
    },
    {
      "metadata": {
        "id": "iL0bfw_9pH3G",
        "colab_type": "code",
        "colab": {}
      },
      "cell_type": "code",
      "source": [
        "# run pd.set_option('max_colwidth', 100) if comments column gets truncated\n",
        "sql_to_df(\"\"\"\n",
        "        SELECT\n",
        "            table_name, column_name, data_type, column_comment\n",
        "        FROM\n",
        "            information_schema.columns\n",
        "        WHERE\n",
        "            table_name = 'g_appdaysoff'\n",
        "        \"\"\")\n"
      ],
      "execution_count": 0,
      "outputs": []
    },
    {
      "metadata": {
        "id": "hZ-pBqOs1xlQ",
        "colab_type": "text"
      },
      "cell_type": "markdown",
      "source": [
        "### App users table"
      ]
    },
    {
      "metadata": {
        "id": "PZC5riNj1rMg",
        "colab_type": "code",
        "colab": {}
      },
      "cell_type": "code",
      "source": [
        "# run pd.set_option('max_colwidth', 100) if comments column gets truncated\n",
        "sql_to_df(\"\"\"\n",
        "        SELECT\n",
        "            table_name, column_name, data_type, column_comment\n",
        "        FROM\n",
        "            information_schema.columns\n",
        "        WHERE\n",
        "            table_name = 'g_appusers'\n",
        "        \"\"\")\n"
      ],
      "execution_count": 0,
      "outputs": []
    },
    {
      "metadata": {
        "id": "8t0NgYmtfl-H",
        "colab_type": "text"
      },
      "cell_type": "markdown",
      "source": [
        "# Reports\n",
        "SQL queries as strings inside ```qud()``` function defined as pymysql connection above.  \n",
        "See [MySQL documentation](https://dev.mysql.com/doc/refman/8.0/en/introduction.html) for SQL syntax reference."
      ]
    },
    {
      "metadata": {
        "id": "NILd3QyApVTL",
        "colab_type": "text"
      },
      "cell_type": "markdown",
      "source": [
        "## Are people meeting their pledges (during campaign)?\n",
        "Comparison of the number of days pledged and actual drink free days achieved. \n",
        "\n",
        "**Method:**  \n",
        "Drink free days achieved are aggregated by week\n",
        "number and then week numbers of pledges are matched to week numbers of drink free days.\n",
        "\n",
        "**NB:** \n",
        "- Pledge table only holds week number for a user when a pledge is set or changed - not for all weeks a user uses the app.\n",
        "- Default MySQL week begins with Sunday, so to make weeks begin with Monday use: ```WEEK(date, 1)``` instead of ```WEEK(date)```"
      ]
    },
    {
      "metadata": {
        "id": "KXDxjdcwp1Kp",
        "colab_type": "code",
        "colab": {},
        "cellView": "form"
      },
      "cell_type": "code",
      "source": [
        "#@title SQL query { vertical-output: true }\n",
        "comparison = sql_to_df(\"\"\"\n",
        "    SELECT\n",
        "        O.id,\n",
        "        WEEK(date, 1) AS week_of_dfds, -- make sure week starts with Monday\n",
        "        COUNT(DISTINCT date) AS dfds_in_week,\n",
        "        WEEK(week, 1) AS pledge_week, -- make sure week starts with Monday\n",
        "        daycount AS days_pledged\n",
        "    FROM\n",
        "        g_appdaysoff O\n",
        "    LEFT JOIN\n",
        "        g_apppledges P\n",
        "    ON\n",
        "        O.id=P.id\n",
        "    AND\n",
        "        WEEK(date, 1)=WEEK(week, 1) -- comparing like for like weeks\n",
        "    WHERE\n",
        "        YEAR(date) = 2018 -- else week days from other years are pulled in\n",
        "    AND\n",
        "        WEEK(date, 1) >= 37 -- campaign start week is 37\n",
        "    GROUP BY\n",
        "        id, week_of_dfds\n",
        "    \"\"\")\n",
        "\n",
        "# comparison.head()\n"
      ],
      "execution_count": 0,
      "outputs": []
    },
    {
      "metadata": {
        "id": "3r5IEBqy86Fj",
        "colab_type": "text"
      },
      "cell_type": "markdown",
      "source": [
        "### The quick version (smaller data sample)\n",
        "Remove missing pledge week values and keep only like for like weeks.\n",
        "\n",
        "Pledges table only holds weeks for when a pledge was initially set or altered by a user."
      ]
    },
    {
      "metadata": {
        "id": "0SaSXW3Rk0WY",
        "colab_type": "code",
        "colab": {},
        "cellView": "form"
      },
      "cell_type": "code",
      "source": [
        "#@title Table\n",
        "# remove missing values\n",
        "comparison_quick = comparison.dropna()\n",
        "\n",
        "# change days pledged values from float to integer\n",
        "comparison_quick = comparison_quick.astype(\n",
        "    {'days_pledged': 'int'}) \n",
        "\n",
        "# group data by days pledged\n",
        "comparison_quick = round(\n",
        "    comparison_quick.groupby('days_pledged',\n",
        "                             as_index=False).agg(\n",
        "                                {\n",
        "                                    'dfds_in_week': 'mean',\n",
        "                                    'id': 'count'\n",
        "                                }), 1)\n",
        "\n",
        "# rename columns for clarity\n",
        "comparison_quick.rename(columns={\n",
        "                            'dfds_in_week': 'avg_achieved',\n",
        "                            'id': 'num_of_users'\n",
        "                        },\n",
        "                        inplace=True)\n",
        "\n",
        "# create new column with percentages\n",
        "comparison_quick['%_of_target'] = round(\n",
        "    comparison_quick['avg_achieved'] /\n",
        "    comparison_quick['days_pledged']*100, 1)\n",
        "\n",
        "comparison_quick\n"
      ],
      "execution_count": 0,
      "outputs": []
    },
    {
      "metadata": {
        "id": "5SnPoOOPmgmr",
        "colab_type": "code",
        "colab": {},
        "cellView": "form"
      },
      "cell_type": "code",
      "source": [
        "#@title Chart\n",
        "import altair as alt\n",
        "\n",
        "bubble_quick = alt.Chart(\n",
        "    comparison_quick,\n",
        "    title='Are people meeting their pledges?').mark_point(\n",
        ").encode(\n",
        "    alt.X('days_pledged',\n",
        "          title='Number of days pledged',\n",
        "          scale=alt.Scale(domain=[0, 8])),\n",
        "    alt.Y('%_of_target',\n",
        "          title='% of pledge met (on average)'),\n",
        "    size=alt.Size('num_of_users',\n",
        "                  legend=alt.Legend(title='Number of users')),\n",
        "    tooltip=['%_of_target',\n",
        "             'num_of_users']\n",
        ")\n",
        "\n",
        "rule_quick = alt.Chart(\n",
        "    comparison_quick).mark_rule(color='orange').encode(\n",
        "    y='mean(%_of_target)',\n",
        "    size=alt.value(2),\n",
        "    tooltip=['mean(%_of_target)']\n",
        ")\n",
        "\n",
        "bubble_quick + rule_quick\n"
      ],
      "execution_count": 0,
      "outputs": []
    },
    {
      "metadata": {
        "id": "99DfGuQuFfHx",
        "colab_type": "text"
      },
      "cell_type": "markdown",
      "source": [
        "### The longer version (larger data sample)\n",
        "\n",
        "Replacing most missing values for pledges by copying the last set value into the weeks a user is clocking drink free days.\n",
        "\n",
        "That's needed because the pledges table only holds weeks for when a pledge was initially set or altered."
      ]
    },
    {
      "metadata": {
        "id": "DWJyseUXfV_D",
        "colab_type": "code",
        "colab": {},
        "cellView": "form"
      },
      "cell_type": "code",
      "source": [
        "#@title Table\n",
        "# reduce dataframe size for for loop\n",
        "comparison = comparison.astype({'week_of_dfds': 'category',\n",
        "                                'dfds_in_week': 'category',\n",
        "                                'pledge_week': 'category',\n",
        "                                'days_pledged': 'category'})\n",
        "\n",
        "user = comparison['id']\n",
        "pledge = comparison['days_pledged']\n",
        "\n",
        "# fill days_pledged according to these rules\n",
        "for i in range(len(comparison)):\n",
        "    if pd.isnull(pledge.iloc[i]):\n",
        "        if user.iloc[i] == user.iloc[i-1]:\n",
        "            pledge.iloc[i] = pledge.iloc[i-1]\n",
        "        else:\n",
        "            pass\n",
        "    else:\n",
        "        pass\n",
        "\n",
        "# remove rows with NaN in days_pledged\n",
        "comparison = comparison.loc[\n",
        "    pd.notna(comparison['days_pledged'])]\n",
        "\n",
        "# change data types\n",
        "comparison = comparison.astype(\n",
        "    {\n",
        "        'days_pledged': 'int',\n",
        "        'dfds_in_week': 'int'\n",
        "    })\n",
        "\n",
        "# group data by days pledged\n",
        "comparison = round(\n",
        "    comparison.groupby('days_pledged',\n",
        "                       as_index=False).agg(\n",
        "                                {\n",
        "                                    'dfds_in_week': 'mean',\n",
        "                                    'id': 'count'\n",
        "                                }), 1)\n",
        "\n",
        "# rename columns for clarity\n",
        "comparison.rename(columns={\n",
        "                            'dfds_in_week': 'avg_achieved',\n",
        "                            'id': 'num_of_users'\n",
        "                          },\n",
        "                  inplace=True)\n",
        "\n",
        "# create new column with percentages\n",
        "comparison['%_of_target'] = round(\n",
        "    comparison['avg_achieved'] /\n",
        "    comparison['days_pledged']*100, 1)\n",
        "\n",
        "comparison\n"
      ],
      "execution_count": 0,
      "outputs": []
    },
    {
      "metadata": {
        "id": "bbFJ596xkGRr",
        "colab_type": "code",
        "colab": {},
        "cellView": "form"
      },
      "cell_type": "code",
      "source": [
        "#@title Chart\n",
        "# import altair as alt\n",
        "\n",
        "bubble = alt.Chart(\n",
        "    comparison,\n",
        "    title='Are people meeting their pledges?').mark_point(\n",
        ").encode(\n",
        "    alt.X('days_pledged',\n",
        "          title='Number of days pledged',\n",
        "          scale=alt.Scale(domain=[0, 8])),\n",
        "    alt.Y('%_of_target',\n",
        "          title='% of pledge met (on average)'),\n",
        "    size=alt.Size('num_of_users',\n",
        "                  legend=alt.Legend(title=\"Number of users\")),\n",
        "    tooltip=['%_of_target',\n",
        "             'num_of_users']\n",
        ")\n",
        "\n",
        "rule = alt.Chart(comparison).mark_rule(color='orange').encode(\n",
        "    y='mean(%_of_target)',\n",
        "    size=alt.value(2),\n",
        "    tooltip=['mean(%_of_target)']\n",
        ")\n",
        "\n",
        "bubble + rule\n"
      ],
      "execution_count": 0,
      "outputs": []
    },
    {
      "metadata": {
        "id": "AhRdxjVJKRfG",
        "colab_type": "text"
      },
      "cell_type": "markdown",
      "source": [
        "## Are people meeting their plredges (pre campaign)?\n",
        "Same as above (quick version) with pre-campaign weeks in 2018."
      ]
    },
    {
      "metadata": {
        "id": "WedIgzSGKXcE",
        "colab_type": "code",
        "colab": {},
        "cellView": "form"
      },
      "cell_type": "code",
      "source": [
        "#@title SQL query\n",
        "comparisonPRE = sql_to_df(\"\"\"\n",
        "    SELECT\n",
        "        O.id,\n",
        "        WEEK(date, 1) AS week_of_dfds, -- make sure week starts with Monday\n",
        "        COUNT(DISTINCT date) AS dfds_in_week,\n",
        "        WEEK(week, 1) AS pledge_week, -- make sure week starts with Monday\n",
        "        daycount AS days_pledged\n",
        "    FROM\n",
        "        g_appdaysoff O\n",
        "    LEFT JOIN\n",
        "        g_apppledges P\n",
        "    ON\n",
        "        O.id=P.id\n",
        "    AND\n",
        "        WEEK(date, 1)=WEEK(week, 1) -- comparing like for like weeks\n",
        "    WHERE\n",
        "        YEAR(date) = 2018 -- else week days from other years are pulled in\n",
        "    AND\n",
        "        WEEK(date, 1) < 37 -- campaign start week is 37\n",
        "    GROUP BY\n",
        "        id, week_of_dfds\n",
        "    \"\"\")\n",
        "\n",
        "# comparisonPRE.head()\n"
      ],
      "execution_count": 0,
      "outputs": []
    },
    {
      "metadata": {
        "id": "zqRUEhEWLn7H",
        "colab_type": "code",
        "colab": {},
        "cellView": "form"
      },
      "cell_type": "code",
      "source": [
        "#@title Table\n",
        "# remove missing values\n",
        "comparison_quick2 = comparisonPRE.dropna()\n",
        "\n",
        "# change days pledged values from float to integer\n",
        "comparison_quick2 = comparison_quick2.astype({'days_pledged': 'int'}) \n",
        "\n",
        "# group data by days pledged\n",
        "comparison_quick2 = round(\n",
        "    comparison_quick2.groupby('days_pledged',\n",
        "                              as_index=False).agg(\n",
        "                                 {\n",
        "                                     'dfds_in_week': 'mean',\n",
        "                                     'id': 'count'\n",
        "                                 }), 1)\n",
        "\n",
        "# rename columns for clarity\n",
        "comparison_quick2.rename(columns={\n",
        "                             'dfds_in_week': 'avg_achieved',\n",
        "                             'id': 'num_of_users'\n",
        "                         },\n",
        "                         inplace=True)\n",
        "\n",
        "# create new column with percentages\n",
        "comparison_quick2['%_of_target'] = round(\n",
        "    comparison_quick2['avg_achieved'] /\n",
        "    comparison_quick2['days_pledged']*100, 1)\n",
        "\n",
        "comparison_quick2\n"
      ],
      "execution_count": 0,
      "outputs": []
    },
    {
      "metadata": {
        "id": "PfU4cRLl2Zio",
        "colab_type": "code",
        "colab": {},
        "cellView": "form"
      },
      "cell_type": "code",
      "source": [
        "#@title Chart\n",
        "bubble2 = alt.Chart(\n",
        "    comparison_quick2,\n",
        "    title='Are people meeting their pledges?').mark_point(\n",
        ").encode(\n",
        "    alt.X('days_pledged',\n",
        "          title='Number of days pledged',\n",
        "          scale=alt.Scale(domain=[0, 8])),\n",
        "    alt.Y('%_of_target',\n",
        "          title='% of pledge met (on average)'),\n",
        "    size=alt.Size('num_of_users',\n",
        "                  legend=alt.Legend(title=\"Number of users\")),\n",
        "    tooltip=['%_of_target',\n",
        "             'num_of_users']\n",
        ")\n",
        "\n",
        "rule2 = alt.Chart(comparison_quick2).mark_rule(color='orange').encode(\n",
        "    y='mean(%_of_target)',\n",
        "    size=alt.value(2),\n",
        "    tooltip=['mean(%_of_target)']\n",
        ")\n",
        "\n",
        "bubble2 + rule2\n"
      ],
      "execution_count": 0,
      "outputs": []
    },
    {
      "metadata": {
        "id": "hjJIZQnLW1nt",
        "colab_type": "text"
      },
      "cell_type": "markdown",
      "source": [
        "## Are people increasing their pledges (during campaign)?\n",
        "Data caveats, assumptions and metodology:\n",
        "- users can join and not pledge until later\n",
        "- **NB:** pledges table doesn't hold records for all weeks (just last change ot pleding)\n",
        "- if people stopped using the app we assume their last pledged number of days remains (for simplicity) i.e. they didn't increase their pledging which is what we're interested in anyway\n",
        "- dropping those who (in the weeks we're looking at):\n",
        " - do not pledge at all \n",
        " - do not change thier pledge at all"
      ]
    },
    {
      "metadata": {
        "id": "wDkKMWV3piF0",
        "colab_type": "code",
        "colab": {}
      },
      "cell_type": "code",
      "source": [
        "pledges = sql_to_df(\"\"\"\n",
        "    SELECT\n",
        "        P.id,\n",
        "        WEEK(week, 1) AS pledge_week,\n",
        "        daycount AS days_pledged\n",
        "    FROM\n",
        "        g_apppledges P\n",
        "    INNER JOIN\n",
        "        g_appusers U\n",
        "    ON\n",
        "        P.id=U.id\n",
        "    WHERE\n",
        "        gender LIKE '%ale' -- exclude empty values in gender\n",
        "    AND\n",
        "        age BETWEEN 19 AND 79 -- 18 and 80+ are outliers\n",
        "    AND\n",
        "        YEAR(joined) = 2018 -- important for week number calculations\n",
        "    AND\n",
        "        WEEK(joined, 1) = 37 -- joined in the first week of campaign\n",
        "    AND\n",
        "        WEEK(lastseen, 1) >= 38 -- at least in the next week after launch\n",
        "    ORDER BY\n",
        "        id, pledge_week\n",
        "        \"\"\")\n",
        "\n",
        "pledges.head()\n"
      ],
      "execution_count": 0,
      "outputs": []
    },
    {
      "metadata": {
        "id": "swm9vkhnM3l_",
        "colab_type": "code",
        "colab": {}
      },
      "cell_type": "code",
      "source": [
        "def pledge_columns(df=pledges):\n",
        "    \"\"\"\n",
        "    Create columns for pledge weeks in range.\n",
        "    \"\"\"\n",
        "    for week in range(37, 43):\n",
        "        col_name = f\"pledge_{week}\"\n",
        "        df.loc[df['pledge_week'] == week,\n",
        "               col_name] = df['days_pledged']\n",
        "        df.fillna(0, inplace=True)\n",
        "    return df\n"
      ],
      "execution_count": 0,
      "outputs": []
    },
    {
      "metadata": {
        "id": "LTwwc8CZrTmA",
        "colab_type": "code",
        "colab": {}
      },
      "cell_type": "code",
      "source": [
        "result = pledge_columns()\n",
        "\n",
        "# drop redundant columns\n",
        "result.drop(columns=['pledge_week',\n",
        "                     'days_pledged'],\n",
        "            inplace=True)\n",
        "\n",
        "# group dataframe by users\n",
        "# call .sum() on the groupby object because\n",
        "# there's at most one non-zero value per given week per user\n",
        "result = result.groupby('id', as_index=False).sum()\n",
        "\n",
        "result.head()\n"
      ],
      "execution_count": 0,
      "outputs": []
    },
    {
      "metadata": {
        "id": "Fy-2R5k8W4kB",
        "colab_type": "text"
      },
      "cell_type": "markdown",
      "source": [
        "**Next step explanation:**\n",
        "\n",
        "Because the pledges table doesn't hold data for all weeks a user is using the app we need to populate the subsequent weeks from the week a pledge was set or changed.\n",
        "\n",
        "For simplicity, users who stopped using the app are given the last pledge value set for subsequent weeks. Alternative solution would be to only look at users who were last seen in the last (or later) week of the period we're looking at.\n",
        "\n",
        "**Question for Jimmy:** Pledge can't be set to zero? Seems like it can't since there are no zero values in the pledges table."
      ]
    },
    {
      "metadata": {
        "id": "KKHY20y2xSV7",
        "colab_type": "code",
        "colab": {}
      },
      "cell_type": "code",
      "source": [
        "# range starts at earliest week+1\n",
        "for week in range(38, 43):\n",
        "    result.loc[(result[f\"pledge_{week}\"] == 0) &\n",
        "               (result[f\"pledge_{week-1}\"] != 0),\n",
        "               f\"pledge_{week}\"] = result[f\"pledge_{week-1}\"]\n",
        "\n",
        "result.head()\n"
      ],
      "execution_count": 0,
      "outputs": []
    },
    {
      "metadata": {
        "id": "wLDSvMyU_r4P",
        "colab_type": "code",
        "colab": {}
      },
      "cell_type": "code",
      "source": [
        "# increased pledging or started to pledge\n",
        "# if value in week 37 < avg. value in remaining weeks\n",
        "increased = result.loc[result['pledge_37'] <\n",
        "                       result.iloc[:, 2:].sum(axis=1) /\n",
        "                       len(result.iloc[:, 2:].columns)]\n",
        "\n",
        "increased.head()\n"
      ],
      "execution_count": 0,
      "outputs": []
    },
    {
      "metadata": {
        "id": "gRWrP2CeBK4E",
        "colab_type": "code",
        "colab": {}
      },
      "cell_type": "code",
      "source": [
        "# decreased pledging \n",
        "# if value in week 37 > avg. value in remaining weeks\n",
        "decreased = result.loc[result['pledge_37'] >\n",
        "                       result.iloc[:, 2:].sum(axis=1) /\n",
        "                       len(result.iloc[:, 2:].columns)]\n",
        "\n",
        "decreased.head()\n"
      ],
      "execution_count": 0,
      "outputs": []
    },
    {
      "metadata": {
        "id": "gKE2ryHuKGcb",
        "colab_type": "text"
      },
      "cell_type": "markdown",
      "source": [
        "### Results"
      ]
    },
    {
      "metadata": {
        "id": "t-wfBQOyBREg",
        "colab_type": "code",
        "colab": {}
      },
      "cell_type": "code",
      "source": [
        "print(f\"Total users: {pledges['id'].nunique()}\")\n",
        "      \n",
        "print(f\"Users who increased pledges: {len(increased)} \\\n",
        "({round(len(increased)/pledges['id'].nunique()*100, 1)}%)\")\n",
        "\n",
        "print(f\"Users who decreased pledges: {len(decreased)} \\\n",
        "({round(len(decreased)/pledges['id'].nunique()*100, 1)}%)\")\n"
      ],
      "execution_count": 0,
      "outputs": []
    },
    {
      "metadata": {
        "id": "K4WDp1v0aMiB",
        "colab_type": "text"
      },
      "cell_type": "markdown",
      "source": [
        "### Most common pledge settings and changes among app users"
      ]
    },
    {
      "metadata": {
        "id": "T95XRkElpJJd",
        "colab_type": "code",
        "colab": {}
      },
      "cell_type": "code",
      "source": [
        "grouped = result.groupby(['pledge_37',\n",
        "                          'pledge_38',\n",
        "                          'pledge_39',\n",
        "                          'pledge_40',\n",
        "                          'pledge_41',\n",
        "                          'pledge_42'],\n",
        "                         as_index=False)['id'].count()\n",
        "\n",
        "# rename column for clarity\n",
        "grouped.rename(columns={'id': 'num_of_users'},\n",
        "               inplace=True)\n",
        "\n",
        "# create a percentage column\n",
        "grouped['%_of_total'] = round(\n",
        "    grouped['num_of_users'] /\n",
        "    grouped['num_of_users'].sum()*100, 1)\n",
        "\n",
        "# sort by the most common pledge journey\n",
        "grouped.sort_values('%_of_total',\n",
        "                    ascending=False).head(20)\n"
      ],
      "execution_count": 0,
      "outputs": []
    },
    {
      "metadata": {
        "id": "-Mxmcd-yjtWH",
        "colab_type": "text"
      },
      "cell_type": "markdown",
      "source": [
        "### Melted result in a bar chart\n",
        "Chart is not normalised - it assumes that nobody stops using the app for the purposes of pledge analysis. See notes under the report header."
      ]
    },
    {
      "metadata": {
        "id": "21_fobmRjsry",
        "colab_type": "code",
        "colab": {}
      },
      "cell_type": "code",
      "source": [
        "# prepare data for stacked bar plot\n",
        "melted = pd.melt(grouped,\n",
        "                 id_vars=['num_of_users'],\n",
        "                 value_vars=['pledge_37',\n",
        "                             'pledge_38',\n",
        "                             'pledge_39',\n",
        "                             'pledge_40',\n",
        "                             'pledge_41',\n",
        "                             'pledge_42'],\n",
        "                 value_name='days_pledged')\n",
        "\n",
        "melted.head()\n"
      ],
      "execution_count": 0,
      "outputs": []
    },
    {
      "metadata": {
        "id": "9Rt98K-Yku1X",
        "colab_type": "code",
        "colab": {}
      },
      "cell_type": "code",
      "source": [
        "import altair as alt\n",
        "\n",
        "alt.Chart(melted).mark_bar().encode(\n",
        "    x='variable',\n",
        "    y='sum(num_of_users)',\n",
        "    color='days_pledged:N'\n",
        ")"
      ],
      "execution_count": 0,
      "outputs": []
    },
    {
      "metadata": {
        "id": "QMmkoqyyM2Fc",
        "colab_type": "text"
      },
      "cell_type": "markdown",
      "source": [
        "## User-level pledge journeys (visual data analysis)"
      ]
    },
    {
      "metadata": {
        "id": "D2Oq551XrgHZ",
        "colab_type": "code",
        "colab": {}
      },
      "cell_type": "code",
      "source": [
        "# only keep users who either increase or decrease pledges\n",
        "journeys = result.loc[result['pledge_37'] != result.iloc[:,1:].sum(axis=1) / 6]\n",
        "journeys.set_index('id', inplace=True)\n",
        "journeys.head()"
      ],
      "execution_count": 0,
      "outputs": []
    },
    {
      "metadata": {
        "id": "bgE0n3mokJFj",
        "colab_type": "code",
        "colab": {}
      },
      "cell_type": "code",
      "source": [
        "journeys.loc[journeys['pledge_37'] == 0].T.plot(legend=False, \n",
        "                                                alpha=0.1, \n",
        "                                                figsize=(12,8), \n",
        "                                                title='User journeys with pledge at 0 in first week');"
      ],
      "execution_count": 0,
      "outputs": []
    },
    {
      "metadata": {
        "id": "e2h9Oy8Am9-k",
        "colab_type": "code",
        "colab": {}
      },
      "cell_type": "code",
      "source": [
        "journeys.loc[journeys['pledge_37'] == 1].T.plot(legend=False, \n",
        "                                                alpha=0.3, \n",
        "                                                figsize=(12,8), \n",
        "                                                title='User journeys with pledge at 1 in first week');"
      ],
      "execution_count": 0,
      "outputs": []
    },
    {
      "metadata": {
        "id": "D4cyAtW4nD15",
        "colab_type": "code",
        "colab": {}
      },
      "cell_type": "code",
      "source": [
        "journeys.loc[journeys['pledge_37'] == 2].T.plot(legend=False, \n",
        "                                                alpha=0.1, \n",
        "                                                figsize=(12,8), \n",
        "                                                title='User journeys with pledge at 2 in first week');"
      ],
      "execution_count": 0,
      "outputs": []
    },
    {
      "metadata": {
        "id": "j-JNV14OnKya",
        "colab_type": "code",
        "colab": {}
      },
      "cell_type": "code",
      "source": [
        "journeys.loc[journeys['pledge_37'] == 3].T.plot(legend=False, \n",
        "                                                alpha=0.1, \n",
        "                                                figsize=(12,8), \n",
        "                                                title='User journeys with pledge at 3 in first week');"
      ],
      "execution_count": 0,
      "outputs": []
    },
    {
      "metadata": {
        "id": "-J98C6iinOGS",
        "colab_type": "code",
        "colab": {}
      },
      "cell_type": "code",
      "source": [
        "journeys.loc[journeys['pledge_37'] == 4].T.plot(legend=False, \n",
        "                                                alpha=0.1, \n",
        "                                                figsize=(12,8), \n",
        "                                                title='User journeys with pledge at 4 in first week');"
      ],
      "execution_count": 0,
      "outputs": []
    },
    {
      "metadata": {
        "id": "KWU5x64cnSPd",
        "colab_type": "code",
        "colab": {}
      },
      "cell_type": "code",
      "source": [
        "journeys.loc[journeys['pledge_37'] == 5].T.plot(legend=False, \n",
        "                                                alpha=0.1, \n",
        "                                                figsize=(12,8), \n",
        "                                                title='User journeys with pledge at 5 in first week');"
      ],
      "execution_count": 0,
      "outputs": []
    },
    {
      "metadata": {
        "id": "8mVv-j0SnUpX",
        "colab_type": "code",
        "colab": {}
      },
      "cell_type": "code",
      "source": [
        "journeys.loc[journeys['pledge_37'] == 6].T.plot(legend=False, \n",
        "                                                alpha=0.1, \n",
        "                                                figsize=(12,8), \n",
        "                                                title='User journeys with pledge at 6 in first week');"
      ],
      "execution_count": 0,
      "outputs": []
    },
    {
      "metadata": {
        "id": "xbdXHCF2nX2j",
        "colab_type": "code",
        "colab": {}
      },
      "cell_type": "code",
      "source": [
        "journeys.loc[journeys['pledge_37'] == 7].T.plot(legend=False, \n",
        "                                                alpha=0.1, \n",
        "                                                figsize=(12,8), \n",
        "                                                title='User journeys with pledge at 7 in first week');"
      ],
      "execution_count": 0,
      "outputs": []
    },
    {
      "metadata": {
        "id": "cR14OSSnnnXH",
        "colab_type": "code",
        "colab": {}
      },
      "cell_type": "code",
      "source": [
        "journeys.loc[journeys['pledge_38'] == 0].T.plot(legend=False, \n",
        "                                                alpha=0.1, \n",
        "                                                figsize=(12,8), \n",
        "                                                title='User journeys with pledge at 0 in SECOND week');"
      ],
      "execution_count": 0,
      "outputs": []
    },
    {
      "metadata": {
        "id": "jV_AKiIvgAQT",
        "colab_type": "text"
      },
      "cell_type": "markdown",
      "source": [
        "# Old reports below - check if they are still necessary "
      ]
    },
    {
      "metadata": {
        "id": "JHxn2inNVP90",
        "colab_type": "text"
      },
      "cell_type": "markdown",
      "source": [
        "## Pleges overview in numbers\n",
        "* number of all users (a.k.a. app downloads)\n",
        "* number of users who have pledged \n",
        "* user conversion (from downloading the app to pledging)\n",
        "* number of pledges made\n",
        "* average pledges per pledging user\n",
        "* average pledges per all user (a.k.a. per app downloads)"
      ]
    },
    {
      "metadata": {
        "id": "26EH-zsRydn9",
        "colab_type": "text"
      },
      "cell_type": "markdown",
      "source": [
        "### Lifetime of the app"
      ]
    },
    {
      "metadata": {
        "id": "4OfEggOxPu1G",
        "colab_type": "code",
        "colab": {},
        "cellView": "both"
      },
      "cell_type": "code",
      "source": [
        "# before the new app version June 2018\n",
        "\n",
        "pledgesOverview = sql_to_df(\n",
        "    \"\"\"\n",
        "    select\n",
        "        count(distinct g_appusers.id) as 'All users',\n",
        "        count(distinct g_apppledges.id) as 'Pledging users',\n",
        "        round(count(distinct g_apppledges.id) / (count(distinct g_appusers.id) /100), 1) as 'User conversion %',\n",
        "        count(g_apppledges.id) as 'Total pledges',\n",
        "        round(count(g_apppledges.id) / count(distinct g_apppledges.id), 1) as 'Pledges/pledging user',\n",
        "        round(count(g_apppledges.id) / count(distinct g_appusers.id), 1) as 'Pledges/all users'\n",
        "    from\n",
        "        daysoff.g_apppledges right join daysoff.g_appusers\n",
        "        on g_apppledges.id=g_appusers.id\n",
        "    where\n",
        "        joined < '2018-06-01' -- before the new app version\n",
        "    \"\"\")\n",
        "\n",
        "pledgesOverview"
      ],
      "execution_count": 0,
      "outputs": []
    },
    {
      "metadata": {
        "id": "qAFg6zTfyoKq",
        "colab_type": "text"
      },
      "cell_type": "markdown",
      "source": [
        "### Campaign period\n",
        "Fill in the dates in the 'where' clause of the SQL query below as necessary."
      ]
    },
    {
      "metadata": {
        "id": "-yx4Kc9WxTvR",
        "colab_type": "code",
        "colab": {},
        "cellView": "both"
      },
      "cell_type": "code",
      "source": [
        "pledgesOverviewCampaign = sql_to_df(\n",
        "    \"\"\"\n",
        "    select\n",
        "        count(distinct g_appusers.id) as 'All users',\n",
        "        count(distinct g_apppledges.id) as 'Pledging users',\n",
        "        round(count(distinct g_apppledges.id) / (count(distinct g_appusers.id) /100), 1) as 'User conversion %',\n",
        "        count(g_apppledges.id) as 'Total pledges',\n",
        "        round(count(g_apppledges.id) / count(distinct g_apppledges.id), 1) as 'Pledges/pledging user',\n",
        "        round(count(g_apppledges.id) / count(distinct g_appusers.id), 1) as 'Pledges/all users'\n",
        "    from\n",
        "        daysoff.g_apppledges right join daysoff.g_appusers\n",
        "        on g_apppledges.id=g_appusers.id\n",
        "    where\n",
        "        joined between '2018-09-03' and '2018-09-17'\n",
        "    \"\"\")\n",
        "\n",
        "pledgesOverviewCampaign"
      ],
      "execution_count": 0,
      "outputs": []
    },
    {
      "metadata": {
        "id": "iM9THjU28yKv",
        "colab_type": "text"
      },
      "cell_type": "markdown",
      "source": [
        "## Pledges on timelines"
      ]
    },
    {
      "metadata": {
        "id": "dNKus1DNloYm",
        "colab_type": "code",
        "colab": {}
      },
      "cell_type": "code",
      "source": [
        "pledges = sql_to_df(\n",
        "    \"\"\"\n",
        "    select\n",
        "        id as 'user id', \n",
        "        week as 'pledged week', \n",
        "        week(week) as 'week number',\n",
        "        month(week) as 'month number',\n",
        "        daycount as 'days pledged'\n",
        "    from\n",
        "        daysoff.g_apppledges\n",
        "    \"\"\")\n",
        "\n",
        "pledges.head()"
      ],
      "execution_count": 0,
      "outputs": []
    },
    {
      "metadata": {
        "id": "UoSWjQOHp7zg",
        "colab_type": "code",
        "colab": {}
      },
      "cell_type": "code",
      "source": [
        "pledges.iloc[:,[3,4]].corr()"
      ],
      "execution_count": 0,
      "outputs": []
    },
    {
      "metadata": {
        "id": "80OWL3CJqIAf",
        "colab_type": "code",
        "colab": {}
      },
      "cell_type": "code",
      "source": [
        "# converting strings to datetime \n",
        "\n",
        "pledges['pledged week'] = pd.to_datetime(pledges['pledged week'])"
      ],
      "execution_count": 0,
      "outputs": []
    },
    {
      "metadata": {
        "id": "I81ZRW0Rr6kj",
        "colab_type": "text"
      },
      "cell_type": "markdown",
      "source": [
        "### Pledges by week number (2017 and 2018 on the same axis)"
      ]
    },
    {
      "metadata": {
        "id": "J0tdQwnfr9PB",
        "colab_type": "code",
        "colab": {}
      },
      "cell_type": "code",
      "source": [
        "pledges_byWeekNumber = pledges.groupby('week number')['user id'].count()\n",
        "\n",
        "pledges_byWeekNumber.plot(title='Number of pledges by week number (2017 and 2018 on the same axis)');"
      ],
      "execution_count": 0,
      "outputs": []
    },
    {
      "metadata": {
        "id": "SMu36tYD4ALJ",
        "colab_type": "text"
      },
      "cell_type": "markdown",
      "source": [
        "### Pledges by month (2017 and 2018 on the same axis)"
      ]
    },
    {
      "metadata": {
        "id": "R-6mLouL3xM2",
        "colab_type": "code",
        "colab": {}
      },
      "cell_type": "code",
      "source": [
        "pledges_byMonthNumber = pledges.groupby('month number')['user id'].count()\n",
        "\n",
        "pledges_byMonthNumber.plot(title='Number of pledges by month (2017 and 2018 on the same axis)');"
      ],
      "execution_count": 0,
      "outputs": []
    },
    {
      "metadata": {
        "id": "4PG56h62GtMY",
        "colab_type": "text"
      },
      "cell_type": "markdown",
      "source": [
        "### Pledges by calendar week"
      ]
    },
    {
      "metadata": {
        "id": "MzsDW1TRFsez",
        "colab_type": "code",
        "colab": {}
      },
      "cell_type": "code",
      "source": [
        "pledges_byCalendarWeek = pledges.groupby('pledged week')['user id'].count()\n",
        "\n",
        "pledges_byCalendarWeek.plot(title='Number of pledges - app history timeline');"
      ],
      "execution_count": 0,
      "outputs": []
    },
    {
      "metadata": {
        "id": "e99w6Ph5ug2F",
        "colab_type": "text"
      },
      "cell_type": "markdown",
      "source": [
        "## How many days do people pledge"
      ]
    },
    {
      "metadata": {
        "id": "BQU4zP-OukG9",
        "colab_type": "code",
        "colab": {}
      },
      "cell_type": "code",
      "source": [
        "pledges_daysPledged = pledges.groupby('days pledged')['user id'].count()\n",
        "\n",
        "pledges_daysPledged.plot(title='How many users pledge how many days');"
      ],
      "execution_count": 0,
      "outputs": []
    },
    {
      "metadata": {
        "id": "9CUC9aMxhLiT",
        "colab_type": "code",
        "colab": {},
        "cellView": "both"
      },
      "cell_type": "code",
      "source": [
        "#@title\n",
        "pledgesCampaign = sql_to_df(\n",
        "    \"\"\"\n",
        "    select\n",
        "        g_apppledges.id as 'user id', \n",
        "        week as 'pledged week', \n",
        "        week(week) as 'week number',\n",
        "        month(week) as 'month number',\n",
        "        daycount as 'days pledged'\n",
        "    from\n",
        "        daysoff.g_apppledges right join daysoff.g_appusers\n",
        "        on g_apppledges.id=g_appusers.id\n",
        "    where\n",
        "        joined between '2018-09-03' and '2018-09-13'\n",
        "    \"\"\")\n"
      ],
      "execution_count": 0,
      "outputs": []
    },
    {
      "metadata": {
        "id": "rRD6wKnZhlMk",
        "colab_type": "code",
        "colab": {},
        "cellView": "both"
      },
      "cell_type": "code",
      "source": [
        "#@title\n",
        "pledges_daysPledged = pledgesCampaign.groupby('days pledged')['user id'].count()\n",
        "\n",
        "pledges_daysPledged.plot(title='How many users pledge how many days (campaign period)');"
      ],
      "execution_count": 0,
      "outputs": []
    },
    {
      "metadata": {
        "id": "-WpH0h-FwvWi",
        "colab_type": "text"
      },
      "cell_type": "markdown",
      "source": [
        "## Pledge variation across months\n",
        "Do people pledge more or less days depending on what time of year it is?"
      ]
    },
    {
      "metadata": {
        "id": "w586kA4QxaWd",
        "colab_type": "code",
        "colab": {}
      },
      "cell_type": "code",
      "source": [
        "pledges_variationMonth = pledges.groupby(['month number', 'days pledged'], as_index=False)['user id'].count()"
      ],
      "execution_count": 0,
      "outputs": []
    },
    {
      "metadata": {
        "id": "divP6WSSYynf",
        "colab_type": "text"
      },
      "cell_type": "markdown",
      "source": [
        "### Altair Viz charts"
      ]
    },
    {
      "metadata": {
        "id": "bYFTUWeTJ04j",
        "colab_type": "text"
      },
      "cell_type": "markdown",
      "source": [
        "For customisation of Altair charts [see documentation](https://altair-viz.github.io/user_guide/customization.html).\n",
        "\n",
        "For different colour schemes replace 'scheme_name' with a string that matches any of the available [Vega color schemes]( https://vega.github.io/vega/docs/schemes/#reference).\n",
        "\n",
        "```alt.Color('column name', scale=alt.Scale(scheme='scheme name'))```  "
      ]
    },
    {
      "metadata": {
        "id": "q0XiAMX7745H",
        "colab_type": "code",
        "colab": {}
      },
      "cell_type": "code",
      "source": [
        "import altair as alt"
      ],
      "execution_count": 0,
      "outputs": []
    },
    {
      "metadata": {
        "id": "lwRvw3bHzkci",
        "colab_type": "code",
        "colab": {}
      },
      "cell_type": "code",
      "source": [
        "alt.Chart(pledges_variationMonth, title='Days pledged by calendar month').mark_line().encode(\n",
        "    x='days pledged', \n",
        "    y=alt.X('user id', axis=alt.Axis(title='number of users')), \n",
        "    # y='user id',\n",
        "    color=alt.Color('month number:N', scale=alt.Scale(scheme='tableau20'))\n",
        ")"
      ],
      "execution_count": 0,
      "outputs": []
    },
    {
      "metadata": {
        "id": "hZIw0LY1KJKs",
        "colab_type": "code",
        "colab": {},
        "cellView": "both"
      },
      "cell_type": "code",
      "source": [
        "#@title\n",
        "# get totals for each month\n",
        "pledges_variationMonthsGrouped = pledges_variationMonth.groupby('month number', as_index=False)['user id'].sum()\n",
        "\n",
        "# get both values for percentage calculation into one table\n",
        "pledges_variationMonthNorm = pd.merge(pledges_variationMonth, \n",
        "                                      pledges_variationMonthsGrouped, \n",
        "                                      how='inner', \n",
        "                                      on='month number', \n",
        "                                      suffixes=('_mth', '_sum'))\n",
        "\n",
        "# calculate percentages\n",
        "pledges_variationMonthNorm['percent of total users each month'] = pledges_variationMonthNorm['user id_mth'] / (pledges_variationMonthNorm['user id_sum'] / 100)\n",
        "\n",
        "# plot\n",
        "alt.Chart(pledges_variationMonthNorm, title='Days pledged by calendar month - normalised').mark_line().encode(\n",
        "    x='days pledged',\n",
        "    y='percent of total users each month',\n",
        "    color=alt.Color('month number:N', scale=alt.Scale(scheme='tableau20')),\n",
        "    # opacity=alt.value(0.5),\n",
        ")\n"
      ],
      "execution_count": 0,
      "outputs": []
    },
    {
      "metadata": {
        "id": "2QoklC8aI4I-",
        "colab_type": "text"
      },
      "cell_type": "markdown",
      "source": [
        "## Pledge days"
      ]
    },
    {
      "metadata": {
        "id": "nciUp2fWHi1T",
        "colab_type": "text"
      },
      "cell_type": "markdown",
      "source": [
        "### Most popular day combinations\n",
        "1 = Monday ... 0 = Sunday"
      ]
    },
    {
      "metadata": {
        "id": "iZ7TOWOHCGS0",
        "colab_type": "code",
        "colab": {}
      },
      "cell_type": "code",
      "source": [
        "pledgeDayCombi = sql_to_df(\n",
        "    \"\"\"\n",
        "    select\n",
        "        count(distinct id) as 'number of users',\n",
        "        daycount as 'number of days pledged',\n",
        "        days as 'day combinations'\n",
        "    from\n",
        "        g_apppledges \n",
        "    group by \n",
        "        days, daycount\n",
        "\torder by\n",
        "\t\tcount(distinct id) desc, daycount desc \n",
        "    \"\"\")\n",
        "\n",
        "pledgeDayCombi.head(10)"
      ],
      "execution_count": 0,
      "outputs": []
    },
    {
      "metadata": {
        "id": "L8SnZ7CxIBNw",
        "colab_type": "code",
        "colab": {}
      },
      "cell_type": "code",
      "source": [
        "alt.Chart(pledgeDayCombi).mark_bar().encode(\n",
        "    #y='day combinations',\n",
        "    #x='number of users'\n",
        "    x=alt.X('number of users', sort=\"ascending\"),\n",
        "    y=alt.X('day combinations', sort=\"ascending\")\n",
        ")"
      ],
      "execution_count": 0,
      "outputs": []
    },
    {
      "metadata": {
        "id": "zRzmAYaKHmzW",
        "colab_type": "text"
      },
      "cell_type": "markdown",
      "source": [
        "### Most popular day combinations\n",
        "1 = Monday ... 0 = Sunday"
      ]
    },
    {
      "metadata": {
        "id": "E1ce8WjzHsDc",
        "colab_type": "code",
        "colab": {}
      },
      "cell_type": "code",
      "source": [
        "pledgeDays = sql_to_df(\n",
        "    \"\"\"\n",
        "    select\n",
        "        count(distinct id) as 'number of users',\n",
        "        days as 'day combinations'\n",
        "    from\n",
        "        g_apppledges \n",
        "    group by \n",
        "        days\n",
        "    order by\n",
        "        count(distinct id) desc\n",
        "    \"\"\")\n",
        "\n",
        "pledgeDays.head()"
      ],
      "execution_count": 0,
      "outputs": []
    }
  ]
}