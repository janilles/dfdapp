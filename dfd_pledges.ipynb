{
  "nbformat": 4,
  "nbformat_minor": 0,
  "metadata": {
    "colab": {
      "name": "dfd_pledges.ipynb",
      "version": "0.3.2",
      "provenance": [],
      "private_outputs": true,
      "collapsed_sections": [
        "uFEwDPG2HkxA",
        "Jybkdb9UugTL"
      ],
      "toc_visible": true,
      "include_colab_link": true
    },
    "kernelspec": {
      "name": "python3",
      "display_name": "Python 3"
    },
    "accelerator": "GPU"
  },
  "cells": [
    {
      "cell_type": "markdown",
      "metadata": {
        "id": "view-in-github",
        "colab_type": "text"
      },
      "source": [
        "[View in Colaboratory](https://colab.research.google.com/github/janilles/dfdapp/blob/master/dfd_pledges.ipynb)"
      ]
    },
    {
      "metadata": {
        "id": "hVd7cCkUJNjW",
        "colab_type": "text"
      },
      "cell_type": "markdown",
      "source": [
        "# Drink Free Days - Pledges\n",
        "From AWS RDS using PyMySQL "
      ]
    },
    {
      "metadata": {
        "id": "i0C0jUBOJejP",
        "colab_type": "text"
      },
      "cell_type": "markdown",
      "source": [
        "## Install PyDrive for loading files from Google Drive\n",
        "https://pythonhosted.org/PyDrive/index.html"
      ]
    },
    {
      "metadata": {
        "id": "i-uwdb3-J8B8",
        "colab_type": "code",
        "colab": {}
      },
      "cell_type": "code",
      "source": [
        "# added -q for suppressing output\n",
        "!pip install -U -q PyDrive\n",
        "\n",
        "# see PyDrive documentation for libraries code snippets\n",
        "from pydrive.auth import GoogleAuth\n",
        "from pydrive.drive import GoogleDrive\n",
        "from google.colab import auth\n",
        "from oauth2client.client import GoogleCredentials\n",
        "\n",
        "# authenticate and create the PyDrive client\n",
        "auth.authenticate_user()\n",
        "gauth = GoogleAuth()\n",
        "gauth.credentials = GoogleCredentials.get_application_default()\n",
        "drive = GoogleDrive(gauth)"
      ],
      "execution_count": 0,
      "outputs": []
    },
    {
      "metadata": {
        "id": "uFEwDPG2HkxA",
        "colab_type": "text"
      },
      "cell_type": "markdown",
      "source": [
        "### Create and upload a text file with PyDrive (if needed)"
      ]
    },
    {
      "metadata": {
        "id": "zxnYzk-HLJxL",
        "colab_type": "text"
      },
      "cell_type": "markdown",
      "source": [
        "```python\n",
        "uploaded = drive.CreateFile({'title': 'sample_file.txt'})\n",
        "uploaded.SetContentString('Sample file content.')\n",
        "uploaded.Upload()\n",
        "print('Uploaded file with ID {}'.format(uploaded.get('id')))\n",
        "```"
      ]
    },
    {
      "metadata": {
        "id": "Jybkdb9UugTL",
        "colab_type": "text"
      },
      "cell_type": "markdown",
      "source": [
        "### Get the Google Drive IDs of your file (if needed)"
      ]
    },
    {
      "metadata": {
        "id": "Z1rPVpFdOJac",
        "colab_type": "text"
      },
      "cell_type": "markdown",
      "source": [
        "You will need your file's google Drive ID to load the content of the text file into a variable with PyDrive.  \n",
        "\n",
        "To get the ID, you can: \n",
        "#### Right-click on the file in your Google Drive and selcet 'Get shareable link' which gives you a URL with 'id=' in it.\n",
        "  \n",
        "Alternatively, you can obtain the ID directly from the notebook by running this code:  \n",
        "\n",
        "- Step 1:   \n",
        "Get your file's ID.  To get a list of all the file and folder IDs in the root folder:\n",
        "```python\n",
        "file_list = drive.ListFile({'q': \"'root' in parents and trashed=false\"}).GetList()\n",
        "for file1 in file_list:\n",
        "print(\"File %s\\n\\n\",(file1))\n",
        "```\n",
        "You can replace ```'root'``` with the folder ID your file is in. You can either get the folder ID from the web interface: ```drive.google.com/drive/u/0/folders/<folder ID>```  \n",
        "or have PyDrive list the IDs for you:\n",
        "```python\n",
        "# Paginate file lists and specify number of max results if necessary\n",
        "for file_list in drive.ListFile({'q': 'trashed=False', 'maxResults': 10}):\n",
        "  print('Received %s files from Files.list()' % len(file_list)) # <= 10\n",
        "  for file1 in file_list:\n",
        "      print('title: %s, id: %s' % (file1['title'], file1['id']))\n",
        "    ```\n",
        "- Step 2:   \n",
        "Load the file.\n",
        "```python\n",
        "downloaded = drive.CreateFile({'id': '<file ID>'})\n",
        "# you can print the content of the text file to check it\n",
        "print('Downloaded content \"{}\"'.format(downloaded.GetContentString()))\n",
        "```\n"
      ]
    },
    {
      "metadata": {
        "id": "ZUVy5ewwrxte",
        "colab_type": "text"
      },
      "cell_type": "markdown",
      "source": [
        "### Load the file's content (i.e. the password) into a variable"
      ]
    },
    {
      "metadata": {
        "id": "5aAq_cyXORAC",
        "colab_type": "code",
        "colab": {}
      },
      "cell_type": "code",
      "source": [
        "# insert ID of the file with the password\n",
        "# comment out the other user when running this cell\n",
        "\n",
        "# Jan's file\n",
        "passwd_file = drive.CreateFile({'id': '1YnGugBHvqjJk0nbTqN-683Agb0vaZKHo'}) \n",
        "\n",
        "# Tacey's file\n",
        "# passwd_file = drive.CreateFile({'id': ' '}) \n",
        "\n",
        "# load the password as a string into a variable\n",
        "# you will use this variable in pymysql connection\n",
        "# instead of the actual password string\n",
        "user_passwd = passwd_file.GetContentString()"
      ],
      "execution_count": 0,
      "outputs": []
    },
    {
      "metadata": {
        "id": "3QhdNMalfDmU",
        "colab_type": "text"
      },
      "cell_type": "markdown",
      "source": [
        "## Connect to AWS database via PyMySQL\n",
        "### Retrun SQL queries as Pandas dataframes\n",
        "Pandas ```read_sql``` [documentation](https://pandas.pydata.org/pandas-docs/stable/generated/pandas.read_sql.html)"
      ]
    },
    {
      "metadata": {
        "id": "_oFep_FLZJ2M",
        "colab_type": "code",
        "colab": {}
      },
      "cell_type": "code",
      "source": [
        "# added -q for suppressing output\n",
        "!pip install -q -U pymysql\n",
        "\n",
        "import pymysql\n",
        "import pandas as pd"
      ],
      "execution_count": 0,
      "outputs": []
    },
    {
      "metadata": {
        "id": "Bc4vHmqKZiyA",
        "colab_type": "code",
        "colab": {}
      },
      "cell_type": "code",
      "source": [
        "def connect():  \n",
        "    return pymysql.connect(\n",
        "        \n",
        "        host = \"df-phereplica3.crqbvr0pveqx.eu-west-1.rds.amazonaws.com\",\n",
        "        \n",
        "        # change user name and password as necessary\n",
        "           \n",
        "        user = \"jan\",\n",
        "        # user = \"tacey\",\n",
        "        passwd = user_passwd, # string loaded into a variable with PyDrive above\n",
        "   \n",
        "        db = \"daysoff\",\n",
        "        autocommit=True\n",
        "        \n",
        "        )\n",
        "\n",
        "connection = connect()\n",
        "\n",
        "def sql_to_df(sql):\n",
        "    \"\"\"\n",
        "    Returns SQL queries as pandas dataframes\n",
        "    \"\"\"\n",
        "    return pd.read_sql(sql, con = connection)"
      ],
      "execution_count": 0,
      "outputs": []
    },
    {
      "metadata": {
        "id": "3H4vBNdu2omb",
        "colab_type": "text"
      },
      "cell_type": "markdown",
      "source": [
        "# Database tables\n",
        "See [MySQL documentation](https://dev.mysql.com/doc/refman/8.0/en/introduction.html) for SQL syntax."
      ]
    },
    {
      "metadata": {
        "id": "iZPg1ZmMKMFw",
        "colab_type": "code",
        "colab": {}
      },
      "cell_type": "code",
      "source": [
        "# formatting column width of Pandas dataframes\n",
        "# increase column width so that longer comments don't get truncated\n",
        "\n",
        "pd.set_option('max_colwidth',100)"
      ],
      "execution_count": 0,
      "outputs": []
    },
    {
      "metadata": {
        "id": "pABlehhu7nF2",
        "colab_type": "text"
      },
      "cell_type": "markdown",
      "source": [
        "### Pledges table"
      ]
    },
    {
      "metadata": {
        "id": "sXBsb3XT_cG5",
        "colab_type": "code",
        "colab": {}
      },
      "cell_type": "code",
      "source": [
        "# run pd.set_option('max_colwidth',100) if comments column gets truncated\n",
        "\n",
        "sql_to_df(\"\"\"\n",
        "        select \n",
        "            table_name, column_name, data_type, column_comment\n",
        "        from \n",
        "            information_schema.columns\n",
        "        where\n",
        "            table_name = 'g_apppledges'\n",
        "        \"\"\")"
      ],
      "execution_count": 0,
      "outputs": []
    },
    {
      "metadata": {
        "id": "hZ-pBqOs1xlQ",
        "colab_type": "text"
      },
      "cell_type": "markdown",
      "source": [
        "### App users table"
      ]
    },
    {
      "metadata": {
        "id": "PZC5riNj1rMg",
        "colab_type": "code",
        "colab": {}
      },
      "cell_type": "code",
      "source": [
        "# run pd.set_option('max_colwidth',100) if comments column gets truncated\n",
        "\n",
        "sql_to_df(\"\"\"\n",
        "        select \n",
        "            table_name, column_name, data_type, column_comment\n",
        "        from \n",
        "            information_schema.columns\n",
        "        where\n",
        "            table_name = 'g_appusers'\n",
        "        \"\"\")"
      ],
      "execution_count": 0,
      "outputs": []
    },
    {
      "metadata": {
        "id": "8t0NgYmtfl-H",
        "colab_type": "text"
      },
      "cell_type": "markdown",
      "source": [
        "# Reports\n",
        "SQL queries as strings inside ```qud()``` function defined as pymysql connection above.  \n",
        "See [MySQL documentation](https://dev.mysql.com/doc/refman/8.0/en/introduction.html) for SQL syntax reference."
      ]
    },
    {
      "metadata": {
        "id": "JHxn2inNVP90",
        "colab_type": "text"
      },
      "cell_type": "markdown",
      "source": [
        "## Pleges overview in numbers\n",
        "* number of all users (a.k.a. app downloads)\n",
        "* number of users who have pledged \n",
        "* user conversion (from downloading the app to pledging)\n",
        "* number of pledges made\n",
        "* average pledges per pledging user\n",
        "* average pledges per all user (a.k.a. per app downloads)"
      ]
    },
    {
      "metadata": {
        "id": "26EH-zsRydn9",
        "colab_type": "text"
      },
      "cell_type": "markdown",
      "source": [
        "### Lifetime of the app"
      ]
    },
    {
      "metadata": {
        "id": "4OfEggOxPu1G",
        "colab_type": "code",
        "colab": {},
        "cellView": "form"
      },
      "cell_type": "code",
      "source": [
        "#@title\n",
        "pledgesOverview = sql_to_df(\n",
        "    \"\"\"\n",
        "    select\n",
        "        count(distinct g_appusers.id) as 'All users',\n",
        "        count(distinct g_apppledges.id) as 'Pledging users',\n",
        "        round(count(distinct g_apppledges.id) / (count(distinct g_appusers.id) /100), 1) as 'User conversion %',\n",
        "        count(g_apppledges.id) as 'Total pledges',\n",
        "        round(count(g_apppledges.id) / count(distinct g_apppledges.id), 1) as 'Pledges/pledging user',\n",
        "        round(count(g_apppledges.id) / count(distinct g_appusers.id), 1) as 'Pledges/all users'\n",
        "    from\n",
        "        daysoff.g_apppledges right join daysoff.g_appusers\n",
        "        on g_apppledges.id=g_appusers.id\n",
        "    \"\"\")\n",
        "\n",
        "pledgesOverview"
      ],
      "execution_count": 0,
      "outputs": []
    },
    {
      "metadata": {
        "id": "qAFg6zTfyoKq",
        "colab_type": "text"
      },
      "cell_type": "markdown",
      "source": [
        "### Campaign period\n",
        "Fill in the dates in the 'where' clause of the SQL query below as necessary."
      ]
    },
    {
      "metadata": {
        "id": "-yx4Kc9WxTvR",
        "colab_type": "code",
        "colab": {},
        "cellView": "both"
      },
      "cell_type": "code",
      "source": [
        "#@title\n",
        "pledgesOverviewCampaign = sql_to_df(\n",
        "    \"\"\"\n",
        "    select\n",
        "        count(distinct g_appusers.id) as 'All users',\n",
        "        count(distinct g_apppledges.id) as 'Pledging users',\n",
        "        round(count(distinct g_apppledges.id) / (count(distinct g_appusers.id) /100), 1) as 'User conversion %',\n",
        "        count(g_apppledges.id) as 'Total pledges',\n",
        "        round(count(g_apppledges.id) / count(distinct g_apppledges.id), 1) as 'Pledges/pledging user',\n",
        "        round(count(g_apppledges.id) / count(distinct g_appusers.id), 1) as 'Pledges/all users'\n",
        "    from\n",
        "        daysoff.g_apppledges right join daysoff.g_appusers\n",
        "        on g_apppledges.id=g_appusers.id\n",
        "    where\n",
        "        joined between '2018-09-03' and '2018-09-13'\n",
        "    \"\"\")\n",
        "\n",
        "pledgesOverviewCampaign"
      ],
      "execution_count": 0,
      "outputs": []
    },
    {
      "metadata": {
        "id": "iM9THjU28yKv",
        "colab_type": "text"
      },
      "cell_type": "markdown",
      "source": [
        "## Pledges on timelines"
      ]
    },
    {
      "metadata": {
        "id": "dNKus1DNloYm",
        "colab_type": "code",
        "colab": {}
      },
      "cell_type": "code",
      "source": [
        "pledges = sql_to_df(\n",
        "    \"\"\"\n",
        "    select\n",
        "        id as 'user id', \n",
        "        week as 'pledged week', \n",
        "        week(week) as 'week number',\n",
        "        month(week) as 'month number',\n",
        "        daycount as 'days pledged'\n",
        "    from\n",
        "        daysoff.g_apppledges\n",
        "    \"\"\")\n",
        "\n",
        "pledges.head()"
      ],
      "execution_count": 0,
      "outputs": []
    },
    {
      "metadata": {
        "id": "UoSWjQOHp7zg",
        "colab_type": "code",
        "colab": {}
      },
      "cell_type": "code",
      "source": [
        "pledges.info()"
      ],
      "execution_count": 0,
      "outputs": []
    },
    {
      "metadata": {
        "id": "80OWL3CJqIAf",
        "colab_type": "code",
        "colab": {}
      },
      "cell_type": "code",
      "source": [
        "# converting strings to datetime \n",
        "\n",
        "pledges['pledged week'] = pd.to_datetime(pledges['pledged week'])"
      ],
      "execution_count": 0,
      "outputs": []
    },
    {
      "metadata": {
        "id": "I81ZRW0Rr6kj",
        "colab_type": "text"
      },
      "cell_type": "markdown",
      "source": [
        "### Pledges by week number (2017 and 2018 on the same axis)"
      ]
    },
    {
      "metadata": {
        "id": "J0tdQwnfr9PB",
        "colab_type": "code",
        "colab": {}
      },
      "cell_type": "code",
      "source": [
        "pledges_byWeekNumber = pledges.groupby('week number')['user id'].count()\n",
        "\n",
        "pledges_byWeekNumber.plot(title='Number of pledges by week number (2017 and 2018 on the same axis)');"
      ],
      "execution_count": 0,
      "outputs": []
    },
    {
      "metadata": {
        "id": "SMu36tYD4ALJ",
        "colab_type": "text"
      },
      "cell_type": "markdown",
      "source": [
        "### Pledges by month (2017 and 2018 on the same axis)"
      ]
    },
    {
      "metadata": {
        "id": "R-6mLouL3xM2",
        "colab_type": "code",
        "colab": {}
      },
      "cell_type": "code",
      "source": [
        "pledges_byMonthNumber = pledges.groupby('month number')['user id'].count()\n",
        "\n",
        "pledges_byMonthNumber.plot(title='Number of pledges by month (2017 and 2018 on the same axis)');"
      ],
      "execution_count": 0,
      "outputs": []
    },
    {
      "metadata": {
        "id": "4PG56h62GtMY",
        "colab_type": "text"
      },
      "cell_type": "markdown",
      "source": [
        "### Pledges by calendar week"
      ]
    },
    {
      "metadata": {
        "id": "MzsDW1TRFsez",
        "colab_type": "code",
        "colab": {}
      },
      "cell_type": "code",
      "source": [
        "pledges_byCalendarWeek = pledges.groupby('pledged week')['user id'].count()\n",
        "\n",
        "pledges_byCalendarWeek.plot(title='Number of pledges - app history timeline');"
      ],
      "execution_count": 0,
      "outputs": []
    },
    {
      "metadata": {
        "id": "e99w6Ph5ug2F",
        "colab_type": "text"
      },
      "cell_type": "markdown",
      "source": [
        "## How many days do people pledge"
      ]
    },
    {
      "metadata": {
        "id": "BQU4zP-OukG9",
        "colab_type": "code",
        "colab": {}
      },
      "cell_type": "code",
      "source": [
        "pledges_daysPledged = pledges.groupby('days pledged')['user id'].count()\n",
        "\n",
        "pledges_daysPledged.plot(title='How many users pledge how many days');"
      ],
      "execution_count": 0,
      "outputs": []
    },
    {
      "metadata": {
        "id": "9CUC9aMxhLiT",
        "colab_type": "code",
        "colab": {},
        "cellView": "form"
      },
      "cell_type": "code",
      "source": [
        "#@title\n",
        "pledgesCampaign = sql_to_df(\n",
        "    \"\"\"\n",
        "    select\n",
        "        g_apppledges.id as 'user id', \n",
        "        week as 'pledged week', \n",
        "        week(week) as 'week number',\n",
        "        month(week) as 'month number',\n",
        "        daycount as 'days pledged'\n",
        "    from\n",
        "        daysoff.g_apppledges right join daysoff.g_appusers\n",
        "        on g_apppledges.id=g_appusers.id\n",
        "    where\n",
        "        joined between '2018-09-03' and '2018-09-13'\n",
        "    \"\"\")\n"
      ],
      "execution_count": 0,
      "outputs": []
    },
    {
      "metadata": {
        "id": "rRD6wKnZhlMk",
        "colab_type": "code",
        "colab": {},
        "cellView": "form"
      },
      "cell_type": "code",
      "source": [
        "#@title\n",
        "pledges_daysPledged = pledgesCampaign.groupby('days pledged')['user id'].count()\n",
        "\n",
        "pledges_daysPledged.plot(title='How many users pledge how many days (campaign period)');"
      ],
      "execution_count": 0,
      "outputs": []
    },
    {
      "metadata": {
        "id": "-WpH0h-FwvWi",
        "colab_type": "text"
      },
      "cell_type": "markdown",
      "source": [
        "## Pledge variation across months\n",
        "Do people pledge more or less days depending on what time of year it is?"
      ]
    },
    {
      "metadata": {
        "id": "w586kA4QxaWd",
        "colab_type": "code",
        "colab": {}
      },
      "cell_type": "code",
      "source": [
        "pledges_variationMonth = pledges.groupby(['month number', 'days pledged'], as_index=False)['user id'].count()"
      ],
      "execution_count": 0,
      "outputs": []
    },
    {
      "metadata": {
        "id": "divP6WSSYynf",
        "colab_type": "text"
      },
      "cell_type": "markdown",
      "source": [
        "### Altair Viz charts"
      ]
    },
    {
      "metadata": {
        "id": "bYFTUWeTJ04j",
        "colab_type": "text"
      },
      "cell_type": "markdown",
      "source": [
        "For customisation of Altair charts [see documentation](https://altair-viz.github.io/user_guide/customization.html).\n",
        "\n",
        "For different colour schemes replace 'scheme_name' with a string that matches any of the available [Vega color schemes]( https://vega.github.io/vega/docs/schemes/#reference).\n",
        "\n",
        "```alt.Color('column name', scale=alt.Scale(scheme='scheme name'))```  "
      ]
    },
    {
      "metadata": {
        "id": "q0XiAMX7745H",
        "colab_type": "code",
        "colab": {}
      },
      "cell_type": "code",
      "source": [
        "import altair as alt"
      ],
      "execution_count": 0,
      "outputs": []
    },
    {
      "metadata": {
        "id": "lwRvw3bHzkci",
        "colab_type": "code",
        "colab": {}
      },
      "cell_type": "code",
      "source": [
        "alt.Chart(pledges_variationMonth, title='Days pledged by calendar month').mark_line().encode(\n",
        "    x='days pledged', \n",
        "    y=alt.X('user id', axis=alt.Axis(title='number of users')), \n",
        "    # y='user id',\n",
        "    color=alt.Color('month number:N', scale=alt.Scale(scheme='tableau20'))\n",
        ")"
      ],
      "execution_count": 0,
      "outputs": []
    },
    {
      "metadata": {
        "id": "hZIw0LY1KJKs",
        "colab_type": "code",
        "colab": {},
        "cellView": "form"
      },
      "cell_type": "code",
      "source": [
        "#@title\n",
        "# get totals for each month\n",
        "pledges_variationMonthsGrouped = pledges_variationMonth.groupby('month number', as_index=False)['user id'].sum()\n",
        "\n",
        "# get both values for percentage calculation into one table\n",
        "pledges_variationMonthNorm = pd.merge(pledges_variationMonth, \n",
        "                                      pledges_variationMonthsGrouped, \n",
        "                                      how='inner', \n",
        "                                      on='month number', \n",
        "                                      suffixes=('_mth', '_sum'))\n",
        "\n",
        "# calculate percentages\n",
        "pledges_variationMonthNorm['percent of total users each month'] = pledges_variationMonthNorm['user id_mth'] / (pledges_variationMonthNorm['user id_sum'] / 100)\n",
        "\n",
        "# plot\n",
        "alt.Chart(pledges_variationMonthNorm, title='Days pledged by calendar month - normalised').mark_line().encode(\n",
        "    x='days pledged',\n",
        "    y='percent of total users each month',\n",
        "    color=alt.Color('month number:N', scale=alt.Scale(scheme='tableau20')),\n",
        "    # opacity=alt.value(0.5),\n",
        ")\n"
      ],
      "execution_count": 0,
      "outputs": []
    },
    {
      "metadata": {
        "id": "2QoklC8aI4I-",
        "colab_type": "text"
      },
      "cell_type": "markdown",
      "source": [
        "## Pledge days"
      ]
    },
    {
      "metadata": {
        "id": "nciUp2fWHi1T",
        "colab_type": "text"
      },
      "cell_type": "markdown",
      "source": [
        "### Most popular days\n",
        "1 = Monday ... 0 = Sunday"
      ]
    },
    {
      "metadata": {
        "id": "iZ7TOWOHCGS0",
        "colab_type": "code",
        "colab": {}
      },
      "cell_type": "code",
      "source": [
        "pledgeDays = sql_to_df(\n",
        "    \"\"\"\n",
        "    select\n",
        "        count(distinct id) as 'number of users',\n",
        "        daycount as 'number of days pledged',\n",
        "        days as 'day combinations'\n",
        "    from\n",
        "        g_apppledges \n",
        "    group by \n",
        "        days\n",
        "    \"\"\")\n",
        "\n",
        "pledgeDays.head()"
      ],
      "execution_count": 0,
      "outputs": []
    },
    {
      "metadata": {
        "id": "zRzmAYaKHmzW",
        "colab_type": "text"
      },
      "cell_type": "markdown",
      "source": [
        "### Most popular day combinations\n",
        "1 = Monday ... 0 = Sunday"
      ]
    },
    {
      "metadata": {
        "id": "E1ce8WjzHsDc",
        "colab_type": "code",
        "colab": {}
      },
      "cell_type": "code",
      "source": [
        "pledgeDayCombos = sql_to_df(\n",
        "    \"\"\"\n",
        "    select\n",
        "        count(distinct id) as 'number of users',\n",
        "        days as 'day combinations'\n",
        "    from\n",
        "        g_apppledges \n",
        "    group by \n",
        "        days\n",
        "    order by\n",
        "        count(distinct id) desc\n",
        "    \"\"\")\n",
        "\n",
        "pledgeDayCombos.head()"
      ],
      "execution_count": 0,
      "outputs": []
    },
    {
      "metadata": {
        "id": "L8SnZ7CxIBNw",
        "colab_type": "code",
        "colab": {}
      },
      "cell_type": "code",
      "source": [
        "alt.Chart(pledgeDayCombos).mark_bar().encode(\n",
        "    x='day combinations',\n",
        "    y='number of users'\n",
        ")"
      ],
      "execution_count": 0,
      "outputs": []
    }
  ]
}