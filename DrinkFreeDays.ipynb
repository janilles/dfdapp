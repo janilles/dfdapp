{
  "nbformat": 4,
  "nbformat_minor": 0,
  "metadata": {
    "colab": {
      "name": "DrinkFreeDays.ipynb",
      "version": "0.3.2",
      "provenance": [],
      "private_outputs": true,
      "collapsed_sections": [
        "uFEwDPG2HkxA",
        "Jybkdb9UugTL",
        "JlwBGw3a83Pr",
        "CszBFySS2WBM"
      ],
      "toc_visible": true,
      "include_colab_link": true
    },
    "kernelspec": {
      "name": "python3",
      "display_name": "Python 3"
    },
    "accelerator": "GPU"
  },
  "cells": [
    {
      "cell_type": "markdown",
      "metadata": {
        "id": "view-in-github",
        "colab_type": "text"
      },
      "source": [
        "[View in Colaboratory](https://colab.research.google.com/github/janilles/dfdapp/blob/janilles-patch-1/DrinkFreeDays.ipynb)"
      ]
    },
    {
      "metadata": {
        "id": "hVd7cCkUJNjW",
        "colab_type": "text"
      },
      "cell_type": "markdown",
      "source": [
        "# Drink Free Days app data\n",
        "From AWS RDS using PyMySQL "
      ]
    },
    {
      "metadata": {
        "id": "i0C0jUBOJejP",
        "colab_type": "text"
      },
      "cell_type": "markdown",
      "source": [
        "## Install PyDrive for loading files from Google Drive\n",
        "https://pythonhosted.org/PyDrive/index.html"
      ]
    },
    {
      "metadata": {
        "id": "i-uwdb3-J8B8",
        "colab_type": "code",
        "colab": {}
      },
      "cell_type": "code",
      "source": [
        "# added -q for suppressing output\n",
        "!pip install -U -q PyDrive\n",
        "\n",
        "# see PyDrive documentation for libraries code snippets\n",
        "from pydrive.auth import GoogleAuth\n",
        "from pydrive.drive import GoogleDrive\n",
        "from google.colab import auth\n",
        "from oauth2client.client import GoogleCredentials\n",
        "\n",
        "# authenticate and create the PyDrive client\n",
        "auth.authenticate_user()\n",
        "gauth = GoogleAuth()\n",
        "gauth.credentials = GoogleCredentials.get_application_default()\n",
        "drive = GoogleDrive(gauth)"
      ],
      "execution_count": 0,
      "outputs": []
    },
    {
      "metadata": {
        "id": "uFEwDPG2HkxA",
        "colab_type": "text"
      },
      "cell_type": "markdown",
      "source": [
        "### Create and upload a text file with PyDrive (if needed)"
      ]
    },
    {
      "metadata": {
        "id": "zxnYzk-HLJxL",
        "colab_type": "text"
      },
      "cell_type": "markdown",
      "source": [
        "```python\n",
        "uploaded = drive.CreateFile({'title': 'sample_file.txt'})\n",
        "uploaded.SetContentString('Sample file content.')\n",
        "uploaded.Upload()\n",
        "print('Uploaded file with ID {}'.format(uploaded.get('id')))\n",
        "```"
      ]
    },
    {
      "metadata": {
        "id": "mz0Q6LMz7bxp",
        "colab_type": "text"
      },
      "cell_type": "markdown",
      "source": [
        ""
      ]
    },
    {
      "metadata": {
        "id": "Jybkdb9UugTL",
        "colab_type": "text"
      },
      "cell_type": "markdown",
      "source": [
        "### Get the Google Drive IDs of your file (if needed)"
      ]
    },
    {
      "metadata": {
        "id": "Z1rPVpFdOJac",
        "colab_type": "text"
      },
      "cell_type": "markdown",
      "source": [
        "You will need your file's google Drive ID to load the content of the text file into a variable with PyDrive.  \n",
        "\n",
        "To get the ID, you can either right-click on the file in your Google Drive and selcet 'Get shareable link' which gives you a URL with 'id=' in it.\n",
        "  \n",
        "Alternatively, you can obtain the ID directly from the notebook by running this code:  \n",
        "\n",
        "- Step 1:   \n",
        "Get your file's ID.  To get a list of all the file and folder IDs in the root folder:\n",
        "```python\n",
        "file_list = drive.ListFile({'q': \"'root' in parents and trashed=false\"}).GetList()\n",
        "for file1 in file_list:\n",
        "print(\"File %s\\n\\n\",(file1))\n",
        "```\n",
        "You can replace ```'root'``` with the folder ID your file is in. You can either get the folder ID from the web interface: ```drive.google.com/drive/u/0/folders/<folder ID>```  \n",
        "or have PyDrive list the IDs for you:\n",
        "```python\n",
        "# Paginate file lists and specify number of max results if necessary\n",
        "for file_list in drive.ListFile({'q': 'trashed=False', 'maxResults': 10}):\n",
        "  print('Received %s files from Files.list()' % len(file_list)) # <= 10\n",
        "  for file1 in file_list:\n",
        "      print('title: %s, id: %s' % (file1['title'], file1['id']))\n",
        "    ```\n",
        "- Step 2:   \n",
        "Load the file.\n",
        "```python\n",
        "downloaded = drive.CreateFile({'id': '<file ID>'})\n",
        "# you can print the content of the text file to check it\n",
        "print('Downloaded content \"{}\"'.format(downloaded.GetContentString()))\n",
        "```\n"
      ]
    },
    {
      "metadata": {
        "id": "ZUVy5ewwrxte",
        "colab_type": "text"
      },
      "cell_type": "markdown",
      "source": [
        "### Load the file's content into a variable"
      ]
    },
    {
      "metadata": {
        "id": "5aAq_cyXORAC",
        "colab_type": "code",
        "colab": {}
      },
      "cell_type": "code",
      "source": [
        "# insert ID of the file with the password\n",
        "# comment out the other user when running this cell\n",
        "\n",
        "# Jan's file\n",
        "passwd_file = drive.CreateFile({'id': '1YnGugBHvqjJk0nbTqN-683Agb0vaZKHo'}) \n",
        "\n",
        "# Tacey's file\n",
        "# passwd_file = drive.CreateFile({'id': ' '}) \n",
        "\n",
        "# load the password as a string into a variable\n",
        "# you will use this variable in pymysql connection\n",
        "# instead of the actual password string\n",
        "user_passwd = passwd_file.GetContentString()"
      ],
      "execution_count": 0,
      "outputs": []
    },
    {
      "metadata": {
        "id": "3QhdNMalfDmU",
        "colab_type": "text"
      },
      "cell_type": "markdown",
      "source": [
        "## Connect to AWS database via PyMySQL\n",
        "### Retrun SQL queries as Pandas dataframes\n",
        "Pandas ```read_sql``` [documentation](https://pandas.pydata.org/pandas-docs/stable/generated/pandas.read_sql.html)"
      ]
    },
    {
      "metadata": {
        "id": "_oFep_FLZJ2M",
        "colab_type": "code",
        "colab": {}
      },
      "cell_type": "code",
      "source": [
        "# added -q for suppressing output\n",
        "!pip install -q -U pymysql\n",
        "\n",
        "import pymysql\n",
        "import pandas as pd"
      ],
      "execution_count": 0,
      "outputs": []
    },
    {
      "metadata": {
        "id": "Bc4vHmqKZiyA",
        "colab_type": "code",
        "colab": {}
      },
      "cell_type": "code",
      "source": [
        "def connect():  \n",
        "    return pymysql.connect(\n",
        "        \n",
        "        host = \"df-phereplica3.crqbvr0pveqx.eu-west-1.rds.amazonaws.com\",\n",
        "        \n",
        "        #change user name and password as necessary\n",
        "           \n",
        "        user = \"jan\",\n",
        "        passwd = user_passwd, # text file loaded to variable with PyDrive\n",
        "   \n",
        "        # user = \"tacey\", \n",
        "        # passwd = user_passwd,\n",
        "        \n",
        "        db = \"daysoff\",\n",
        "        autocommit=True\n",
        "        \n",
        "        )\n",
        "\n",
        "connection = connect()\n",
        "\n",
        "def sql_to_df(sql):\n",
        "    \"\"\"\n",
        "    Returns SQL queries as pandas dataframes\n",
        "    \"\"\"\n",
        "    return pd.read_sql(sql, con = connection)"
      ],
      "execution_count": 0,
      "outputs": []
    },
    {
      "metadata": {
        "id": "3H4vBNdu2omb",
        "colab_type": "text"
      },
      "cell_type": "markdown",
      "source": [
        "# Database schmema\n",
        "See [MySQL documentation](https://dev.mysql.com/doc/refman/8.0/en/introduction.html) for SQL syntax."
      ]
    },
    {
      "metadata": {
        "id": "VnvN9hvW3EH2",
        "colab_type": "text"
      },
      "cell_type": "markdown",
      "source": [
        "## Show all tables\n",
        "However, only the following tables have app users' ID: \n",
        "\n",
        "- g_appdrinks  \n",
        "- g_appmotivations  \n",
        "- g_apppledges  \n",
        "- g_appusers  \n"
      ]
    },
    {
      "metadata": {
        "id": "WvDnaK992sZS",
        "colab_type": "code",
        "colab": {}
      },
      "cell_type": "code",
      "source": [
        "sql_to_df(\"SHOW TABLES\")"
      ],
      "execution_count": 0,
      "outputs": []
    },
    {
      "metadata": {
        "id": "FvYjuXSb3WgA",
        "colab_type": "text"
      },
      "cell_type": "markdown",
      "source": [
        "## Describe tables\n",
        "These are the five tables with app user info."
      ]
    },
    {
      "metadata": {
        "id": "iZPg1ZmMKMFw",
        "colab_type": "code",
        "colab": {}
      },
      "cell_type": "code",
      "source": [
        "# increase column width so that longer comments don't get truncated\n",
        "\n",
        "pd.set_option('max_colwidth',100)"
      ],
      "execution_count": 0,
      "outputs": []
    },
    {
      "metadata": {
        "id": "4UiIbBQp7c-L",
        "colab_type": "text"
      },
      "cell_type": "markdown",
      "source": [
        "### App users table"
      ]
    },
    {
      "metadata": {
        "id": "u-1xzGdCQxqm",
        "colab_type": "code",
        "colab": {}
      },
      "cell_type": "code",
      "source": [
        "sql_to_df(\"\"\"\n",
        "        select \n",
        "            table_name, column_name, data_type, column_comment\n",
        "        from \n",
        "            information_schema.columns\n",
        "        where\n",
        "            table_name = 'g_appusers'\n",
        "        \"\"\")"
      ],
      "execution_count": 0,
      "outputs": []
    },
    {
      "metadata": {
        "id": "gaiDhVt-7hLf",
        "colab_type": "text"
      },
      "cell_type": "markdown",
      "source": [
        "### Drinks table"
      ]
    },
    {
      "metadata": {
        "id": "NrwdTwmB-j3A",
        "colab_type": "code",
        "colab": {}
      },
      "cell_type": "code",
      "source": [
        "sql_to_df(\"\"\"\n",
        "        select \n",
        "            table_name, column_name, data_type, column_comment\n",
        "        from \n",
        "            information_schema.columns\n",
        "        where\n",
        "            table_name = 'g_appdrinks'\n",
        "        \"\"\")"
      ],
      "execution_count": 0,
      "outputs": []
    },
    {
      "metadata": {
        "id": "WIlIox8n7k2q",
        "colab_type": "text"
      },
      "cell_type": "markdown",
      "source": [
        "### Motivations table"
      ]
    },
    {
      "metadata": {
        "id": "eo0qehkC_KYE",
        "colab_type": "code",
        "colab": {}
      },
      "cell_type": "code",
      "source": [
        "sql_to_df(\"\"\"\n",
        "        select \n",
        "            table_name, column_name, data_type, column_comment\n",
        "        from \n",
        "            information_schema.columns\n",
        "        where\n",
        "            table_name = 'g_appmotivations'\n",
        "        \"\"\")"
      ],
      "execution_count": 0,
      "outputs": []
    },
    {
      "metadata": {
        "id": "pABlehhu7nF2",
        "colab_type": "text"
      },
      "cell_type": "markdown",
      "source": [
        "### Pledges table"
      ]
    },
    {
      "metadata": {
        "id": "sXBsb3XT_cG5",
        "colab_type": "code",
        "colab": {}
      },
      "cell_type": "code",
      "source": [
        "sql_to_df(\"\"\"\n",
        "        select \n",
        "            table_name, column_name, data_type, column_comment\n",
        "        from \n",
        "            information_schema.columns\n",
        "        where\n",
        "            table_name = 'g_apppledges'\n",
        "        \"\"\")"
      ],
      "execution_count": 0,
      "outputs": []
    },
    {
      "metadata": {
        "id": "RoKmOAjOP2tD",
        "colab_type": "text"
      },
      "cell_type": "markdown",
      "source": [
        "### Days off table"
      ]
    },
    {
      "metadata": {
        "id": "32eZqIqv3ZWf",
        "colab_type": "code",
        "colab": {}
      },
      "cell_type": "code",
      "source": [
        "sql_to_df(\"\"\"\n",
        "        select \n",
        "            table_name, column_name, data_type, column_comment\n",
        "        from \n",
        "            information_schema.columns\n",
        "        where\n",
        "            table_name = 'g_appdaysoff'\n",
        "        \"\"\")"
      ],
      "execution_count": 0,
      "outputs": []
    },
    {
      "metadata": {
        "id": "8t0NgYmtfl-H",
        "colab_type": "text"
      },
      "cell_type": "markdown",
      "source": [
        "# Reports\n",
        "SQL queries as strings inside ```qud()``` function defined as pymysql connection above.  \n",
        "See [MySQL documentation](https://dev.mysql.com/doc/refman/8.0/en/introduction.html) for SQL syntax reference."
      ]
    },
    {
      "metadata": {
        "id": "PCmIJ7bIEZTX",
        "colab_type": "text"
      },
      "cell_type": "markdown",
      "source": [
        "## Questions  \n",
        "\n",
        "DONE:\n",
        "- How long are people using the app for? \n",
        "- Does the order of selected motivations correspond to the order of most selected motivations? (ANSWER: No.)\n",
        "- When do people join, when do people pledge? Is there a time of the year difference? (ANSWER: No difference.)\n",
        "- How many users are pledging 1, 2, 3 or more days? Or are they pledging too much? Too little? (ANSWER: They're pledging too much. UX recommendation: \"Pledge less and build it up - you'll be more likely to meet your pledges.\")\n",
        "- Motivations by season - any variance? (ANSWER: No variance.)\n",
        "- Percentages of people using the app for 0, 1, 7-30, 30+days. (NOTE: User jurney is not designed for long term usage/drinks tracking.)\n",
        "\n",
        "TO DO:\n",
        "- Claculate risk levels (based on unites per week). Do they improve over time with days off achieved? (NOTE: We need some more info to know how to calculate it from the data we have.)\n"
      ]
    },
    {
      "metadata": {
        "id": "0DQ0Wnveul-Y",
        "colab_type": "text"
      },
      "cell_type": "markdown",
      "source": [
        "## How long are people using the app for?"
      ]
    },
    {
      "metadata": {
        "id": "DffKtPYt9Lnq",
        "colab_type": "text"
      },
      "cell_type": "markdown",
      "source": [
        "### SQL to df"
      ]
    },
    {
      "metadata": {
        "id": "AYGYt-8rtPsS",
        "colab_type": "code",
        "colab": {}
      },
      "cell_type": "code",
      "source": [
        "duration = sql_to_df(\n",
        "    \"\"\"\n",
        "    select\n",
        "        id, joined, lastseen\n",
        "    from\n",
        "        daysoff.g_appusers\n",
        "    order by\n",
        "        joined    \n",
        "    \"\"\")\n",
        "\n",
        "duration.head()"
      ],
      "execution_count": 0,
      "outputs": []
    },
    {
      "metadata": {
        "id": "QMWE1b1f5YHI",
        "colab_type": "code",
        "colab": {}
      },
      "cell_type": "code",
      "source": [
        "duration.info()"
      ],
      "execution_count": 0,
      "outputs": []
    },
    {
      "metadata": {
        "id": "JlwBGw3a83Pr",
        "colab_type": "text"
      },
      "cell_type": "markdown",
      "source": [
        "### Alternative SQL query  - question"
      ]
    },
    {
      "metadata": {
        "id": "IKfYSAyC3vH0",
        "colab_type": "code",
        "colab": {}
      },
      "cell_type": "code",
      "source": [
        "# why is the diff here only 30 when it's 578 in pandas? \n",
        "test = sql_to_df(\n",
        "    \"\"\"\n",
        "    select\n",
        "        id, joined, lastseen, DAY(lastseen) - DAY(joined) as diff\n",
        "    from\n",
        "        daysoff.g_appusers\n",
        "    order by\n",
        "        diff desc\n",
        "    \"\"\")\n",
        "\n",
        "test.head()"
      ],
      "execution_count": 0,
      "outputs": []
    },
    {
      "metadata": {
        "id": "Mc_cs0Rb9A-K",
        "colab_type": "text"
      },
      "cell_type": "markdown",
      "source": [
        "### Calculating difference "
      ]
    },
    {
      "metadata": {
        "id": "dhMh-JJxTrzz",
        "colab_type": "code",
        "colab": {}
      },
      "cell_type": "code",
      "source": [
        "duration['diff'] = duration['lastseen'] - duration['joined']\n",
        "\n",
        "duration.sort_values(by=['diff'], inplace=True, ascending=False)\n",
        "\n",
        "duration.head()"
      ],
      "execution_count": 0,
      "outputs": []
    },
    {
      "metadata": {
        "id": "VSuPSModhEgm",
        "colab_type": "code",
        "colab": {}
      },
      "cell_type": "code",
      "source": [
        "def extractDays(row):\n",
        "    \"\"\"\n",
        "    Takes the timedelta object in column 'diff'\n",
        "    and returns only the days from it.\n",
        "    \"\"\"\n",
        "    return row['diff'].days\n",
        "\n",
        "duration['days'] = duration.apply(extractDays, axis=1)\n",
        "\n",
        "duration.head()"
      ],
      "execution_count": 0,
      "outputs": []
    },
    {
      "metadata": {
        "id": "DiQlrYHePIgx",
        "colab_type": "code",
        "colab": {}
      },
      "cell_type": "code",
      "source": [
        "duration_plot = duration.groupby('days').count()"
      ],
      "execution_count": 0,
      "outputs": []
    },
    {
      "metadata": {
        "id": "JwKsIBObFXfG",
        "colab_type": "code",
        "colab": {}
      },
      "cell_type": "code",
      "source": [
        "# all values\n",
        "duration_plot.iloc[:,0:1].plot();"
      ],
      "execution_count": 0,
      "outputs": []
    },
    {
      "metadata": {
        "id": "hB4zhrUyFfnN",
        "colab_type": "code",
        "colab": {}
      },
      "cell_type": "code",
      "source": [
        "# 1+ days\n",
        "duration_plot.iloc[1:,0:1].plot();"
      ],
      "execution_count": 0,
      "outputs": []
    },
    {
      "metadata": {
        "id": "kE4yDxTHFoTQ",
        "colab_type": "code",
        "colab": {}
      },
      "cell_type": "code",
      "source": [
        "# between 7 and 31 days\n",
        "duration_plot.iloc[6:31,0:1].plot();"
      ],
      "execution_count": 0,
      "outputs": []
    },
    {
      "metadata": {
        "id": "3N3KqEvr7Ryw",
        "colab_type": "code",
        "colab": {}
      },
      "cell_type": "code",
      "source": [
        "# between 0 and 31 days\n",
        "duration_plot.iloc[:32,0:1].plot();"
      ],
      "execution_count": 0,
      "outputs": []
    },
    {
      "metadata": {
        "id": "5qAJmfG470Qm",
        "colab_type": "code",
        "colab": {}
      },
      "cell_type": "code",
      "source": [
        "# between 1 and 14 days\n",
        "duration_plot.iloc[1:15,0:1].plot();"
      ],
      "execution_count": 0,
      "outputs": []
    },
    {
      "metadata": {
        "id": "2ICCcl9yGDOL",
        "colab_type": "text"
      },
      "cell_type": "markdown",
      "source": [
        "### Calculating percentages"
      ]
    },
    {
      "metadata": {
        "id": "Yhpdp-lVGG2K",
        "colab_type": "code",
        "colab": {}
      },
      "cell_type": "code",
      "source": [
        "duration_pc = duration_plot.drop(columns=['joined', 'lastseen', 'diff'])\n",
        "\n",
        "duration_pc['perCent'] = duration_pc['id'] / (duration_pc['id'].sum() / 100)\n",
        "\n",
        "duration_pc.head(31)"
      ],
      "execution_count": 0,
      "outputs": []
    },
    {
      "metadata": {
        "id": "t6B9YssmtoGx",
        "colab_type": "code",
        "colab": {}
      },
      "cell_type": "code",
      "source": [
        "duration_pcb = duration.groupby('days', as_index=False).count()\n",
        "\n",
        "duration_pcb['perCent'] = duration_pcb['id'] / (duration_pcb['id'].sum() / 100)\n",
        "\n",
        "duration_pcb.head()"
      ],
      "execution_count": 0,
      "outputs": []
    },
    {
      "metadata": {
        "id": "xDT8SnN2vtVj",
        "colab_type": "code",
        "colab": {}
      },
      "cell_type": "code",
      "source": [
        "duration_pcb.head(8)"
      ],
      "execution_count": 0,
      "outputs": []
    },
    {
      "metadata": {
        "id": "MPIYJfBeufSq",
        "colab_type": "code",
        "colab": {}
      },
      "cell_type": "code",
      "source": [
        "duration_pcb[(duration_pcb['days'] > 0) & (duration_pcb['days'] < 8)]['perCent'].sum()"
      ],
      "execution_count": 0,
      "outputs": []
    },
    {
      "metadata": {
        "id": "PD52hYblzZGh",
        "colab_type": "code",
        "colab": {}
      },
      "cell_type": "code",
      "source": [
        "duration_pcb[(duration_pcb['days'] > 7) & (duration_pcb['days'] < 32)]['perCent'].sum()"
      ],
      "execution_count": 0,
      "outputs": []
    },
    {
      "metadata": {
        "id": "PyLue-dxzh8z",
        "colab_type": "code",
        "colab": {}
      },
      "cell_type": "code",
      "source": [
        "duration_pcb[duration_pcb['days'] > 31]['perCent'].sum()"
      ],
      "execution_count": 0,
      "outputs": []
    },
    {
      "metadata": {
        "id": "TYFYvvh9z0Ce",
        "colab_type": "code",
        "colab": {}
      },
      "cell_type": "code",
      "source": [
        "longer = duration_pcb[duration_pcb['days'] > 31]['perCent'].sum()\n",
        "\n",
        "month = duration_pcb[(duration_pcb['days'] > 7) & (duration_pcb['days'] < 32)]['perCent'].sum() \n",
        "\n",
        "week = duration_pcb[(duration_pcb['days'] > 0) & (duration_pcb['days'] < 8)]['perCent'].sum() \n",
        "\n",
        "zero = duration_pcb[duration_pcb['days'] == 0]['perCent'].sum()\n",
        "\n",
        "L1 = [zero, week, month, longer]\n",
        "\n",
        "L2 = [zero, (week+month+longer), (month+longer), longer]\n",
        "\n",
        "duration_dropoff = pd.DataFrame({'buckets':L1, \n",
        "                      'dropoff':L2, \n",
        "                      'def':['zero', 'at least a day', 'at least a week', 'at least a month']})\n",
        "\n",
        "duration_dropoff"
      ],
      "execution_count": 0,
      "outputs": []
    },
    {
      "metadata": {
        "id": "YEQgE_1l1fZG",
        "colab_type": "code",
        "colab": {}
      },
      "cell_type": "code",
      "source": [
        "duration_dropoff.plot();"
      ],
      "execution_count": 0,
      "outputs": []
    },
    {
      "metadata": {
        "id": "RrujBVzsdAuk",
        "colab_type": "code",
        "colab": {}
      },
      "cell_type": "code",
      "source": [
        "import altair as alt"
      ],
      "execution_count": 0,
      "outputs": []
    },
    {
      "metadata": {
        "id": "PLqgNPozx4yq",
        "colab_type": "text"
      },
      "cell_type": "markdown",
      "source": [
        "## Motivations"
      ]
    },
    {
      "metadata": {
        "id": "ziIOjPHS8T97",
        "colab_type": "code",
        "colab": {}
      },
      "cell_type": "code",
      "source": [
        "bars = alt.Chart(duration_dropoff).mark_bar().encode(\n",
        "    y='def',\n",
        "    x='dropoff'\n",
        ")\n",
        "\n",
        "bars"
      ],
      "execution_count": 0,
      "outputs": []
    },
    {
      "metadata": {
        "id": "fXtfvlcDqT3c",
        "colab_type": "text"
      },
      "cell_type": "markdown",
      "source": [
        "![](https://raw.githubusercontent.com/janilles/dfdapp/master/daysoffmotivations.PNG)\n"
      ]
    },
    {
      "metadata": {
        "id": "zJCULYOw6-vL",
        "colab_type": "text"
      },
      "cell_type": "markdown",
      "source": [
        "### Motivations by gender"
      ]
    },
    {
      "metadata": {
        "id": "3ADnZ-2S1lzQ",
        "colab_type": "code",
        "colab": {}
      },
      "cell_type": "code",
      "source": [
        "gender_motivations = sql_to_df(\n",
        "    \"\"\"\n",
        "    SELECT \n",
        "        COUNT(DISTINCT daysoff.g_appusers.id) AS userCount,\n",
        "        gender,\n",
        "        motivation\n",
        "    FROM \n",
        "        daysoff.g_appmotivations\n",
        "    JOIN \n",
        "        daysoff.g_appusers\n",
        "    USING \n",
        "        (id)\n",
        "    GROUP BY \n",
        "        gender, motivation\n",
        "    ORDER BY\n",
        "        motivation\n",
        "    \"\"\")\n",
        "\n",
        "gender_motivations.head(14)"
      ],
      "execution_count": 0,
      "outputs": []
    },
    {
      "metadata": {
        "id": "YsPmXOPQvZY2",
        "colab_type": "code",
        "colab": {}
      },
      "cell_type": "code",
      "source": [
        "# visualisations library\n",
        "# https://altair-viz.github.io/\n",
        "import altair as alt\n",
        "\n",
        "# for interactive charts\n",
        "alt.renderers.enable('colab');"
      ],
      "execution_count": 0,
      "outputs": []
    },
    {
      "metadata": {
        "id": "zi0h3lXk1U6u",
        "colab_type": "code",
        "colab": {}
      },
      "cell_type": "code",
      "source": [
        "alt.Chart(gender_motivations).mark_bar().encode(\n",
        "    alt.Color('gender:N'),\n",
        "    alt.Y('motivation:N'),\n",
        "    alt.X('userCount', stack='normalize')\n",
        ")"
      ],
      "execution_count": 0,
      "outputs": []
    },
    {
      "metadata": {
        "id": "DkgO7eguuIds",
        "colab_type": "code",
        "colab": {}
      },
      "cell_type": "code",
      "source": [
        "alt.Chart(gender_motivations).mark_bar(stroke='transparent').encode(\n",
        "    alt.Y('motivation:N', scale=alt.Scale(rangeStep=12), axis=alt.Axis(title='')),\n",
        "    alt.X('userCount:Q', axis=alt.Axis(title='user count', grid=False)),\n",
        "    color=alt.Color('gender:N', scale=alt.Scale(range=[\"#EA98D2\", \"#659CCA\"])),\n",
        "    column='gender:O'\n",
        ").configure_view(\n",
        "    stroke='transparent'\n",
        ").configure_axis(\n",
        "    domainWidth=0.8\n",
        ")"
      ],
      "execution_count": 0,
      "outputs": []
    },
    {
      "metadata": {
        "id": "lZ79dldhvqlb",
        "colab_type": "code",
        "colab": {}
      },
      "cell_type": "code",
      "source": [
        "alt.Chart(gender_motivations).mark_bar(stroke='transparent').encode(\n",
        "    alt.Y('gender:N', axis=alt.Axis(title='')),\n",
        "    alt.X('userCount:Q', axis=alt.Axis(title='user count', grid=False)),\n",
        "    color=alt.Color('gender:N', scale=alt.Scale(range=[\"#EA98D2\", \"#659CCA\"])),\n",
        "    column='motivation:O'\n",
        ").configure_view(\n",
        "    stroke='transparent'\n",
        ").configure_axis(\n",
        "    domainWidth=0.8\n",
        ")"
      ],
      "execution_count": 0,
      "outputs": []
    },
    {
      "metadata": {
        "id": "nMRlqJ5Vgchf",
        "colab_type": "code",
        "colab": {}
      },
      "cell_type": "code",
      "source": [
        "pivoted = pd.pivot_table(gender_motivations, \n",
        "                 values='userCount', \n",
        "                 index='motivation', \n",
        "                 columns='gender').reset_index()\n",
        "\n",
        "pivoted"
      ],
      "execution_count": 0,
      "outputs": []
    },
    {
      "metadata": {
        "id": "ySOytV4imif1",
        "colab_type": "code",
        "colab": {}
      },
      "cell_type": "code",
      "source": [
        "# reodering to match the order on app screen\n",
        "# needs more work - doesn't show in the chart\n",
        "pivoted.reindex([3,2,4,1,5,6,0])"
      ],
      "execution_count": 0,
      "outputs": []
    },
    {
      "metadata": {
        "id": "uoceqwMke6KX",
        "colab_type": "code",
        "colab": {}
      },
      "cell_type": "code",
      "source": [
        "base = alt.Chart(pivoted).encode(\n",
        "    alt.X('motivation:O',\n",
        "        axis=alt.Axis(format='%b'),\n",
        "        scale=alt.Scale(zero=False)\n",
        "    )\n",
        ")\n",
        "\n",
        "bar = base.mark_bar().encode(\n",
        "    y='Female'\n",
        ")\n",
        "\n",
        "\n",
        "line =  base.mark_line(color='red').encode(\n",
        "    y='Male',\n",
        ")\n",
        "\n",
        "alt.layer(\n",
        "    bar,\n",
        "    line\n",
        ").resolve_scale(\n",
        "    y='independent'\n",
        ")\n"
      ],
      "execution_count": 0,
      "outputs": []
    },
    {
      "metadata": {
        "id": "3ezuw7PlRUdv",
        "colab_type": "text"
      },
      "cell_type": "markdown",
      "source": [
        "### Motivations by age"
      ]
    },
    {
      "metadata": {
        "id": "U5DbihfrRXw_",
        "colab_type": "code",
        "colab": {}
      },
      "cell_type": "code",
      "source": [
        "age_motivations = sql_to_df(\n",
        "    \"\"\"\n",
        "    SELECT \n",
        "        COUNT(DISTINCT daysoff.g_appusers.id) AS userCount,\n",
        "        age,\n",
        "        motivation\n",
        "    FROM \n",
        "        daysoff.g_appmotivations\n",
        "    JOIN \n",
        "        daysoff.g_appusers\n",
        "    USING \n",
        "        (id)\n",
        "    GROUP BY\n",
        "        age, motivation\n",
        "    ORDER BY\n",
        "        userCount, age, motivation\n",
        "    \"\"\")\n",
        "\n",
        "age_motivations.head()"
      ],
      "execution_count": 0,
      "outputs": []
    },
    {
      "metadata": {
        "id": "-9jWlqCKjTPC",
        "colab_type": "code",
        "colab": {}
      },
      "cell_type": "code",
      "source": [
        "alt.Chart(age_motivations).mark_line().encode(\n",
        "    x='age',\n",
        "    y='userCount',\n",
        "    color='motivation'\n",
        ")"
      ],
      "execution_count": 0,
      "outputs": []
    },
    {
      "metadata": {
        "id": "cBpI4hy2oCMY",
        "colab_type": "code",
        "colab": {}
      },
      "cell_type": "code",
      "source": [
        "alt.Chart(age_motivations).mark_bar().encode(\n",
        "    alt.X('age:O', scale=alt.Scale(rangeStep=17)),\n",
        "    alt.Y('userCount:Q',\n",
        "        axis=alt.Axis(title='User count'),\n",
        "        stack='normalize'\n",
        "    ),\n",
        "    alt.Color('motivation:N')\n",
        ")"
      ],
      "execution_count": 0,
      "outputs": []
    },
    {
      "metadata": {
        "id": "6W3cm6XppS55",
        "colab_type": "code",
        "colab": {}
      },
      "cell_type": "code",
      "source": [
        "alt.Chart(age_motivations).mark_bar().encode(\n",
        "    alt.X('userCount:Q', scale=alt.Scale(rangeStep=17)),\n",
        "    alt.Y('age:O',\n",
        "        axis=alt.Axis(title='Age'),\n",
        "    ),\n",
        "    alt.Color('motivation:N')\n",
        ")"
      ],
      "execution_count": 0,
      "outputs": []
    },
    {
      "metadata": {
        "id": "rTjRFWDOfr8b",
        "colab_type": "text"
      },
      "cell_type": "markdown",
      "source": [
        "### Motivations by seasons"
      ]
    },
    {
      "metadata": {
        "id": "ZGk-NhzzfwAp",
        "colab_type": "code",
        "colab": {}
      },
      "cell_type": "code",
      "source": [
        "season_motivations = sql_to_df(\n",
        "    \"\"\"\n",
        "    SELECT \n",
        "        daysoff.g_appusers.id as userID,\n",
        "        joined,\n",
        "        motivation\n",
        "    FROM \n",
        "        daysoff.g_appmotivations\n",
        "    JOIN \n",
        "        daysoff.g_appusers\n",
        "    USING \n",
        "        (id)\n",
        "    \"\"\")\n",
        "\n",
        "season_motivations.head()"
      ],
      "execution_count": 0,
      "outputs": []
    },
    {
      "metadata": {
        "id": "fhN3CAg-iCsh",
        "colab_type": "code",
        "colab": {}
      },
      "cell_type": "code",
      "source": [
        "def extractMonthSeason(row):\n",
        "    \"\"\"\n",
        "    Takes the datetime object in column 'joined'\n",
        "    and returns the month number from it.\n",
        "    \"\"\"\n",
        "    return row['joined'].month\n",
        "\n",
        "season_motivations['monthNumber'] = season_motivations.apply(extractMonthSeason, axis=1)\n",
        "\n",
        "season_motivations.head()"
      ],
      "execution_count": 0,
      "outputs": []
    },
    {
      "metadata": {
        "id": "ZkP_HskNi0If",
        "colab_type": "code",
        "colab": {}
      },
      "cell_type": "code",
      "source": [
        "plot_season = season_motivations.groupby(['motivation', 'monthNumber'], as_index=False)['userID'].count()\n",
        "\n",
        "plot_season.head()"
      ],
      "execution_count": 0,
      "outputs": []
    },
    {
      "metadata": {
        "id": "-ROK2ahdjy4x",
        "colab_type": "code",
        "colab": {}
      },
      "cell_type": "code",
      "source": [
        "alt.Chart(plot_season).mark_line().encode(\n",
        "    x='monthNumber',\n",
        "    y='userID',\n",
        "    color=alt.Color('motivation:N', scale=alt.Scale(scheme='tableau20'))\n",
        ")"
      ],
      "execution_count": 0,
      "outputs": []
    },
    {
      "metadata": {
        "id": "-pIc5FpgiOMW",
        "colab_type": "text"
      },
      "cell_type": "markdown",
      "source": [
        "## When are people joining?"
      ]
    },
    {
      "metadata": {
        "id": "eiv-2SQjkzGj",
        "colab_type": "text"
      },
      "cell_type": "markdown",
      "source": [
        "### SQL to df"
      ]
    },
    {
      "metadata": {
        "id": "VRgXB-BEiSUG",
        "colab_type": "code",
        "colab": {}
      },
      "cell_type": "code",
      "source": [
        "df = sql_to_df(\n",
        "    \"\"\"\n",
        "    select\n",
        "        id, joined\n",
        "    from\n",
        "        daysoff.g_appusers\n",
        "    order by\n",
        "        joined    \n",
        "    \"\"\")\n",
        "\n",
        "df.head()"
      ],
      "execution_count": 0,
      "outputs": []
    },
    {
      "metadata": {
        "id": "fru1GB0Yk2Wk",
        "colab_type": "text"
      },
      "cell_type": "markdown",
      "source": [
        "### Function to extract months"
      ]
    },
    {
      "metadata": {
        "id": "qcHmh60kiis5",
        "colab_type": "code",
        "colab": {}
      },
      "cell_type": "code",
      "source": [
        "def extractMonths(row):\n",
        "    \"\"\"\n",
        "    Takes the datetime object in column 'joined'\n",
        "    and returns only the months from it.\n",
        "    \"\"\"\n",
        "    return row['joined'].month\n",
        "\n",
        "df['month'] = df.apply(extractMonths, axis=1)\n",
        "\n",
        "df.head()"
      ],
      "execution_count": 0,
      "outputs": []
    },
    {
      "metadata": {
        "id": "B8aDgrbYlCVI",
        "colab_type": "text"
      },
      "cell_type": "markdown",
      "source": [
        "### Plot"
      ]
    },
    {
      "metadata": {
        "id": "1odz-o4njpaA",
        "colab_type": "code",
        "colab": {}
      },
      "cell_type": "code",
      "source": [
        "df_plot = df.groupby('month').count()\n",
        "\n",
        "df_plot"
      ],
      "execution_count": 0,
      "outputs": []
    },
    {
      "metadata": {
        "id": "B8-AmCMmjxJW",
        "colab_type": "code",
        "colab": {}
      },
      "cell_type": "code",
      "source": [
        "# all values\n",
        "df_plot.iloc[:,0:1].plot();"
      ],
      "execution_count": 0,
      "outputs": []
    },
    {
      "metadata": {
        "id": "p2q7OPB7ktDp",
        "colab_type": "text"
      },
      "cell_type": "markdown",
      "source": [
        "### Calculating percentages"
      ]
    },
    {
      "metadata": {
        "id": "HrgIBNUPkGnS",
        "colab_type": "code",
        "colab": {}
      },
      "cell_type": "code",
      "source": [
        "df_pc = df_plot.drop(columns=['joined'])\n",
        "\n",
        "df_pc['perCent'] = df_pc['id'] / (df_pc['id'].sum() / 100)\n",
        "\n",
        "df_pc.head(12)"
      ],
      "execution_count": 0,
      "outputs": []
    },
    {
      "metadata": {
        "id": "Zbgg_X4eRva3",
        "colab_type": "text"
      },
      "cell_type": "markdown",
      "source": [
        "## How many active app users are there each day?\n",
        "Total number each day defined as all users who have joined from start date of specified period less those users who stopped using the app to report self-moderation the previous day. "
      ]
    },
    {
      "metadata": {
        "id": "SD0sBQdoTHul",
        "colab_type": "text"
      },
      "cell_type": "markdown",
      "source": [
        "### SQL to df"
      ]
    },
    {
      "metadata": {
        "id": "K8EtcFLwR6cE",
        "colab_type": "code",
        "colab": {}
      },
      "cell_type": "code",
      "source": [
        "appUsers = sql_to_df(\n",
        "    \"\"\"\n",
        "    select\n",
        "        id, joined, lastseen\n",
        "    from\n",
        "        daysoff.g_appusers\n",
        "    where\n",
        "        joined between '2017-01-17 00:00:00' and '2017-03-31 23:59:59'\n",
        "    order by\n",
        "        joined    \n",
        "    \"\"\")\n",
        "\n",
        "appUsers.head()\n"
      ],
      "execution_count": 0,
      "outputs": []
    },
    {
      "metadata": {
        "id": "Yqlu9EXSTPhd",
        "colab_type": "text"
      },
      "cell_type": "markdown",
      "source": [
        "### Drop times from datetime columns "
      ]
    },
    {
      "metadata": {
        "id": "PP5LwtbtNz6w",
        "colab_type": "code",
        "colab": {}
      },
      "cell_type": "code",
      "source": [
        "# without pd.to_datetime it returns the dates as dtype object\n",
        "\n",
        "appUsers['joined'] = pd.to_datetime(appUsers['joined'].dt.date)\n",
        "appUsers['lastseen'] = pd.to_datetime(appUsers['lastseen'].dt.date)\n",
        "\n",
        "appUsers.head()"
      ],
      "execution_count": 0,
      "outputs": []
    },
    {
      "metadata": {
        "id": "X4U3hLNnPubx",
        "colab_type": "code",
        "colab": {}
      },
      "cell_type": "code",
      "source": [
        "appUsers.info()"
      ],
      "execution_count": 0,
      "outputs": []
    },
    {
      "metadata": {
        "id": "bdchgOjNrKzg",
        "colab_type": "text"
      },
      "cell_type": "markdown",
      "source": [
        "### Loop counting total active app users by day"
      ]
    },
    {
      "metadata": {
        "id": "0Z6JdU2picXh",
        "colab_type": "code",
        "colab": {}
      },
      "cell_type": "code",
      "source": [
        "# we need this for arithmetic operations on dates\n",
        "# when adding +1 day to our date\n",
        "\n",
        "from datetime import timedelta"
      ],
      "execution_count": 0,
      "outputs": []
    },
    {
      "metadata": {
        "id": "2-F9K-UiSpCk",
        "colab_type": "code",
        "colab": {}
      },
      "cell_type": "code",
      "source": [
        "#Handy way to count number of days for loop\n",
        "\n",
        "pd.to_datetime('2017-03-31') - pd.to_datetime('2017-01-17')"
      ],
      "execution_count": 0,
      "outputs": []
    },
    {
      "metadata": {
        "id": "VIZdb7TNui0p",
        "colab_type": "code",
        "colab": {}
      },
      "cell_type": "code",
      "source": [
        "#loop cycles through number of days from start date up to day limit (both hardcoded)\n",
        "#set lastDate to same day as joinDate because some users will join and leave on same date\n",
        "results = []\n",
        "\n",
        "for i in range(73): \n",
        "    joinDate = pd.to_datetime('2017-01-17') + timedelta(days=i)\n",
        "    lastDate = pd.to_datetime('2017-01-17') + timedelta(days=i)\n",
        "    x = appUsers['id'].loc[(appUsers['joined'] <= joinDate) & \n",
        "                           (appUsers['lastseen'] >= lastDate)].count()\n",
        "    results.append(x)"
      ],
      "execution_count": 0,
      "outputs": []
    },
    {
      "metadata": {
        "id": "atDb0gBynNlu",
        "colab_type": "code",
        "colab": {}
      },
      "cell_type": "code",
      "source": [
        "usersEachDay = pd.DataFrame(results)\n",
        "\n",
        "usersEachDay.plot(kind='bar', \n",
        "                  title='Total app users by day', \n",
        "                  legend=False);"
      ],
      "execution_count": 0,
      "outputs": []
    },
    {
      "metadata": {
        "id": "Gm6h-34nBSgE",
        "colab_type": "text"
      },
      "cell_type": "markdown",
      "source": [
        "### Counting users joining each day - to check above"
      ]
    },
    {
      "metadata": {
        "id": "wqT31hG9BRmS",
        "colab_type": "code",
        "colab": {}
      },
      "cell_type": "code",
      "source": [
        "#Note: must change number of days and start date to match spec in loop\n",
        "\n",
        "joining = []\n",
        "\n",
        "for i in range(73):\n",
        "    joinDate = pd.to_datetime('2017-01-17') + timedelta(days=i)\n",
        "    x = appUsers['id'].loc[(appUsers['joined'] == joinDate)].count()\n",
        "    joining.append(x)"
      ],
      "execution_count": 0,
      "outputs": []
    },
    {
      "metadata": {
        "id": "wZeP68y-Btq0",
        "colab_type": "code",
        "colab": {}
      },
      "cell_type": "code",
      "source": [
        "joiningEachDay = pd.DataFrame(joining)\n",
        "\n",
        "joiningEachDay.plot(kind='bar', \n",
        "                  title='Total app users joining by day', \n",
        "                  legend=False);"
      ],
      "execution_count": 0,
      "outputs": []
    },
    {
      "metadata": {
        "id": "rkl0ysRED_gD",
        "colab_type": "text"
      },
      "cell_type": "markdown",
      "source": [
        "### Plotting total active users by calendar date\n"
      ]
    },
    {
      "metadata": {
        "id": "G1EVTwSMUIq4",
        "colab_type": "code",
        "colab": {}
      },
      "cell_type": "code",
      "source": [
        "#Change format from YYYY-MM-DD HH:MM:SS to YYYY-MM-DD \n",
        "\n",
        "resultsYear = []\n",
        "calendarDay = []\n",
        "\n",
        "for i in range(73):\n",
        "    joinDate = pd.to_datetime('2017-01-17') + timedelta(days=i)\n",
        "    lastDate = pd.to_datetime('2017-01-17') + timedelta(days=i)\n",
        "    x = appUsers['id'].loc[(appUsers['joined'] <= joinDate) & \n",
        "                               (appUsers['lastseen'] >= lastDate)].count()\n",
        "    resultsYear.append(x)\n",
        "    calendarDay.append(joinDate)"
      ],
      "execution_count": 0,
      "outputs": []
    },
    {
      "metadata": {
        "id": "12FxZHGnUY-Z",
        "colab_type": "code",
        "colab": {}
      },
      "cell_type": "code",
      "source": [
        "appUsers = pd.DataFrame({'day':calendarDay,'users':resultsYear})\n",
        "\n",
        "appUsers.set_index('day', inplace=True)"
      ],
      "execution_count": 0,
      "outputs": []
    },
    {
      "metadata": {
        "id": "zG5ruI1QFH97",
        "colab_type": "code",
        "colab": {}
      },
      "cell_type": "code",
      "source": [
        "appUsers.plot(kind='line', \n",
        "                  title='Total active app users by calendar day', \n",
        "                  legend=False);"
      ],
      "execution_count": 0,
      "outputs": []
    },
    {
      "metadata": {
        "id": "FMBuSwdkqsPb",
        "colab_type": "text"
      },
      "cell_type": "markdown",
      "source": [
        "### Export df to csv"
      ]
    },
    {
      "metadata": {
        "id": "_JVpAlB9qQF2",
        "colab_type": "code",
        "colab": {}
      },
      "cell_type": "code",
      "source": [
        "appUsers.to_csv('appUsers.csv', index=False)\n",
        "\n",
        "#usersEachDay.to_csv('appUsers.csv', index=False)\n",
        "\n",
        "from google.colab import files\n",
        "\n",
        "files.download('appUsers.csv')"
      ],
      "execution_count": 0,
      "outputs": []
    },
    {
      "metadata": {
        "id": "1Oar53iElqBR",
        "colab_type": "text"
      },
      "cell_type": "markdown",
      "source": [
        "## Pledges"
      ]
    },
    {
      "metadata": {
        "id": "JHxn2inNVP90",
        "colab_type": "text"
      },
      "cell_type": "markdown",
      "source": [
        "### Overview \n",
        "* number of users (=number of downloads)\n",
        "* number of users who pledge \n",
        "* number of pledges made"
      ]
    },
    {
      "metadata": {
        "id": "4OfEggOxPu1G",
        "colab_type": "code",
        "colab": {}
      },
      "cell_type": "code",
      "source": [
        "pledgesCount = sql_to_df(\n",
        "    \"\"\"\n",
        "    select\n",
        "        count(distinct g_appusers.id) as 'Number of users (downloads)',\n",
        "        count(distinct g_apppledges.id) as 'Number of users who have pledged',\n",
        "        count(g_apppledges.id) as 'Number of pledges made'       \n",
        "    from\n",
        "        daysoff.g_apppledges right join daysoff.g_appusers\n",
        "        on g_apppledges.id=g_appusers.id\n",
        "    \"\"\")\n",
        "\n",
        "pledgesCount"
      ],
      "execution_count": 0,
      "outputs": []
    },
    {
      "metadata": {
        "id": "rARPB99plr-U",
        "colab_type": "text"
      },
      "cell_type": "markdown",
      "source": [
        "### SQL to df"
      ]
    },
    {
      "metadata": {
        "id": "dNKus1DNloYm",
        "colab_type": "code",
        "colab": {}
      },
      "cell_type": "code",
      "source": [
        "pledges = sql_to_df(\n",
        "    \"\"\"\n",
        "    select\n",
        "        id, week, daycount, days\n",
        "    from\n",
        "        daysoff.g_apppledges\n",
        "    order by\n",
        "        daycount desc\n",
        "    \"\"\")\n",
        "\n",
        "pledges.head()"
      ],
      "execution_count": 0,
      "outputs": []
    },
    {
      "metadata": {
        "id": "UoSWjQOHp7zg",
        "colab_type": "code",
        "colab": {}
      },
      "cell_type": "code",
      "source": [
        "pledges.info()"
      ],
      "execution_count": 0,
      "outputs": []
    },
    {
      "metadata": {
        "id": "80OWL3CJqIAf",
        "colab_type": "code",
        "colab": {}
      },
      "cell_type": "code",
      "source": [
        "# converting strings to datetime \n",
        "pledges['week'] = pd.to_datetime(pledges['week'])"
      ],
      "execution_count": 0,
      "outputs": []
    },
    {
      "metadata": {
        "id": "MsDbME0rpH2b",
        "colab_type": "text"
      },
      "cell_type": "markdown",
      "source": [
        "### Function to extract weeks"
      ]
    },
    {
      "metadata": {
        "id": "SwxUpM50mQmK",
        "colab_type": "code",
        "colab": {}
      },
      "cell_type": "code",
      "source": [
        "def extractWeekNumber(row):\n",
        "    \"\"\"\n",
        "    Takes the datetime object in column 'week'\n",
        "    and returns the week number from it.\n",
        "    \"\"\"\n",
        "    return row['week'].week\n",
        "\n",
        "pledges['weekNumber'] = pledges.apply(extractWeekNumber, axis=1)\n",
        "\n",
        "pledges.head()"
      ],
      "execution_count": 0,
      "outputs": []
    },
    {
      "metadata": {
        "id": "I81ZRW0Rr6kj",
        "colab_type": "text"
      },
      "cell_type": "markdown",
      "source": [
        "### Plot when people pledge"
      ]
    },
    {
      "metadata": {
        "id": "J0tdQwnfr9PB",
        "colab_type": "code",
        "colab": {}
      },
      "cell_type": "code",
      "source": [
        "pledges_plot = pledges.groupby('weekNumber').count()"
      ],
      "execution_count": 0,
      "outputs": []
    },
    {
      "metadata": {
        "id": "ytMl9MC-sWQi",
        "colab_type": "code",
        "colab": {}
      },
      "cell_type": "code",
      "source": [
        "# all values\n",
        "pledges_plot.iloc[:,0:1].plot();"
      ],
      "execution_count": 0,
      "outputs": []
    },
    {
      "metadata": {
        "id": "e99w6Ph5ug2F",
        "colab_type": "text"
      },
      "cell_type": "markdown",
      "source": [
        "### Plot how much people pledge"
      ]
    },
    {
      "metadata": {
        "id": "BQU4zP-OukG9",
        "colab_type": "code",
        "colab": {}
      },
      "cell_type": "code",
      "source": [
        "pledges_daycount = pledges.groupby('daycount').count()"
      ],
      "execution_count": 0,
      "outputs": []
    },
    {
      "metadata": {
        "id": "IZhw4DfKu5Ji",
        "colab_type": "code",
        "colab": {}
      },
      "cell_type": "code",
      "source": [
        "# all values\n",
        "pledges_daycount.iloc[:,0:1].plot();"
      ],
      "execution_count": 0,
      "outputs": []
    },
    {
      "metadata": {
        "id": "-WpH0h-FwvWi",
        "colab_type": "text"
      },
      "cell_type": "markdown",
      "source": [
        "### Plot pledge count by month"
      ]
    },
    {
      "metadata": {
        "id": "mV8OA8Daw19C",
        "colab_type": "text"
      },
      "cell_type": "markdown",
      "source": [
        "#### Function to extract month"
      ]
    },
    {
      "metadata": {
        "id": "09uwQ9ecw58L",
        "colab_type": "code",
        "colab": {}
      },
      "cell_type": "code",
      "source": [
        "def extractMonthNumber(row):\n",
        "    \"\"\"\n",
        "    Takes the datetime object in column 'week'\n",
        "    and returns the month number from it.\n",
        "    \"\"\"\n",
        "    return row['week'].month\n",
        "\n",
        "pledges['monthNumber'] = pledges.apply(extractMonthNumber, axis=1)\n",
        "\n",
        "pledges.head()"
      ],
      "execution_count": 0,
      "outputs": []
    },
    {
      "metadata": {
        "id": "w586kA4QxaWd",
        "colab_type": "code",
        "colab": {}
      },
      "cell_type": "code",
      "source": [
        "pledges_plot_m = pledges.groupby(['monthNumber', 'daycount'], as_index=False).count()"
      ],
      "execution_count": 0,
      "outputs": []
    },
    {
      "metadata": {
        "id": "zGQI6Ffax6N-",
        "colab_type": "code",
        "colab": {}
      },
      "cell_type": "code",
      "source": [
        "pledges_plot_m.head()"
      ],
      "execution_count": 0,
      "outputs": []
    },
    {
      "metadata": {
        "id": "divP6WSSYynf",
        "colab_type": "text"
      },
      "cell_type": "markdown",
      "source": [
        "#### Pledge by month"
      ]
    },
    {
      "metadata": {
        "id": "bYFTUWeTJ04j",
        "colab_type": "text"
      },
      "cell_type": "markdown",
      "source": [
        "Colour scheme: You can also use ```alt.Color('column name', scale=alt.Scale(scheme='scheme name'))``` where scheme_name is a string that matches any of the available Vega color schemes: https://vega.github.io/vega/docs/schemes/#reference"
      ]
    },
    {
      "metadata": {
        "id": "lwRvw3bHzkci",
        "colab_type": "code",
        "colab": {}
      },
      "cell_type": "code",
      "source": [
        "alt.Chart(pledges_plot_m).mark_line().encode(\n",
        "    x='daycount',\n",
        "    y='id',\n",
        "    color=alt.Color('monthNumber:N', scale=alt.Scale(scheme='tableau20'))\n",
        ")"
      ],
      "execution_count": 0,
      "outputs": []
    },
    {
      "metadata": {
        "id": "CszBFySS2WBM",
        "colab_type": "text"
      },
      "cell_type": "markdown",
      "source": [
        "#### Pledge by month - mormalised - data prep"
      ]
    },
    {
      "metadata": {
        "id": "Pb54ft3kT-EX",
        "colab_type": "code",
        "colab": {}
      },
      "cell_type": "code",
      "source": [
        "pledges_plot_m.head(7)"
      ],
      "execution_count": 0,
      "outputs": []
    },
    {
      "metadata": {
        "id": "o18vKbRVUM93",
        "colab_type": "code",
        "colab": {}
      },
      "cell_type": "code",
      "source": [
        "pledges_plot_mg = pledges_plot_m.groupby(['monthNumber'], as_index=False)['id'].sum()"
      ],
      "execution_count": 0,
      "outputs": []
    },
    {
      "metadata": {
        "id": "j_bq7r7_VtJq",
        "colab_type": "code",
        "colab": {}
      },
      "cell_type": "code",
      "source": [
        "pledges_plot_mg.head()"
      ],
      "execution_count": 0,
      "outputs": []
    },
    {
      "metadata": {
        "id": "IgG7r0K0V3Xa",
        "colab_type": "code",
        "colab": {}
      },
      "cell_type": "code",
      "source": [
        "pledges_plot_mg.columns= ['monthNumber', 'monthSum']\n",
        "pledges_plot_mg.head()"
      ],
      "execution_count": 0,
      "outputs": []
    },
    {
      "metadata": {
        "id": "v9alEFBJWvS8",
        "colab_type": "code",
        "colab": {}
      },
      "cell_type": "code",
      "source": [
        "monthNorm = pd.merge(pledges_plot_m, pledges_plot_mg, how='inner', on='monthNumber')\n",
        "\n",
        "monthNorm.head(14)"
      ],
      "execution_count": 0,
      "outputs": []
    },
    {
      "metadata": {
        "id": "wjgB8IVaXVg_",
        "colab_type": "code",
        "colab": {}
      },
      "cell_type": "code",
      "source": [
        "monthNorm['percent'] = monthNorm['id'] / (monthNorm['monthSum'] / 100)\n",
        "\n",
        "monthNorm.head(14)"
      ],
      "execution_count": 0,
      "outputs": []
    },
    {
      "metadata": {
        "id": "8ACbBjtFYHuo",
        "colab_type": "text"
      },
      "cell_type": "markdown",
      "source": [
        "#### Pledge by month - normalised"
      ]
    },
    {
      "metadata": {
        "id": "_LV-YGqQX3WX",
        "colab_type": "code",
        "colab": {}
      },
      "cell_type": "code",
      "source": [
        "alt.Chart(monthNorm).mark_line().encode(\n",
        "    x='daycount',\n",
        "    y='percent',\n",
        "    color=alt.Color('monthNumber:N', scale=alt.Scale(scheme='tableau20'))\n",
        ")"
      ],
      "execution_count": 0,
      "outputs": []
    },
    {
      "metadata": {
        "id": "P7uVZ4OTPENG",
        "colab_type": "text"
      },
      "cell_type": "markdown",
      "source": [
        "### Plot most popular day off (when only one day is pledged)"
      ]
    },
    {
      "metadata": {
        "id": "WA8YI_4LLP9l",
        "colab_type": "code",
        "colab": {}
      },
      "cell_type": "code",
      "source": [
        "pledges_plot_d = pledges.groupby(['daycount', 'days'], as_index=False).count()\n",
        "\n",
        "pledges_plot_d.head(7)"
      ],
      "execution_count": 0,
      "outputs": []
    },
    {
      "metadata": {
        "id": "c_ecH6KDNwuD",
        "colab_type": "code",
        "colab": {}
      },
      "cell_type": "code",
      "source": [
        "# daycount = 1\n",
        "# when it's just one day pledged\n",
        "# most popular is 1 (which is Tuesday or Monday?)\n",
        "# index 0 == Monday?\n",
        "pledges_plot_d.iloc[0:7,1:3].plot();"
      ],
      "execution_count": 0,
      "outputs": []
    },
    {
      "metadata": {
        "id": "z5RAZOAqQ9nj",
        "colab_type": "text"
      },
      "cell_type": "markdown",
      "source": [
        "## Days off"
      ]
    },
    {
      "metadata": {
        "id": "5YmkmYQgRCFF",
        "colab_type": "text"
      },
      "cell_type": "markdown",
      "source": [
        "### SQL to df"
      ]
    },
    {
      "metadata": {
        "id": "SW6gDQfIREGn",
        "colab_type": "code",
        "colab": {}
      },
      "cell_type": "code",
      "source": [
        "daysoff = sql_to_df(\n",
        "    \"\"\"\n",
        "    SELECT \n",
        "        *\n",
        "    FROM \n",
        "        daysoff.g_appdaysoff\n",
        "    \"\"\")\n",
        "\n",
        "daysoff.head()"
      ],
      "execution_count": 0,
      "outputs": []
    },
    {
      "metadata": {
        "id": "hhXvg4_0Rhpk",
        "colab_type": "code",
        "colab": {}
      },
      "cell_type": "code",
      "source": [
        "daysoff.info()"
      ],
      "execution_count": 0,
      "outputs": []
    },
    {
      "metadata": {
        "id": "ATB0q1IqR1bU",
        "colab_type": "text"
      },
      "cell_type": "markdown",
      "source": [
        "### Function to get week numbers"
      ]
    },
    {
      "metadata": {
        "id": "3-jwV3ZCScqX",
        "colab_type": "code",
        "colab": {}
      },
      "cell_type": "code",
      "source": [
        "# app developers should change the data type of 'date'\n",
        "# from 'object' to 'datetime' so this isn't needed\n",
        "\n",
        "daysoff['date'] = pd.to_datetime(daysoff['date'])"
      ],
      "execution_count": 0,
      "outputs": []
    },
    {
      "metadata": {
        "id": "l3uyae39R4So",
        "colab_type": "code",
        "colab": {}
      },
      "cell_type": "code",
      "source": [
        "def getWeekNumber(row):\n",
        "    \"\"\"\n",
        "    Takes the datetime object in column 'date'\n",
        "    and returns the week number from it.\n",
        "    \"\"\"\n",
        "    return row['date'].week\n",
        "\n",
        "daysoff['weekNumber'] = daysoff.apply(getWeekNumber, axis=1)\n",
        "\n",
        "daysoff.head()"
      ],
      "execution_count": 0,
      "outputs": []
    },
    {
      "metadata": {
        "id": "Xha18pIoomVg",
        "colab_type": "code",
        "colab": {}
      },
      "cell_type": "code",
      "source": [
        "daysoff.info()"
      ],
      "execution_count": 0,
      "outputs": []
    },
    {
      "metadata": {
        "id": "RkJiKrhOoq8M",
        "colab_type": "code",
        "colab": {}
      },
      "cell_type": "code",
      "source": [
        "daysoff = daysoff.groupby(['id', 'weekNumber'], as_index=False)['date'].count()\n",
        "\n",
        "daysoff.head()"
      ],
      "execution_count": 0,
      "outputs": []
    },
    {
      "metadata": {
        "id": "7iL4dxr9pUP4",
        "colab_type": "text"
      },
      "cell_type": "markdown",
      "source": [
        "### Join days off with pledges"
      ]
    },
    {
      "metadata": {
        "id": "WYevtPOtp0xN",
        "colab_type": "code",
        "colab": {}
      },
      "cell_type": "code",
      "source": [
        "pledges.head()"
      ],
      "execution_count": 0,
      "outputs": []
    },
    {
      "metadata": {
        "id": "znXEIdFkqsE7",
        "colab_type": "code",
        "colab": {}
      },
      "cell_type": "code",
      "source": [
        "pledges.drop(columns=['week'], inplace=True)\n",
        "\n",
        "pledges.head()"
      ],
      "execution_count": 0,
      "outputs": []
    },
    {
      "metadata": {
        "id": "DVTxNrxUrT90",
        "colab_type": "code",
        "colab": {}
      },
      "cell_type": "code",
      "source": [
        "pledges = pledges.groupby(['id', 'weekNumber', 'daycount'], as_index=False).count()\n",
        "\n",
        "pledges.sort_values(by='daycount', ascending=False, inplace=True)\n",
        "\n",
        "pledges.head()"
      ],
      "execution_count": 0,
      "outputs": []
    },
    {
      "metadata": {
        "id": "GYDp2OUis7zK",
        "colab_type": "code",
        "colab": {}
      },
      "cell_type": "code",
      "source": [
        "merge = pd.merge(daysoff, pledges, how='inner', on=['id', 'weekNumber'])\n",
        "\n",
        "merge.head()"
      ],
      "execution_count": 0,
      "outputs": []
    },
    {
      "metadata": {
        "id": "Wk0RjZiAtobl",
        "colab_type": "code",
        "colab": {}
      },
      "cell_type": "code",
      "source": [
        "merge.drop(columns=['days'], inplace=True)\n",
        "\n",
        "merge.columns = ['userID', 'weekNumber', 'daysOff', 'daysPledged']\n",
        "\n",
        "merge.head()"
      ],
      "execution_count": 0,
      "outputs": []
    },
    {
      "metadata": {
        "id": "4ENE2OG9fUnV",
        "colab_type": "text"
      },
      "cell_type": "markdown",
      "source": [
        "#### Export df to csv"
      ]
    },
    {
      "metadata": {
        "id": "VQjWSTQXaHGI",
        "colab_type": "code",
        "colab": {}
      },
      "cell_type": "code",
      "source": [
        "merge.to_csv('df.csv', index=False)"
      ],
      "execution_count": 0,
      "outputs": []
    },
    {
      "metadata": {
        "id": "ydl_W68Jajb2",
        "colab_type": "code",
        "colab": {}
      },
      "cell_type": "code",
      "source": [
        "from google.colab import files"
      ],
      "execution_count": 0,
      "outputs": []
    },
    {
      "metadata": {
        "id": "2xuz64OVa6-f",
        "colab_type": "code",
        "colab": {}
      },
      "cell_type": "code",
      "source": [
        "files.download('df.csv')"
      ],
      "execution_count": 0,
      "outputs": []
    },
    {
      "metadata": {
        "id": "2QoklC8aI4I-",
        "colab_type": "text"
      },
      "cell_type": "markdown",
      "source": [
        "#### On the fly quick analysis"
      ]
    },
    {
      "metadata": {
        "id": "mqtR075cvG9F",
        "colab_type": "code",
        "colab": {}
      },
      "cell_type": "code",
      "source": [
        "merge.loc[merge['daysPledged'] > merge['daysOff']].count()"
      ],
      "execution_count": 0,
      "outputs": []
    },
    {
      "metadata": {
        "id": "-Jtxkz1auVoK",
        "colab_type": "code",
        "colab": {}
      },
      "cell_type": "code",
      "source": [
        "merge.loc[merge['daysPledged'] > merge['daysOff']].nunique()"
      ],
      "execution_count": 0,
      "outputs": []
    },
    {
      "metadata": {
        "id": "d5aQnHYdvPv1",
        "colab_type": "code",
        "colab": {}
      },
      "cell_type": "code",
      "source": [
        "merge.loc[merge['daysPledged'] > merge['daysOff']].mean()"
      ],
      "execution_count": 0,
      "outputs": []
    },
    {
      "metadata": {
        "id": "QvHnuRyFvXHc",
        "colab_type": "code",
        "colab": {}
      },
      "cell_type": "code",
      "source": [
        "merge.loc[merge['daysPledged'] <= merge['daysOff']].mean()"
      ],
      "execution_count": 0,
      "outputs": []
    },
    {
      "metadata": {
        "id": "S3paBiCuvct2",
        "colab_type": "code",
        "colab": {}
      },
      "cell_type": "code",
      "source": [
        "merge.loc[merge['daysPledged'] < merge['daysOff']].mean()"
      ],
      "execution_count": 0,
      "outputs": []
    },
    {
      "metadata": {
        "id": "7OKV_3jQy_L7",
        "colab_type": "code",
        "colab": {}
      },
      "cell_type": "code",
      "source": [
        "genAge = sql_to_df(\n",
        "    \"\"\"\n",
        "    SELECT \n",
        "        daysoff.g_appusers.id AS userID,\n",
        "        gender,\n",
        "        age\n",
        "    FROM \n",
        "        daysoff.g_appusers\n",
        "    \"\"\")\n",
        "\n",
        "genAge.head()"
      ],
      "execution_count": 0,
      "outputs": []
    },
    {
      "metadata": {
        "id": "jG-kzbtczmLu",
        "colab_type": "code",
        "colab": {}
      },
      "cell_type": "code",
      "source": [
        "merge2 = pd.merge(merge, genAge, how='inner', on='userID')\n",
        "\n",
        "merge2.head()"
      ],
      "execution_count": 0,
      "outputs": []
    },
    {
      "metadata": {
        "id": "B7nRoTvc1HvP",
        "colab_type": "code",
        "colab": {}
      },
      "cell_type": "code",
      "source": [
        "merge2.nunique()"
      ],
      "execution_count": 0,
      "outputs": []
    },
    {
      "metadata": {
        "id": "X2y5dPr70Wb9",
        "colab_type": "code",
        "colab": {}
      },
      "cell_type": "code",
      "source": [
        "merge2.loc[merge2['daysPledged'] > merge2['daysOff']].mean()"
      ],
      "execution_count": 0,
      "outputs": []
    },
    {
      "metadata": {
        "id": "GtFziJJF0qL8",
        "colab_type": "code",
        "colab": {}
      },
      "cell_type": "code",
      "source": [
        "merge2.loc[merge2['daysPledged'] <= merge2['daysOff']].mean()"
      ],
      "execution_count": 0,
      "outputs": []
    },
    {
      "metadata": {
        "id": "dzOAqIdT0wSZ",
        "colab_type": "code",
        "colab": {}
      },
      "cell_type": "code",
      "source": [
        "merge2.loc[merge2['daysPledged'] > merge2['daysOff']].groupby('gender').count()"
      ],
      "execution_count": 0,
      "outputs": []
    },
    {
      "metadata": {
        "id": "LlR7Kx7Q078N",
        "colab_type": "code",
        "colab": {}
      },
      "cell_type": "code",
      "source": [
        "merge2.loc[merge2['daysPledged'] <= merge2['daysOff']].groupby('gender').count()"
      ],
      "execution_count": 0,
      "outputs": []
    },
    {
      "metadata": {
        "id": "A9zDCPF-1pXw",
        "colab_type": "code",
        "colab": {}
      },
      "cell_type": "code",
      "source": [
        "merge2.loc[(merge2['daysPledged'] <= merge2['daysOff']) & (merge2['gender'] == 'Male')].mean()"
      ],
      "execution_count": 0,
      "outputs": []
    },
    {
      "metadata": {
        "id": "0CgAiAM-2L46",
        "colab_type": "code",
        "colab": {}
      },
      "cell_type": "code",
      "source": [
        "merge2.loc[(merge2['daysPledged'] <= merge2['daysOff']) & (merge2['gender'] == 'Female')].mean()"
      ],
      "execution_count": 0,
      "outputs": []
    },
    {
      "metadata": {
        "id": "Y5yrZz4m2VTD",
        "colab_type": "code",
        "colab": {}
      },
      "cell_type": "code",
      "source": [
        "merge2.loc[(merge2['daysPledged'] > merge2['daysOff']) & (merge2['gender'] == 'Male')].mean()"
      ],
      "execution_count": 0,
      "outputs": []
    },
    {
      "metadata": {
        "id": "KqrjVIbz2YwY",
        "colab_type": "code",
        "colab": {}
      },
      "cell_type": "code",
      "source": [
        "merge2.loc[(merge2['daysPledged'] > merge2['daysOff']) & (merge2['gender'] == 'Female')].mean()"
      ],
      "execution_count": 0,
      "outputs": []
    },
    {
      "metadata": {
        "id": "xqhK4xCp23tT",
        "colab_type": "code",
        "colab": {}
      },
      "cell_type": "code",
      "source": [
        "merge2.loc[(merge2['daysPledged'] > merge2['daysOff']) & \n",
        "           (merge2['gender'] == 'Female') & \n",
        "           (merge2['age'] < 35)].mean()"
      ],
      "execution_count": 0,
      "outputs": []
    },
    {
      "metadata": {
        "id": "17e90aOE3XZg",
        "colab_type": "code",
        "colab": {}
      },
      "cell_type": "code",
      "source": [
        "merge2.loc[(merge2['daysPledged'] > merge2['daysOff']) & \n",
        "           (merge2['gender'] == 'Male') & \n",
        "           (merge2['age'] < 35)].mean()"
      ],
      "execution_count": 0,
      "outputs": []
    },
    {
      "metadata": {
        "id": "0OA2OJPG4Gi-",
        "colab_type": "code",
        "colab": {}
      },
      "cell_type": "code",
      "source": [
        "genAge.mean()"
      ],
      "execution_count": 0,
      "outputs": []
    },
    {
      "metadata": {
        "id": "OBW8_B2q7H_9",
        "colab_type": "text"
      },
      "cell_type": "markdown",
      "source": [
        "## Drinks\n",
        "TO DO:  \n",
        "- do men drink more volume/percent than women on average\n",
        "- what days do people drink on most v pledge days?"
      ]
    },
    {
      "metadata": {
        "id": "vGIUpD6D1LH4",
        "colab_type": "text"
      },
      "cell_type": "markdown",
      "source": [
        "### SQL to df"
      ]
    },
    {
      "metadata": {
        "id": "FyduEqt17ReM",
        "colab_type": "code",
        "colab": {}
      },
      "cell_type": "code",
      "source": [
        "drinks = sql_to_df(\n",
        "    \"\"\"\n",
        "    SELECT \n",
        "        daysoff.g_appusers.id AS userID,\n",
        "        gender,\n",
        "        age,\n",
        "        category,\n",
        "        subcategory,\n",
        "        volume\n",
        "    FROM \n",
        "        daysoff.g_appusers\n",
        "    JOIN \n",
        "        daysoff.g_appdrinks\n",
        "    USING \n",
        "        (id)\n",
        "    \"\"\")\n",
        "\n",
        "drinks.head()"
      ],
      "execution_count": 0,
      "outputs": []
    },
    {
      "metadata": {
        "id": "YkIyx7Lm8SqR",
        "colab_type": "code",
        "colab": {}
      },
      "cell_type": "code",
      "source": [
        "drinks.info()"
      ],
      "execution_count": 0,
      "outputs": []
    },
    {
      "metadata": {
        "id": "XEsYZE9i8bfY",
        "colab_type": "code",
        "colab": {}
      },
      "cell_type": "code",
      "source": [
        "drinks['gender'] = drinks['gender'].astype('category')\n",
        "drinks['category'] = drinks['category'].astype('category')\n",
        "drinks['subcategory'] = drinks['subcategory'].astype('category')\n",
        "drinks['volume'] = drinks['volume'].astype('category')"
      ],
      "execution_count": 0,
      "outputs": []
    },
    {
      "metadata": {
        "id": "KOkEyvS09o6G",
        "colab_type": "code",
        "colab": {}
      },
      "cell_type": "code",
      "source": [
        "drinks_gb = drinks.groupby(['gender', 'age', 'category', 'subcategory', 'volume'], as_index=False)['userID'].count()\n",
        "\n",
        "drinks_gb.head()"
      ],
      "execution_count": 0,
      "outputs": []
    },
    {
      "metadata": {
        "id": "vskrQIRB-_3X",
        "colab_type": "code",
        "colab": {}
      },
      "cell_type": "code",
      "source": [
        "drinks_gb.info()"
      ],
      "execution_count": 0,
      "outputs": []
    },
    {
      "metadata": {
        "id": "vFgdTse0_D8o",
        "colab_type": "code",
        "colab": {}
      },
      "cell_type": "code",
      "source": [
        "drinks_gb.dropna(inplace=True)"
      ],
      "execution_count": 0,
      "outputs": []
    },
    {
      "metadata": {
        "id": "liC4fgP2_TNY",
        "colab_type": "code",
        "colab": {}
      },
      "cell_type": "code",
      "source": [
        "drinks_gb.head()"
      ],
      "execution_count": 0,
      "outputs": []
    },
    {
      "metadata": {
        "id": "pfhwW_CnBSdB",
        "colab_type": "code",
        "colab": {}
      },
      "cell_type": "code",
      "source": [
        "alt.Chart(drinks_gb).mark_bar().encode(\n",
        "    y='category',\n",
        "    x='count(userID)',\n",
        "    color=alt.Color('subcategory:N', scale=alt.Scale(scheme='tableau20'))\n",
        ")"
      ],
      "execution_count": 0,
      "outputs": []
    },
    {
      "metadata": {
        "id": "EfQLizTbhYjK",
        "colab_type": "code",
        "colab": {}
      },
      "cell_type": "code",
      "source": [
        "alt.Chart(drinks_gb).mark_bar().encode(\n",
        "    y='gender',\n",
        "    x='count(userID)',\n",
        "    color=alt.Color('category:N', scale=alt.Scale(scheme='tableau20'))\n",
        ")"
      ],
      "execution_count": 0,
      "outputs": []
    },
    {
      "metadata": {
        "id": "l6R2-64Ohi9n",
        "colab_type": "code",
        "colab": {}
      },
      "cell_type": "code",
      "source": [
        "alt.Chart(drinks_gb).mark_bar().encode(\n",
        "    alt.Y('gender:O', scale=alt.Scale(rangeStep=17)),\n",
        "    alt.X('count(userID):Q',\n",
        "        axis=alt.Axis(title='User count'),\n",
        "        #stack='normalize'\n",
        "    ),\n",
        "    alt.Color('subcategory:N', scale=alt.Scale(scheme='tableau20'))\n",
        ")"
      ],
      "execution_count": 0,
      "outputs": []
    },
    {
      "metadata": {
        "id": "i5Rx6V3FbN5L",
        "colab_type": "code",
        "colab": {}
      },
      "cell_type": "code",
      "source": [
        "# Define aggregate fields\n",
        "lower_box = 'q1(age):Q'\n",
        "lower_whisker = 'min(age):Q'\n",
        "upper_box = 'q3(age):Q'\n",
        "upper_whisker = 'max(age):Q'\n",
        "\n",
        "# Compose each layer individually\n",
        "lower_plot = alt.Chart(drinks_gb).mark_rule().encode(\n",
        "    x=alt.X(lower_whisker, axis=alt.Axis(title=\"age\")),\n",
        "    x2=lower_box,\n",
        "    y='subcategory:O'\n",
        ")\n",
        "\n",
        "middle_plot = alt.Chart(drinks_gb).mark_bar(size=5.0).encode(\n",
        "    x=lower_box,\n",
        "    x2=upper_box,\n",
        "    y='subcategory:O'\n",
        ")\n",
        "\n",
        "upper_plot = alt.Chart(drinks_gb).mark_rule().encode(\n",
        "    x=upper_whisker,\n",
        "    x2=upper_box,\n",
        "    y='subcategory:O'\n",
        ")\n",
        "\n",
        "middle_tick = alt.Chart(drinks_gb).mark_tick(\n",
        "    color='white',\n",
        "    size=5.0\n",
        ").encode(\n",
        "    x='median(age):Q',\n",
        "    y='subcategory:O',\n",
        ")\n",
        "\n",
        "lower_plot + middle_plot + upper_plot + middle_tick"
      ],
      "execution_count": 0,
      "outputs": []
    },
    {
      "metadata": {
        "id": "TMAj3hJxA126",
        "colab_type": "code",
        "colab": {}
      },
      "cell_type": "code",
      "source": [
        "alt.Chart(drinks_gb).mark_bar().encode(\n",
        "    y='category',\n",
        "    x='userID'\n",
        ")"
      ],
      "execution_count": 0,
      "outputs": []
    },
    {
      "metadata": {
        "id": "4d0F5lToA-Kn",
        "colab_type": "code",
        "colab": {}
      },
      "cell_type": "code",
      "source": [
        "alt.Chart(drinks_gb).mark_bar().encode(\n",
        "    y='subcategory',\n",
        "    x='userID'\n",
        ")"
      ],
      "execution_count": 0,
      "outputs": []
    },
    {
      "metadata": {
        "id": "EBfj88LwsyQd",
        "colab_type": "text"
      },
      "cell_type": "markdown",
      "source": [
        "### Top drinkers - TBC"
      ]
    },
    {
      "metadata": {
        "id": "Ya_MI-0Vs0lz",
        "colab_type": "code",
        "colab": {}
      },
      "cell_type": "code",
      "source": [
        "drinks = sql_to_df(\n",
        "    \"\"\"\n",
        "    SELECT \n",
        "        *\n",
        "    FROM \n",
        "        daysoff.g_appdrinks\n",
        "    \"\"\")\n",
        "\n",
        "drinks.head()"
      ],
      "execution_count": 0,
      "outputs": []
    },
    {
      "metadata": {
        "id": "b8fLqcOKv1Bp",
        "colab_type": "code",
        "colab": {}
      },
      "cell_type": "code",
      "source": [
        "drinks.info()"
      ],
      "execution_count": 0,
      "outputs": []
    },
    {
      "metadata": {
        "id": "aFa9LKDAwzfY",
        "colab_type": "code",
        "colab": {}
      },
      "cell_type": "code",
      "source": [
        "drinks['day'] = drinks['day'].astype('category')\n",
        "drinks['codeDay'] = drinks['day'].cat.codes\n",
        "\n",
        "drinks.head()"
      ],
      "execution_count": 0,
      "outputs": []
    },
    {
      "metadata": {
        "id": "5W5_UrHiDa37",
        "colab_type": "code",
        "colab": {}
      },
      "cell_type": "code",
      "source": [
        ""
      ],
      "execution_count": 0,
      "outputs": []
    }
  ]
}