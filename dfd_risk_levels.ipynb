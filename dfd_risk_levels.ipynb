{
  "nbformat": 4,
  "nbformat_minor": 0,
  "metadata": {
    "colab": {
      "name": "dfd_risk_levels.ipynb",
      "version": "0.3.2",
      "provenance": [],
      "private_outputs": true,
      "collapsed_sections": [
        "uFEwDPG2HkxA",
        "Jybkdb9UugTL"
      ],
      "toc_visible": true,
      "include_colab_link": true
    },
    "kernelspec": {
      "name": "python3",
      "display_name": "Python 3"
    },
    "accelerator": "GPU"
  },
  "cells": [
    {
      "cell_type": "markdown",
      "metadata": {
        "id": "view-in-github",
        "colab_type": "text"
      },
      "source": [
        "[View in Colaboratory](https://colab.research.google.com/github/janilles/dfdapp/blob/master/dfd_risk_levels.ipynb)"
      ]
    },
    {
      "metadata": {
        "id": "hVd7cCkUJNjW",
        "colab_type": "text"
      },
      "cell_type": "markdown",
      "source": [
        "# Drink Free Days - Risk levels\n",
        "From AWS RDS using PyMySQL "
      ]
    },
    {
      "metadata": {
        "id": "i0C0jUBOJejP",
        "colab_type": "text"
      },
      "cell_type": "markdown",
      "source": [
        "## Install PyDrive for loading files from Google Drive\n",
        "https://pythonhosted.org/PyDrive/index.html"
      ]
    },
    {
      "metadata": {
        "id": "i-uwdb3-J8B8",
        "colab_type": "code",
        "colab": {}
      },
      "cell_type": "code",
      "source": [
        "# added -q for suppressing output\n",
        "!pip install -U -q PyDrive\n",
        "\n",
        "# see PyDrive documentation for libraries code snippets\n",
        "from pydrive.auth import GoogleAuth\n",
        "from pydrive.drive import GoogleDrive\n",
        "from google.colab import auth\n",
        "from oauth2client.client import GoogleCredentials\n",
        "\n",
        "# authenticate and create the PyDrive client\n",
        "auth.authenticate_user()\n",
        "gauth = GoogleAuth()\n",
        "gauth.credentials = GoogleCredentials.get_application_default()\n",
        "drive = GoogleDrive(gauth)"
      ],
      "execution_count": 0,
      "outputs": []
    },
    {
      "metadata": {
        "id": "uFEwDPG2HkxA",
        "colab_type": "text"
      },
      "cell_type": "markdown",
      "source": [
        "### Create and upload a text file with PyDrive (if needed)"
      ]
    },
    {
      "metadata": {
        "id": "zxnYzk-HLJxL",
        "colab_type": "text"
      },
      "cell_type": "markdown",
      "source": [
        "```python\n",
        "uploaded = drive.CreateFile({'title': 'sample_file.txt'})\n",
        "uploaded.SetContentString('Sample file content.')\n",
        "uploaded.Upload()\n",
        "print('Uploaded file with ID {}'.format(uploaded.get('id')))\n",
        "```"
      ]
    },
    {
      "metadata": {
        "id": "Jybkdb9UugTL",
        "colab_type": "text"
      },
      "cell_type": "markdown",
      "source": [
        "### Get the Google Drive IDs of your file (if needed)"
      ]
    },
    {
      "metadata": {
        "id": "Z1rPVpFdOJac",
        "colab_type": "text"
      },
      "cell_type": "markdown",
      "source": [
        "You will need your file's google Drive ID to load the content of the text file into a variable with PyDrive.  \n",
        "\n",
        "To get the ID, you can: \n",
        "#### Right-click on the file in your Google Drive and selcet 'Get shareable link' which gives you a URL with 'id=' in it.\n",
        "  \n",
        "Alternatively, you can obtain the ID directly from the notebook by running this code:  \n",
        "\n",
        "- Step 1:   \n",
        "Get your file's ID.  To get a list of all the file and folder IDs in the root folder:\n",
        "```python\n",
        "file_list = drive.ListFile({'q': \"'root' in parents and trashed=false\"}).GetList()\n",
        "for file1 in file_list:\n",
        "print(\"File %s\\n\\n\",(file1))\n",
        "```\n",
        "You can replace ```'root'``` with the folder ID your file is in. You can either get the folder ID from the web interface: ```drive.google.com/drive/u/0/folders/<folder ID>```  \n",
        "or have PyDrive list the IDs for you:\n",
        "```python\n",
        "# Paginate file lists and specify number of max results if necessary\n",
        "for file_list in drive.ListFile({'q': 'trashed=False', 'maxResults': 10}):\n",
        "  print('Received %s files from Files.list()' % len(file_list)) # <= 10\n",
        "  for file1 in file_list:\n",
        "      print('title: %s, id: %s' % (file1['title'], file1['id']))\n",
        "    ```\n",
        "- Step 2:   \n",
        "Load the file.\n",
        "```python\n",
        "downloaded = drive.CreateFile({'id': '<file ID>'})\n",
        "# you can print the content of the text file to check it\n",
        "print('Downloaded content \"{}\"'.format(downloaded.GetContentString()))\n",
        "```\n"
      ]
    },
    {
      "metadata": {
        "id": "ZUVy5ewwrxte",
        "colab_type": "text"
      },
      "cell_type": "markdown",
      "source": [
        "### Load the file's content (i.e. the password) into a variable"
      ]
    },
    {
      "metadata": {
        "id": "5aAq_cyXORAC",
        "colab_type": "code",
        "colab": {}
      },
      "cell_type": "code",
      "source": [
        "# insert ID of the file with the password\n",
        "# comment out the other user when running this cell\n",
        "\n",
        "# Jan's file\n",
        "passwd_file = drive.CreateFile({'id': '1YnGugBHvqjJk0nbTqN-683Agb0vaZKHo'}) \n",
        "\n",
        "# Tacey's file\n",
        "# passwd_file = drive.CreateFile({'id': ' '}) \n",
        "\n",
        "# load the password as a string into a variable\n",
        "# you will use this variable in pymysql connection\n",
        "# instead of the actual password string\n",
        "user_passwd = passwd_file.GetContentString()"
      ],
      "execution_count": 0,
      "outputs": []
    },
    {
      "metadata": {
        "id": "3QhdNMalfDmU",
        "colab_type": "text"
      },
      "cell_type": "markdown",
      "source": [
        "## Connect to AWS database via PyMySQL\n",
        "### Retrun SQL queries as Pandas dataframes\n",
        "Pandas ```read_sql``` [documentation](https://pandas.pydata.org/pandas-docs/stable/generated/pandas.read_sql.html)"
      ]
    },
    {
      "metadata": {
        "id": "_oFep_FLZJ2M",
        "colab_type": "code",
        "colab": {}
      },
      "cell_type": "code",
      "source": [
        "# added -q for suppressing output\n",
        "!pip install -q -U pymysql\n",
        "\n",
        "import pymysql\n",
        "import pandas as pd"
      ],
      "execution_count": 0,
      "outputs": []
    },
    {
      "metadata": {
        "id": "Bc4vHmqKZiyA",
        "colab_type": "code",
        "colab": {}
      },
      "cell_type": "code",
      "source": [
        "def connect():  \n",
        "    return pymysql.connect(\n",
        "        \n",
        "        host = \"df-phereplica3.crqbvr0pveqx.eu-west-1.rds.amazonaws.com\",\n",
        "        \n",
        "        # change user name and password as necessary\n",
        "           \n",
        "        user = \"jan\",\n",
        "        # user = \"tacey\",\n",
        "        passwd = user_passwd, # string loaded into a variable with PyDrive above\n",
        "   \n",
        "        db = \"daysoff\",\n",
        "        autocommit=True\n",
        "        \n",
        "        )\n",
        "\n",
        "connection = connect()\n",
        "\n",
        "def sql_to_df(sql):\n",
        "    \"\"\"\n",
        "    Returns SQL queries as pandas dataframes\n",
        "    \"\"\"\n",
        "    return pd.read_sql(sql, con = connection)"
      ],
      "execution_count": 0,
      "outputs": []
    },
    {
      "metadata": {
        "id": "3H4vBNdu2omb",
        "colab_type": "text"
      },
      "cell_type": "markdown",
      "source": [
        "# Database tables\n",
        "See [MySQL documentation](https://dev.mysql.com/doc/refman/8.0/en/introduction.html) for SQL syntax."
      ]
    },
    {
      "metadata": {
        "id": "iZPg1ZmMKMFw",
        "colab_type": "code",
        "colab": {}
      },
      "cell_type": "code",
      "source": [
        "# formatting column width of Pandas dataframes\n",
        "# increase column width so that longer comments don't get truncated\n",
        "\n",
        "pd.set_option('max_colwidth',100)"
      ],
      "execution_count": 0,
      "outputs": []
    },
    {
      "metadata": {
        "id": "UxjjNK-ZOIlu",
        "colab_type": "text"
      },
      "cell_type": "markdown",
      "source": [
        "### Drinks table"
      ]
    },
    {
      "metadata": {
        "id": "_9tCXCaGOK5e",
        "colab_type": "code",
        "colab": {}
      },
      "cell_type": "code",
      "source": [
        "# run pd.set_option('max_colwidth',100) if comments column gets truncated\n",
        "\n",
        "sql_to_df(\"\"\"\n",
        "        select \n",
        "            table_name, column_name, data_type, column_comment\n",
        "        from \n",
        "            information_schema.columns\n",
        "        where\n",
        "            table_name = 'g_appdrinks'\n",
        "        \"\"\")"
      ],
      "execution_count": 0,
      "outputs": []
    },
    {
      "metadata": {
        "id": "pABlehhu7nF2",
        "colab_type": "text"
      },
      "cell_type": "markdown",
      "source": [
        "### Pledges table"
      ]
    },
    {
      "metadata": {
        "id": "sXBsb3XT_cG5",
        "colab_type": "code",
        "colab": {}
      },
      "cell_type": "code",
      "source": [
        "# run pd.set_option('max_colwidth',100) if comments column gets truncated\n",
        "\n",
        "sql_to_df(\"\"\"\n",
        "        select \n",
        "            table_name, column_name, data_type, column_comment\n",
        "        from \n",
        "            information_schema.columns\n",
        "        where\n",
        "            table_name = 'g_apppledges'\n",
        "        \"\"\")"
      ],
      "execution_count": 0,
      "outputs": []
    },
    {
      "metadata": {
        "id": "sK1JWqlTOXvp",
        "colab_type": "text"
      },
      "cell_type": "markdown",
      "source": [
        "### Days off table"
      ]
    },
    {
      "metadata": {
        "id": "2RGxCCqIObnB",
        "colab_type": "code",
        "colab": {}
      },
      "cell_type": "code",
      "source": [
        "# run pd.set_option('max_colwidth',100) if comments column gets truncated\n",
        "\n",
        "sql_to_df(\"\"\"\n",
        "        select \n",
        "            table_name, column_name, data_type, column_comment\n",
        "        from \n",
        "            information_schema.columns\n",
        "        where\n",
        "            table_name = 'g_appdaysoff'\n",
        "        \"\"\")"
      ],
      "execution_count": 0,
      "outputs": []
    },
    {
      "metadata": {
        "id": "hZ-pBqOs1xlQ",
        "colab_type": "text"
      },
      "cell_type": "markdown",
      "source": [
        "### App users table"
      ]
    },
    {
      "metadata": {
        "id": "PZC5riNj1rMg",
        "colab_type": "code",
        "colab": {}
      },
      "cell_type": "code",
      "source": [
        "# run pd.set_option('max_colwidth',100) if comments column gets truncated\n",
        "\n",
        "sql_to_df(\"\"\"\n",
        "        select \n",
        "            table_name, column_name, data_type, column_comment\n",
        "        from \n",
        "            information_schema.columns\n",
        "        where\n",
        "            table_name = 'g_appusers'\n",
        "        \"\"\")"
      ],
      "execution_count": 0,
      "outputs": []
    },
    {
      "metadata": {
        "id": "8t0NgYmtfl-H",
        "colab_type": "text"
      },
      "cell_type": "markdown",
      "source": [
        "# Report\n",
        "SQL queries as strings inside ```qud()``` function defined as pymysql connection above.  \n",
        "See [MySQL documentation](https://dev.mysql.com/doc/refman/8.0/en/introduction.html) for SQL syntax reference."
      ]
    },
    {
      "metadata": {
        "id": "6v7ek0zN1QHS",
        "colab_type": "text"
      },
      "cell_type": "markdown",
      "source": [
        "### 1. Calculate units for a typical week for each user"
      ]
    },
    {
      "metadata": {
        "id": "kPlgqyWgrhgl",
        "colab_type": "code",
        "colab": {}
      },
      "cell_type": "code",
      "source": [
        "# assumption: there's only ever one typical week in the database for any given user\n",
        "# i.e. if I sum units per id (once I calculate them for each row) that'll be the typical week units\n",
        "# confirm with app developpers\n",
        "\n",
        "drinks = sql_to_df(\"\"\"\n",
        "        select \n",
        "            id,\n",
        "            percent,\n",
        "            ml\n",
        "        from\n",
        "            g_appdrinks\n",
        "        \"\"\")\n",
        "\n",
        "drinks.head()"
      ],
      "execution_count": 0,
      "outputs": []
    },
    {
      "metadata": {
        "id": "fNpdNFXWujtm",
        "colab_type": "code",
        "colab": {}
      },
      "cell_type": "code",
      "source": [
        "drinks['units'] = (drinks['percent'] * drinks['ml']) / 1000\n",
        "\n",
        "drinks.head()"
      ],
      "execution_count": 0,
      "outputs": []
    },
    {
      "metadata": {
        "id": "4TV1ekgM0yk_",
        "colab_type": "code",
        "colab": {}
      },
      "cell_type": "code",
      "source": [
        "usersUnits = drinks.groupby('id', as_index=False)['units'].sum()\n",
        "\n",
        "usersUnits.head()"
      ],
      "execution_count": 0,
      "outputs": []
    },
    {
      "metadata": {
        "id": "wbzRH_KL1e7F",
        "colab_type": "text"
      },
      "cell_type": "markdown",
      "source": [
        "### 2. Add gender and age to calculate risk levels \"before\""
      ]
    },
    {
      "metadata": {
        "id": "lz6PAPer1sMp",
        "colab_type": "code",
        "colab": {}
      },
      "cell_type": "code",
      "source": [
        "demogr = sql_to_df(\"\"\"\n",
        "        select \n",
        "            id,\n",
        "            gender,\n",
        "            age\n",
        "        from\n",
        "            g_appusers\n",
        "        \"\"\")\n",
        "\n",
        "demogr.head()"
      ],
      "execution_count": 0,
      "outputs": []
    },
    {
      "metadata": {
        "id": "Uia5-ikw2UHi",
        "colab_type": "code",
        "colab": {}
      },
      "cell_type": "code",
      "source": [
        "riskBefore = pd.merge(usersUnits, demogr, how='inner', on='id')\n",
        "\n",
        "riskBefore.head()"
      ],
      "execution_count": 0,
      "outputs": []
    },
    {
      "metadata": {
        "id": "GvfFsdpK2rRT",
        "colab_type": "code",
        "colab": {}
      },
      "cell_type": "code",
      "source": [
        "def riskCalculator(row):\n",
        "    if row['units'] <= 14.9:\n",
        "        global value\n",
        "        value = 'lower'\n",
        "    elif (row['gender'] == 'Male') & (row['units'] >= 15) & (row['units'] <= 49.9):\n",
        "        value = 'increasing'\n",
        "    elif (row['gender'] == 'Female') & (row['units'] >= 15) & (row['units'] <= 34.9):\n",
        "        value = 'increasing'\n",
        "    elif (row['gender'] == 'Male') & (row['units'] >= 50):\n",
        "        value = 'higher'\n",
        "    elif (row['gender'] == 'Female') & (row['units'] >= 35):\n",
        "        value = 'higher'\n",
        "    # needs else?\n",
        "    return value"
      ],
      "execution_count": 0,
      "outputs": []
    },
    {
      "metadata": {
        "id": "EAcKNAP0LSmw",
        "colab_type": "code",
        "colab": {}
      },
      "cell_type": "code",
      "source": [
        "riskBefore['risk before'] = riskBefore.apply(riskCalculator, axis=1)\n",
        "\n",
        "riskBefore.head()"
      ],
      "execution_count": 0,
      "outputs": []
    },
    {
      "metadata": {
        "id": "0KSzz32APsJK",
        "colab_type": "text"
      },
      "cell_type": "markdown",
      "source": [
        "### 3. Add units after to calculate risk \"after\""
      ]
    },
    {
      "metadata": {
        "id": "0L-D5suWPzwN",
        "colab_type": "text"
      },
      "cell_type": "markdown",
      "source": [
        "- I will need a units per weekday table (group by weekday)\n",
        "- go to days off table and take the day off - which week of the day\n",
        "- subtract the day off weekday from the typical week\n",
        "- recalculate weekly units as units after\n",
        "- calculate risk after"
      ]
    },
    {
      "metadata": {
        "id": "CyzIg9F-QnrJ",
        "colab_type": "code",
        "colab": {}
      },
      "cell_type": "code",
      "source": [
        "dfd = sql_to_df(\"\"\"\n",
        "        select \n",
        "            id, date, dayname(date) as 'dfd'\n",
        "        from \n",
        "            g_appdaysoff\n",
        "        where\n",
        "            date between '2018-09-10' and '2018-09-16'\n",
        "        \"\"\")\n",
        "\n",
        "dfd.head()"
      ],
      "execution_count": 0,
      "outputs": []
    },
    {
      "metadata": {
        "id": "rwM4iWV89ZrD",
        "colab_type": "code",
        "colab": {}
      },
      "cell_type": "code",
      "source": [
        "drinksWD = sql_to_df(\"\"\"\n",
        "        select \n",
        "            id,\n",
        "            percent,\n",
        "            ml,\n",
        "            day \n",
        "        from\n",
        "            g_appdrinks\n",
        "        \"\"\")\n",
        "\n",
        "drinksWD.head()"
      ],
      "execution_count": 0,
      "outputs": []
    },
    {
      "metadata": {
        "id": "aQr7yMKY98Lb",
        "colab_type": "code",
        "colab": {}
      },
      "cell_type": "code",
      "source": [
        "drinksWD['units'] = (drinksWD['percent'] * drinksWD['ml']) / 1000\n",
        "\n",
        "drinksWD.head()"
      ],
      "execution_count": 0,
      "outputs": []
    },
    {
      "metadata": {
        "id": "4DGBAsR8WpGX",
        "colab_type": "code",
        "colab": {}
      },
      "cell_type": "code",
      "source": [
        "usersUnitsWD = drinksWD.groupby(['id', 'day'], as_index=False)['units'].sum()\n",
        "\n",
        "usersUnitsWD.head()"
      ],
      "execution_count": 0,
      "outputs": []
    },
    {
      "metadata": {
        "id": "oDGOi88_-5sW",
        "colab_type": "code",
        "colab": {}
      },
      "cell_type": "code",
      "source": [
        "unitsAfter = pd.merge(dfd, usersUnitsWD, \n",
        "                      how='outer', \n",
        "                      left_on=['id', 'dfd'], \n",
        "                      right_on=['id', 'day'])\n",
        "\n",
        "unitsAfter.head()"
      ],
      "execution_count": 0,
      "outputs": []
    },
    {
      "metadata": {
        "id": "03GBixJnKVR6",
        "colab_type": "text"
      },
      "cell_type": "markdown",
      "source": [
        "'day' above is NaN - that means even if it was dfd the user didn't indicate that they are typically drinking on taht day"
      ]
    },
    {
      "metadata": {
        "id": "Vf_PHUUnLbRH",
        "colab_type": "code",
        "colab": {}
      },
      "cell_type": "code",
      "source": [
        "def unitsAfterCal(row):\n",
        "    if row['dfd'] == row['day']:\n",
        "        global value\n",
        "        value = 0\n",
        "    else:\n",
        "        value = row['units']\n",
        "    return value\n",
        "    "
      ],
      "execution_count": 0,
      "outputs": []
    },
    {
      "metadata": {
        "id": "j79MzETvKCGe",
        "colab_type": "code",
        "colab": {}
      },
      "cell_type": "code",
      "source": [
        "unitsAfter['units after'] = unitsAfter.apply(unitsAfterCal, axis=1)\n",
        "\n",
        "unitsAfter.head()"
      ],
      "execution_count": 0,
      "outputs": []
    },
    {
      "metadata": {
        "id": "0ZI0u-6ONtJQ",
        "colab_type": "code",
        "colab": {}
      },
      "cell_type": "code",
      "source": [
        "unitsAfter.fillna(0, inplace=True)\n",
        "\n",
        "unitsAfter.head()"
      ],
      "execution_count": 0,
      "outputs": []
    },
    {
      "metadata": {
        "id": "tKl2kS4gNh_q",
        "colab_type": "code",
        "colab": {}
      },
      "cell_type": "code",
      "source": [
        "unitsAfter = unitsAfter.groupby('id', as_index=False)['units after'].sum()"
      ],
      "execution_count": 0,
      "outputs": []
    },
    {
      "metadata": {
        "id": "k1e2DyF2OEgc",
        "colab_type": "code",
        "colab": {}
      },
      "cell_type": "code",
      "source": [
        "unitsAfter.head()"
      ],
      "execution_count": 0,
      "outputs": []
    },
    {
      "metadata": {
        "id": "rX7LfKQCOM9D",
        "colab_type": "code",
        "colab": {}
      },
      "cell_type": "code",
      "source": [
        "riskAfter = pd.merge(riskBefore, unitsAfter, how='outer', on='id')\n",
        "\n",
        "riskAfter.head()"
      ],
      "execution_count": 0,
      "outputs": []
    },
    {
      "metadata": {
        "id": "uMDn5smSQBiM",
        "colab_type": "code",
        "colab": {}
      },
      "cell_type": "code",
      "source": [
        "def riskCalculatorAfter(row):\n",
        "    if row['units after'] <= 14.9:\n",
        "        global value\n",
        "        value = 'lower'\n",
        "    elif (row['gender'] == 'Male') & (row['units after'] >= 15) & (row['units after'] <= 49.9):\n",
        "        value = 'increasing'\n",
        "    elif (row['gender'] == 'Female') & (row['units after'] >= 15) & (row['units after'] <= 34.9):\n",
        "        value = 'increasing'\n",
        "    elif (row['gender'] == 'Male') & (row['units after'] >= 50):\n",
        "        value = 'higher'\n",
        "    elif (row['gender'] == 'Female') & (row['units after'] >= 35):\n",
        "        value = 'higher'\n",
        "    # needs else?\n",
        "    return value"
      ],
      "execution_count": 0,
      "outputs": []
    },
    {
      "metadata": {
        "id": "RAciBfsJQNN5",
        "colab_type": "code",
        "colab": {}
      },
      "cell_type": "code",
      "source": [
        "riskAfter['risk after'] = riskAfter.apply(riskCalculatorAfter, axis=1)\n",
        "\n",
        "riskAfter.head()"
      ],
      "execution_count": 0,
      "outputs": []
    },
    {
      "metadata": {
        "id": "7X63MwMbQ6ET",
        "colab_type": "text"
      },
      "cell_type": "markdown",
      "source": [
        "### Outcomes"
      ]
    },
    {
      "metadata": {
        "id": "xVrjfo9QRACw",
        "colab_type": "code",
        "colab": {}
      },
      "cell_type": "code",
      "source": [
        "df = riskAfter"
      ],
      "execution_count": 0,
      "outputs": []
    },
    {
      "metadata": {
        "id": "SyJ4OvAKR5KM",
        "colab_type": "text"
      },
      "cell_type": "markdown",
      "source": [
        "#### Overall shifts"
      ]
    },
    {
      "metadata": {
        "id": "LVRxF-soRdD2",
        "colab_type": "code",
        "colab": {}
      },
      "cell_type": "code",
      "source": [
        "df.groupby('risk before').count()"
      ],
      "execution_count": 0,
      "outputs": []
    },
    {
      "metadata": {
        "id": "-r7OEGsFRwXk",
        "colab_type": "code",
        "colab": {}
      },
      "cell_type": "code",
      "source": [
        "df.groupby('risk after').count()"
      ],
      "execution_count": 0,
      "outputs": []
    },
    {
      "metadata": {
        "id": "DQVa-HmdR9OY",
        "colab_type": "text"
      },
      "cell_type": "markdown",
      "source": [
        ""
      ]
    },
    {
      "metadata": {
        "id": "RIeEWsfGP1Qx",
        "colab_type": "text"
      },
      "cell_type": "markdown",
      "source": [
        "# Ignore below - just some scribbles"
      ]
    },
    {
      "metadata": {
        "id": "9nMi9pFK_03o",
        "colab_type": "code",
        "colab": {}
      },
      "cell_type": "code",
      "source": [
        "dfd.loc[dfd['id'] == '00026447a772b9db']"
      ],
      "execution_count": 0,
      "outputs": []
    },
    {
      "metadata": {
        "id": "umoMiWUOCY6Z",
        "colab_type": "code",
        "colab": {}
      },
      "cell_type": "code",
      "source": [
        "usersUnitsWD.loc[usersUnitsWD['id'] == '00026447a772b9db']"
      ],
      "execution_count": 0,
      "outputs": []
    },
    {
      "metadata": {
        "id": "utwFX8VBFKRi",
        "colab_type": "code",
        "colab": {}
      },
      "cell_type": "code",
      "source": [
        "usersUnits.loc[usersUnits['id'] == '00026447a772b9db']"
      ],
      "execution_count": 0,
      "outputs": []
    },
    {
      "metadata": {
        "id": "tPFza5oNCtpT",
        "colab_type": "text"
      },
      "cell_type": "markdown",
      "source": [
        "### NOTES\n",
        "\n",
        "- more dfd recorded than indicated as drinking on during the week"
      ]
    },
    {
      "metadata": {
        "id": "DfnTNh_FGOsV",
        "colab_type": "text"
      },
      "cell_type": "markdown",
      "source": [
        "### Temporary notes\n",
        "\n",
        "- I have more than one unique id number in my dfd and usersUnitsWD dataframes hence why I can't join them like above\n"
      ]
    },
    {
      "metadata": {
        "id": "ZfDd3iQNCkkJ",
        "colab_type": "code",
        "colab": {}
      },
      "cell_type": "code",
      "source": [
        ""
      ],
      "execution_count": 0,
      "outputs": []
    }
  ]
}