{
  "nbformat": 4,
  "nbformat_minor": 0,
  "metadata": {
    "colab": {
      "name": "dfd_risk_levels.ipynb",
      "version": "0.3.2",
      "provenance": [],
      "private_outputs": true,
      "collapsed_sections": [],
      "toc_visible": true,
      "include_colab_link": true
    },
    "kernelspec": {
      "name": "python3",
      "display_name": "Python 3"
    },
    "accelerator": "GPU"
  },
  "cells": [
    {
      "cell_type": "markdown",
      "metadata": {
        "id": "view-in-github",
        "colab_type": "text"
      },
      "source": [
        "[View in Colaboratory](https://colab.research.google.com/github/janilles/dfdapp/blob/master/dfd_risk_levels.ipynb)"
      ]
    },
    {
      "metadata": {
        "id": "hVd7cCkUJNjW",
        "colab_type": "text"
      },
      "cell_type": "markdown",
      "source": [
        "# Drink Free Days app \n",
        "# RISK LEVELS ANALYSIS\n",
        "Looking at the reduction in alcohol units consuption and subsquent risk levels reduction among Drink Free Days app users.\n",
        "\n",
        "\n",
        "## App user definition\n",
        "We're looking at users who have joined in the first 3 days of the campaign and were last seen using the app on or after day 7 of the campaign. Campaign launch date was 10 September 2018.\n",
        "\n",
        "## Questions answered in this notebook\n",
        "\n",
        "- **How many users have reduced their risk level** (and/or alcohol unit consumption) and by how much - before and after using the app?\n",
        "  - 'Before' values are taken from the user's typical week, i.e. what they told us in the app about how much they drink in a typical week.\n",
        "  - 'After' values are typical week units minus units on drink free days achieved in any or all four weeks after the campaign lauch. (For example, when a user confirms in the app that they had a drink free day on Monday in a given week then for that week units consumed are typical week values but with Monday's units removed from it.)\n",
        "  - It may be the case that users record a drink free day on a day they do not drink anyway in a typicl week but that does not impact this analysis.\n",
        "- **Shifts in higher/increasing/lower risk levels** before using the app (i.e. from a typical week) and after using the app (i.e. any or all selected weeks after campaign launch).\n",
        "  - When a user stopped using the app in the four week period we're looking at then they are assumed to have gone back to their typical week behaviour. \n",
        "- **How many users in our target demographic** of 39-60 year olds have reduced their alcohol units consuption?\n",
        "\n",
        "## Further analysis\n",
        "Are there any patterns in behaviour or user clusters?\n",
        "\n",
        "## Data set\n",
        "Relational database behind the app - RDS instance on AWS."
      ]
    },
    {
      "metadata": {
        "id": "Txjx79oIkGWz",
        "colab_type": "text"
      },
      "cell_type": "markdown",
      "source": [
        "# Credentials to run the notebook"
      ]
    },
    {
      "metadata": {
        "id": "i0C0jUBOJejP",
        "colab_type": "text"
      },
      "cell_type": "markdown",
      "source": [
        "## Google Drive authentication (optional)\n",
        "NOTE: If login credentials are hardcoded into the database connection (code cell below) this step in not necesary. Otherwise: \n",
        "\n",
        "Install and authenticate [PyDrive](https://pythonhosted.org/PyDrive/index.html) for loading files from Google Drive so that database passwords aren't hardcoded into the notebook."
      ]
    },
    {
      "metadata": {
        "id": "i-uwdb3-J8B8",
        "colab_type": "code",
        "colab": {}
      },
      "cell_type": "code",
      "source": [
        "# added -q for suppressing output\n",
        "!pip install -U -q PyDrive\n",
        "\n",
        "# see PyDrive documentation for libraries code snippets\n",
        "from pydrive.auth import GoogleAuth\n",
        "from pydrive.drive import GoogleDrive\n",
        "from google.colab import auth\n",
        "from oauth2client.client import GoogleCredentials\n",
        "\n",
        "# authenticate and create the PyDrive client\n",
        "auth.authenticate_user()\n",
        "gauth = GoogleAuth()\n",
        "gauth.credentials = GoogleCredentials.get_application_default()\n",
        "drive = GoogleDrive(gauth)"
      ],
      "execution_count": 0,
      "outputs": []
    },
    {
      "metadata": {
        "id": "3QhdNMalfDmU",
        "colab_type": "text"
      },
      "cell_type": "markdown",
      "source": [
        "## Database connection\n",
        "- Connecting to AWS RDS database with [PyMySQL](https://pymysql.readthedocs.io/en/latest/user/examples.html).\n",
        "- Retruning MySQL queries as Pandas dataframes with [```read_sql()``` ](https://pandas.pydata.org/pandas-docs/stable/generated/pandas.read_sql.html) function."
      ]
    },
    {
      "metadata": {
        "id": "_oFep_FLZJ2M",
        "colab_type": "code",
        "colab": {}
      },
      "cell_type": "code",
      "source": [
        "# added -q for suppressing output\n",
        "!pip install -q -U pymysql\n",
        "\n",
        "import pymysql\n",
        "import pandas as pd"
      ],
      "execution_count": 0,
      "outputs": []
    },
    {
      "metadata": {
        "id": "5aAq_cyXORAC",
        "colab_type": "code",
        "colab": {}
      },
      "cell_type": "code",
      "source": [
        "# comment out the other user/options when running this cell as necessary\n",
        "\n",
        "# Jan's file - 'id' is Google Drive file ID\n",
        "usernm_file = drive.CreateFile({'id': '1l0NedyVzKKhPJ1-_cOqF1VRt_oQyr8OL'})\n",
        "passwd_file = drive.CreateFile({'id': '1YnGugBHvqjJk0nbTqN-683Agb0vaZKHo'}) \n",
        "\n",
        "# this variable is used in the connect function below\n",
        "user_name = usernm_file.GetContentString()\n",
        "user_passwd = passwd_file.GetContentString()\n",
        "\n",
        "# If you're not using Google Drive file but are hardcoding the password\n",
        "# user_passwd = password as a string"
      ],
      "execution_count": 0,
      "outputs": []
    },
    {
      "metadata": {
        "id": "Bc4vHmqKZiyA",
        "colab_type": "code",
        "colab": {}
      },
      "cell_type": "code",
      "source": [
        "def connect():\n",
        "\n",
        "    return pymysql.connect(\n",
        "        \n",
        "        host = \"df-phereplica3.crqbvr0pveqx.eu-west-1.rds.amazonaws.com\",\n",
        "           \n",
        "        user = user_name, # assigned in the cell above\n",
        "\n",
        "        passwd = user_passwd, # assigned in the cell above\n",
        "   \n",
        "        db = \"daysoff\",\n",
        "        \n",
        "        autocommit=True\n",
        "\n",
        "        )\n",
        "\n",
        "connection = connect()\n",
        "\n",
        "def sql_to_df(sql):\n",
        "    \"\"\"\n",
        "    Returns MySQL queries as Pandas dataframes.\n",
        "    \"\"\"\n",
        "    return pd.read_sql(sql, con = connection)"
      ],
      "execution_count": 0,
      "outputs": []
    },
    {
      "metadata": {
        "id": "3H4vBNdu2omb",
        "colab_type": "text"
      },
      "cell_type": "markdown",
      "source": [
        "# Database tables used (optional)\n",
        "Overview of avaliable data and tables used in the MySQL queries below. \n",
        "See [MySQL documentation](https://dev.mysql.com/doc/refman/8.0/en/introduction.html) for MySQL syntax."
      ]
    },
    {
      "metadata": {
        "id": "iZPg1ZmMKMFw",
        "colab_type": "code",
        "colab": {}
      },
      "cell_type": "code",
      "source": [
        "# formatting column width of Pandas dataframes\n",
        "# increase column width so that longer comments don't get truncated\n",
        "\n",
        "pd.set_option('max_colwidth',100)"
      ],
      "execution_count": 0,
      "outputs": []
    },
    {
      "metadata": {
        "id": "hZ-pBqOs1xlQ",
        "colab_type": "text"
      },
      "cell_type": "markdown",
      "source": [
        "### App users table"
      ]
    },
    {
      "metadata": {
        "id": "PZC5riNj1rMg",
        "colab_type": "code",
        "colab": {}
      },
      "cell_type": "code",
      "source": [
        "# run pd.set_option('max_colwidth',100) if comments column gets truncated\n",
        "\n",
        "sql_to_df(\"\"\"\n",
        "        SELECT\n",
        "            table_name, column_name, data_type, column_comment\n",
        "        FROM\n",
        "            information_schema.columns\n",
        "        WHERE\n",
        "            table_name = 'g_appusers'\n",
        "        \"\"\")"
      ],
      "execution_count": 0,
      "outputs": []
    },
    {
      "metadata": {
        "id": "UxjjNK-ZOIlu",
        "colab_type": "text"
      },
      "cell_type": "markdown",
      "source": [
        "### Drinks table"
      ]
    },
    {
      "metadata": {
        "id": "_9tCXCaGOK5e",
        "colab_type": "code",
        "colab": {}
      },
      "cell_type": "code",
      "source": [
        "# run pd.set_option('max_colwidth',100) if comments column gets truncated\n",
        "\n",
        "sql_to_df(\"\"\"\n",
        "        SELECT \n",
        "            table_name, column_name, data_type, column_comment\n",
        "        FROM\n",
        "            information_schema.columns\n",
        "        WHERE\n",
        "            table_name = 'g_appdrinks'\n",
        "        \"\"\")"
      ],
      "execution_count": 0,
      "outputs": []
    },
    {
      "metadata": {
        "id": "sK1JWqlTOXvp",
        "colab_type": "text"
      },
      "cell_type": "markdown",
      "source": [
        "### Days off table"
      ]
    },
    {
      "metadata": {
        "id": "2RGxCCqIObnB",
        "colab_type": "code",
        "colab": {}
      },
      "cell_type": "code",
      "source": [
        "# run pd.set_option('max_colwidth',100) if comments column gets truncated\n",
        "\n",
        "sql_to_df(\"\"\"\n",
        "        SELECT\n",
        "            table_name, column_name, data_type, column_comment\n",
        "        FROM\n",
        "            information_schema.columns\n",
        "        WHERE\n",
        "            table_name = 'g_appdaysoff'\n",
        "        \"\"\")"
      ],
      "execution_count": 0,
      "outputs": []
    },
    {
      "metadata": {
        "id": "8t0NgYmtfl-H",
        "colab_type": "text"
      },
      "cell_type": "markdown",
      "source": [
        "# Report generation\n",
        "- Write MySQL queries as long strings inside ```sql_to_df()``` function.  See [MySQL documentation](https://dev.mysql.com/doc/refman/8.0/en/introduction.html) for MySQL syntax reference.\n",
        "- ```sql_to_df()``` returns Pandas dataframes."
      ]
    },
    {
      "metadata": {
        "id": "yc5a6QsjP1pB",
        "colab_type": "text"
      },
      "cell_type": "markdown",
      "source": [
        "### Users by day\n",
        "Filtering of users (i.e. WHERE condition) explained:\n",
        "- ```gender LIKE '%ale'``` is data cleaning to filter out empty values since gender is necesary for calculating risk levels\n",
        "- age range: 18 (the minimum the app accepts) seems to have too many fake values and the upper cuts off outliers\n",
        "- ```joined >= '2018-09-10'``` to only include app users who joined on or after the campaign start date\n",
        "- ```lastseen >= '2018-09-16'``` to only include app users who have recoded some activity on (or after) seven days from the campaign launch (10 Sep 2018) so we can assume that they are using the app\n",
        "\n",
        "**NB:** MySQL week starts on Sunday by default so: \n",
        "- ```week(lastseen)```  counts weeks from Sundays\n",
        "- ```week(lastseen, 1)``` counts weeks from Monday"
      ]
    },
    {
      "metadata": {
        "id": "1gFiLavCJyaV",
        "colab_type": "code",
        "colab": {}
      },
      "cell_type": "code",
      "source": [
        "# Alcohol units calculation = (percent * ml)/ 1000\n",
        "\n",
        "usersByDay = sql_to_df(\"\"\"\n",
        "        SELECT \n",
        "            U.id,\n",
        "            gender,\n",
        "            age,\n",
        "            WEEK(lastseen, 1) AS last_week, -- MySQL week begins with Sunday by default\n",
        "            day AS typical_day, -- days with no drinks in them are not recorded in database\n",
        "            SUM((percent * ml)/ 1000) AS typical_units\n",
        "        FROM\n",
        "            g_appusers U\n",
        "        LEFT JOIN g_appdrinks D\n",
        "            ON U.id=D.id            \n",
        "        WHERE\n",
        "            gender LIKE '%ale' -- to exclude empty values\n",
        "            AND\n",
        "            age BETWEEN 19 AND 79 -- 18 has too many fake values, 80+ are outliers\n",
        "            AND\n",
        "            joined >= '2018-09-10' -- campaign start date\n",
        "            AND\n",
        "            lastseen >= '2018-09-16' -- at least a week from campaign launch (Monday-Sunday)\n",
        "            AND\n",
        "            day IS NOT NULL -- data cleaning, there were some users 'None' typical days\n",
        "        GROUP BY \n",
        "            U.id, typical_day -- to sum up multiple drinks and get total units for each day\n",
        "        \"\"\")\n",
        "\n",
        "usersByDay.head()"
      ],
      "execution_count": 0,
      "outputs": []
    },
    {
      "metadata": {
        "id": "P39abYMIPsDQ",
        "colab_type": "text"
      },
      "cell_type": "markdown",
      "source": [
        "### Users by week"
      ]
    },
    {
      "metadata": {
        "id": "W4j5dYucO5sz",
        "colab_type": "code",
        "colab": {}
      },
      "cell_type": "code",
      "source": [
        "# sum up units for each user on a typical week\n",
        "usersByWeek = usersByDay.groupby(['id', \n",
        "                                  'gender', \n",
        "                                  'age', \n",
        "                                  'last_week'], as_index=False).sum()\n",
        "\n",
        "usersByWeek.head()"
      ],
      "execution_count": 0,
      "outputs": []
    },
    {
      "metadata": {
        "id": "s1rHxMCl83CZ",
        "colab_type": "code",
        "colab": {}
      },
      "cell_type": "code",
      "source": [
        "usersByWeek.plot.scatter(2,4);"
      ],
      "execution_count": 0,
      "outputs": []
    },
    {
      "metadata": {
        "id": "7En-0pPiLexZ",
        "colab_type": "text"
      },
      "cell_type": "markdown",
      "source": [
        "#### Exploring that line of users just above 60 units\n",
        "Turns out they are drinking a bottle of wine every day."
      ]
    },
    {
      "metadata": {
        "id": "x1ZkPQfyAvPh",
        "colab_type": "code",
        "colab": {}
      },
      "cell_type": "code",
      "source": [
        "import altair as alt\n",
        "\n",
        "# increase max number of rows limit from default 5000\n",
        "from altair import pipe, limit_rows, to_values\n",
        "t = lambda data: pipe(data, limit_rows(max_rows=15000), to_values)\n",
        "alt.data_transformers.register('custom', t)\n",
        "alt.data_transformers.enable('custom');"
      ],
      "execution_count": 0,
      "outputs": []
    },
    {
      "metadata": {
        "id": "QpmLe8TXAF31",
        "colab_type": "code",
        "colab": {}
      },
      "cell_type": "code",
      "source": [
        "alt.Chart(usersByWeek[usersByWeek['typical_units'] > 15]).mark_point().encode(\n",
        "    x='age',\n",
        "    y='typical_units',\n",
        "    color='gender',\n",
        "    tooltip=['id', 'typical_units', 'age']\n",
        ").properties(width=600).interactive()"
      ],
      "execution_count": 0,
      "outputs": []
    },
    {
      "metadata": {
        "id": "orpLomsNKXNZ",
        "colab_type": "code",
        "colab": {}
      },
      "cell_type": "code",
      "source": [
        "c"
      ],
      "execution_count": 0,
      "outputs": []
    },
    {
      "metadata": {
        "id": "pZHZq5KvKqyj",
        "colab_type": "code",
        "colab": {}
      },
      "cell_type": "code",
      "source": [
        "sql_to_df(\"\"\"select * from g_appdrinks where id like 'ffa0206707284569'\"\"\")"
      ],
      "execution_count": 0,
      "outputs": []
    },
    {
      "metadata": {
        "id": "f_miete1L2Ei",
        "colab_type": "code",
        "colab": {}
      },
      "cell_type": "code",
      "source": [
        "usersByWeek[usersByWeek['typical_units'] ==63].groupby('gender')['id'].count()"
      ],
      "execution_count": 0,
      "outputs": []
    },
    {
      "metadata": {
        "id": "uiXyr9_H_eJh",
        "colab_type": "text"
      },
      "cell_type": "markdown",
      "source": [
        "### Risk in a typical week\n",
        "\n",
        "- Defining a ```riskCalculator``` function (see docstring in code cell below for details).  \n",
        "- Applying ```riskCalculator``` to every row of dataframe"
      ]
    },
    {
      "metadata": {
        "id": "bsa9bvPuWUFl",
        "colab_type": "text"
      },
      "cell_type": "markdown",
      "source": [
        "#### Function definition for risk calculation"
      ]
    },
    {
      "metadata": {
        "id": "Za5CcwMBKuah",
        "colab_type": "code",
        "colab": {}
      },
      "cell_type": "code",
      "source": [
        "def riskCalculator(row, units_col):\n",
        "    \n",
        "    \"\"\"Evaluate weekly units and gender and return risk level.\"\"\"\n",
        "\n",
        "    if row[units_col] < 15: \n",
        "        return 1 # lower\n",
        "\n",
        "    elif ((row['gender'] == 'Male') & \n",
        "          (15 <= row[units_col] < 50)):\n",
        "        return 2 # increasing\n",
        "\n",
        "    elif ((row['gender'] == 'Female') & \n",
        "          (15 <= row[units_col] < 35)):\n",
        "        return 2 # increasing\n",
        "\n",
        "    elif ((row['gender'] == 'Male') & \n",
        "          (row[units_col] >= 50)):\n",
        "        return 3 # higher\n",
        "\n",
        "    elif ((row['gender'] == 'Female') & \n",
        "          (row[units_col] >= 35)):\n",
        "        return 3 # higher\n",
        "\n",
        "    else:\n",
        "        raise ValueError(\n",
        "            'Some row doesn\\'t meet any of the if-elif conditions in riskCalculator.'\n",
        "            ) # error message also returns row index number"
      ],
      "execution_count": 0,
      "outputs": []
    },
    {
      "metadata": {
        "id": "reAwFNM8Mypo",
        "colab_type": "text"
      },
      "cell_type": "markdown",
      "source": [
        "### Applying risk in a typical week calculation "
      ]
    },
    {
      "metadata": {
        "id": "v4xxLS-lRRGs",
        "colab_type": "code",
        "colab": {}
      },
      "cell_type": "code",
      "source": [
        "# create a new column with risk level based on typical week units\n",
        "usersByWeek['typical_risk'] = usersByWeek.apply(lambda row: \n",
        "                                                riskCalculator(row, 'typical_units'),\n",
        "                                                axis=1)\n",
        "\n",
        "usersByWeek.head()"
      ],
      "execution_count": 0,
      "outputs": []
    },
    {
      "metadata": {
        "id": "NUZyQwvqOI8G",
        "colab_type": "code",
        "colab": {}
      },
      "cell_type": "code",
      "source": [
        "alt.Chart(usersByWeek).mark_point().encode(\n",
        "    x='age',\n",
        "    y='typical_units',\n",
        "    color=alt.Color('typical_risk',\n",
        "                    scale=alt.Scale(\n",
        "                    domain=['3', '2', '1'],\n",
        "                    scheme='viridis'))\n",
        ").properties(width=600).interactive()"
      ],
      "execution_count": 0,
      "outputs": []
    },
    {
      "metadata": {
        "id": "_zJoUlo1AMof",
        "colab_type": "text"
      },
      "cell_type": "markdown",
      "source": [
        "### Drink free days recorded by users\n",
        "Selecting form the 'days off' table which holds the drink free days recorded by users. Only positive answers to \"Did you have a drink free day yesterday?\" are recorded in this table.\n",
        "\n",
        "**NB:** MySQL week starts on Sunday by default so: \n",
        "- ```week(date)```  counts weeks from Sundays\n",
        "\n",
        "- ```week(date, 1)``` counts weeks from Monday"
      ]
    },
    {
      "metadata": {
        "id": "CyzIg9F-QnrJ",
        "colab_type": "code",
        "colab": {}
      },
      "cell_type": "code",
      "source": [
        "# week numbers are used in subsequent calculations so\n",
        "# we need to make sure weeks start on Monday i.e. week(date, 1) \n",
        "# not Sunday which is MySQL default i.e. week(date)\n",
        "# same WHERE conditions for users's table as in the users selsection\n",
        "\n",
        "drinkFreeDays = sql_to_df(\"\"\"\n",
        "        SELECT \n",
        "            O.id,  \n",
        "            DAYNAME(date) AS drink_free_day, \n",
        "            WEEK(date, 1) AS week_number -- week of drink free day\n",
        "        FROM \n",
        "            g_appdaysoff O\n",
        "        JOIN g_appusers U\n",
        "            ON O.id=U.id            \n",
        "        WHERE\n",
        "            date >= '2018-09-10' -- campaign start date, days off table\n",
        "            AND\n",
        "            gender LIKE '%ale' -- to exclude empty values\n",
        "            AND\n",
        "            age BETWEEN 19 AND 79 -- 18 has too many fake values, 80+ are outliers\n",
        "            AND\n",
        "            joined >= '2018-09-10' -- campaign start date\n",
        "            AND\n",
        "            lastseen >= '2018-09-16' -- at least a week from campaign launch (Monday-Sunday)\n",
        "        ORDER BY\n",
        "            O.id, week_number\n",
        "        \"\"\")\n",
        "\n",
        "drinkFreeDays.head(10)"
      ],
      "execution_count": 0,
      "outputs": []
    },
    {
      "metadata": {
        "id": "cJqmzTIuN0P2",
        "colab_type": "text"
      },
      "cell_type": "markdown",
      "source": [
        "### Matching drink free days recorded with their corresponding alcohol units for each user"
      ]
    },
    {
      "metadata": {
        "id": "MI808B8SrdM2",
        "colab_type": "code",
        "colab": {}
      },
      "cell_type": "code",
      "source": [
        "# grouping drink free days achieved with their typical days (typical_units)\n",
        "# to calculate how many units have to be deducted from a typical week\n",
        "# for each drink free day recorded for each user in each week\n",
        "\n",
        "unitsDeductions = pd.merge(usersByDay, drinkFreeDays, \n",
        "                           # inner join to exclude drink free days achieved\n",
        "                           # on a day a user doesn't drink in a typical week anyway\n",
        "                           # usersByDay only includes typical days with drinks\n",
        "                           how='inner',  \n",
        "                           left_on=['id', 'typical_day'],\n",
        "                           right_on=['id', 'drink_free_day'])\n",
        "\n",
        "# after the merge values column 'typical_units'\n",
        "# are the units to deduct for that day\n",
        "# hence column renaming\n",
        "unitsDeductions.rename(columns={\"typical_units\": \"units_to_deduct\"}, inplace=True)\n",
        "\n",
        "unitsDeductions.sort_values('id').head(10)"
      ],
      "execution_count": 0,
      "outputs": []
    },
    {
      "metadata": {
        "id": "58haxHhtOdia",
        "colab_type": "text"
      },
      "cell_type": "markdown",
      "source": [
        "### Units reductions by week for each user"
      ]
    },
    {
      "metadata": {
        "colab_type": "code",
        "id": "pVNseyv3PIc3",
        "colab": {}
      },
      "cell_type": "code",
      "source": [
        "unitsReductionByWeek = unitsDeductions.groupby(['id',\n",
        "                                                'gender',\n",
        "                                                'age',\n",
        "                                                'last_week',\n",
        "                                                'week_number'], \n",
        "                                                as_index=False)['units_to_deduct'].sum()\n",
        "\n",
        "unitsReductionByWeek.sort_values('id').head(10)"
      ],
      "execution_count": 0,
      "outputs": []
    },
    {
      "metadata": {
        "id": "5vLF5hCfQgjQ",
        "colab_type": "code",
        "colab": {}
      },
      "cell_type": "code",
      "source": [
        "# adding back the total typical units per week and typical risk column\n",
        "unitsReductionByWeek = pd.merge(unitsReductionByWeek, usersByWeek, \n",
        "                                how='right',\n",
        "                                left_on=['id', 'gender', 'age', 'last_week'],\n",
        "                                right_on=['id', 'gender', 'age', 'last_week'])\n",
        "\n",
        "unitsReductionByWeek.head(10)"
      ],
      "execution_count": 0,
      "outputs": []
    },
    {
      "metadata": {
        "id": "_oXM_g3ujZ_O",
        "colab_type": "text"
      },
      "cell_type": "markdown",
      "source": [
        "### Units reduction for each week for each user"
      ]
    },
    {
      "metadata": {
        "id": "FVGKbdFk8Tjt",
        "colab_type": "text"
      },
      "cell_type": "markdown",
      "source": [
        "#### Function definition for weekly reductions "
      ]
    },
    {
      "metadata": {
        "id": "xTQSwlKSlEgU",
        "colab_type": "code",
        "colab": {}
      },
      "cell_type": "code",
      "source": [
        "def reductions(df=unitsReductionByWeek):\n",
        "    \n",
        "    \"\"\"Create a column with unit reductions for each week in range().\"\"\"\n",
        "    \n",
        "    for i in range(37,43):\n",
        "        col_name = f\"reduction_{i}\"\n",
        "        df.loc[df['week_number'] == i, col_name] = df['units_to_deduct']\n",
        "        df.fillna(0, inplace=True)    \n",
        "    return df"
      ],
      "execution_count": 0,
      "outputs": []
    },
    {
      "metadata": {
        "id": "MkBEv2ktDg43",
        "colab_type": "text"
      },
      "cell_type": "markdown",
      "source": [
        "### Reductions for each week for each user"
      ]
    },
    {
      "metadata": {
        "id": "X6E4S7e3suf2",
        "colab_type": "code",
        "colab": {}
      },
      "cell_type": "code",
      "source": [
        "result = reductions()\n",
        "\n",
        "result.head(10)"
      ],
      "execution_count": 0,
      "outputs": []
    },
    {
      "metadata": {
        "id": "egXV59xKkhub",
        "colab_type": "code",
        "colab": {}
      },
      "cell_type": "code",
      "source": [
        "# groupby dataframe by user\n",
        "result = result.groupby(['id',\n",
        "                         'gender',\n",
        "                         'age',\n",
        "                         'last_week',\n",
        "                         'typical_units', \n",
        "                         'typical_risk'], \n",
        "                         as_index=False).sum()\n",
        "\n",
        "# drop the redundant column with week numbers\n",
        "result.drop(columns='week_number', inplace=True)\n",
        "\n",
        "# rename aggregated column for clarity\n",
        "result.rename(columns={'units_to_deduct':'total_reduction'}, \n",
        "              inplace=True)\n",
        "\n",
        "result.head(10)"
      ],
      "execution_count": 0,
      "outputs": []
    },
    {
      "metadata": {
        "id": "nBjm2yFraLgv",
        "colab_type": "text"
      },
      "cell_type": "markdown",
      "source": [
        "### Units in each week for each user\n",
        "\n",
        "**NB: ** Users who were last seen in e.g. the first week of the campaign will get typical week values for subsequent weeks. We thereby assume they went back to their typical weeks."
      ]
    },
    {
      "metadata": {
        "id": "64_mfeSdeuqK",
        "colab_type": "text"
      },
      "cell_type": "markdown",
      "source": [
        "#### Function definition for weekly units calculation"
      ]
    },
    {
      "metadata": {
        "id": "JNnXQTYIESof",
        "colab_type": "code",
        "colab": {}
      },
      "cell_type": "code",
      "source": [
        "def units_for_weeks(df=result):\n",
        "   \n",
        "    \"\"\"Create a column with units consumed for each week in range().\"\"\"\n",
        "    \n",
        "    for i in range(37, 43):\n",
        "        col_name = f\"week_{i}\"\n",
        "        df[col_name] = (df['typical_units'] - df[f\"reduction_{i}\"])\n",
        "        \n",
        "    return df"
      ],
      "execution_count": 0,
      "outputs": []
    },
    {
      "metadata": {
        "id": "quBoddIib6p0",
        "colab_type": "code",
        "colab": {}
      },
      "cell_type": "code",
      "source": [
        "result = units_for_weeks()\n",
        "\n",
        "result.head(10)"
      ],
      "execution_count": 0,
      "outputs": []
    },
    {
      "metadata": {
        "id": "yhfZHlsQsOKa",
        "colab_type": "code",
        "colab": {}
      },
      "cell_type": "code",
      "source": [
        "# user count by last week seen since launch \n",
        "result.groupby('last_week')['id'].count()"
      ],
      "execution_count": 0,
      "outputs": []
    },
    {
      "metadata": {
        "id": "Gca9F5dhbnUe",
        "colab_type": "text"
      },
      "cell_type": "markdown",
      "source": [
        "### Risk for each week for each user"
      ]
    },
    {
      "metadata": {
        "id": "sD68JPopgNUa",
        "colab_type": "code",
        "colab": {}
      },
      "cell_type": "code",
      "source": [
        "risk_cols = []\n",
        "week_cols = []\n",
        "\n",
        "for i in range(37,43):\n",
        "    risk_cols.append(f\"risk_{i}\")\n",
        "    week_cols.append(f\"week_{i}\")\n",
        "    dictionary = dict(zip(risk_cols, week_cols))\n",
        "\n",
        "    for risk, week in dictionary.items():\n",
        "        result[risk] = result.apply(lambda row: \n",
        "                                    riskCalculator(row, week), \n",
        "                                    axis=1)\n",
        "\n",
        "result.head(10)"
      ],
      "execution_count": 0,
      "outputs": []
    },
    {
      "metadata": {
        "id": "ROM5KgQhloYT",
        "colab_type": "code",
        "colab": {}
      },
      "cell_type": "code",
      "source": [
        "result.describe()"
      ],
      "execution_count": 0,
      "outputs": []
    },
    {
      "metadata": {
        "id": "iDJ16iFRi_9-",
        "colab_type": "text"
      },
      "cell_type": "markdown",
      "source": [
        "### Export result to CSV"
      ]
    },
    {
      "metadata": {
        "id": "ytFAWC6FHZCW",
        "colab_type": "code",
        "colab": {}
      },
      "cell_type": "code",
      "source": [
        "# from google.colab import files\n",
        "\n",
        "# result.to_csv('dfd_risk_levels.csv')\n",
        "# files.download('dfd_risk_levels.csv')"
      ],
      "execution_count": 0,
      "outputs": []
    },
    {
      "metadata": {
        "id": "FBtOkcF6augv",
        "colab_type": "text"
      },
      "cell_type": "markdown",
      "source": [
        "# Plotting typical week"
      ]
    },
    {
      "metadata": {
        "id": "q8txTW7qfPOC",
        "colab_type": "text"
      },
      "cell_type": "markdown",
      "source": [
        "### Units consuption by age and gender (typical week)"
      ]
    },
    {
      "metadata": {
        "id": "VPoy7MUca4Zx",
        "colab_type": "code",
        "colab": {}
      },
      "cell_type": "code",
      "source": [
        "uni = result.groupby(['age', 'gender'], as_index=False)['typical_units'].mean()\n",
        "use = result.groupby(['age', 'gender'], as_index=False)['id'].count().rename(columns={'id':'num_of_users'})\n",
        "\n",
        "scat = uni.merge(use, on=['age', 'gender'])\n",
        "\n",
        "scat.head()"
      ],
      "execution_count": 0,
      "outputs": []
    },
    {
      "metadata": {
        "id": "8REYyCKxWgbz",
        "colab_type": "code",
        "colab": {}
      },
      "cell_type": "code",
      "source": [
        "import altair as alt\n",
        "\n",
        "alt.Chart(scat, \n",
        "          title='Average units consuption in typical week').mark_circle().encode(\n",
        "          alt.X('age', scale=alt.Scale(zero=False)),\n",
        "          alt.Y('typical_units', \n",
        "                title='avg. units consumed on a typical week',\n",
        "                scale=alt.Scale(zero=False, padding=1)),\n",
        "          color='gender',\n",
        "          size=alt.Size('num_of_users', legend=alt.Legend(title=\"number of users\")) \n",
        "          # size='num_of_users' # if you don't need to change legent title\n",
        ").properties(width=500) # added width to stretch the chart"
      ],
      "execution_count": 0,
      "outputs": []
    },
    {
      "metadata": {
        "id": "e4P7-kYYuK56",
        "colab_type": "text"
      },
      "cell_type": "markdown",
      "source": [
        "### Units consumption by age  - box plot (typical week)"
      ]
    },
    {
      "metadata": {
        "id": "ljyqDuoDuKmS",
        "colab_type": "code",
        "colab": {}
      },
      "cell_type": "code",
      "source": [
        "result.iloc[:,[2,4]].head()"
      ],
      "execution_count": 0,
      "outputs": []
    },
    {
      "metadata": {
        "id": "su7UZI1Wwn29",
        "colab_type": "code",
        "colab": {}
      },
      "cell_type": "code",
      "source": [
        "result.iloc[:,[2,4]].info()"
      ],
      "execution_count": 0,
      "outputs": []
    },
    {
      "metadata": {
        "id": "aKxRYSn8uIsm",
        "colab_type": "code",
        "colab": {}
      },
      "cell_type": "code",
      "source": [
        "# increase max number of rows limit from default 5000\n",
        "from altair import pipe, limit_rows, to_values\n",
        "t = lambda data: pipe(data, limit_rows(max_rows=15000), to_values)\n",
        "alt.data_transformers.register('custom', t)\n",
        "alt.data_transformers.enable('custom')\n",
        "\n",
        "# Define aggregate fields\n",
        "lower_box = 'q1(typical_units):Q'\n",
        "lower_whisker = 'min(typical_units):Q'\n",
        "upper_box = 'q3(typical_units):Q'\n",
        "upper_whisker = 'max(typical_units):Q'\n",
        "\n",
        "# Compose each layer individually\n",
        "lower_plot = alt.Chart(result.iloc[:,[2,4]]).mark_rule().encode(\n",
        "    y=alt.Y(lower_whisker, axis=alt.Axis(title=\"population\")),\n",
        "    y2=lower_box,\n",
        "    x='age:O'\n",
        ")\n",
        "\n",
        "middle_plot = alt.Chart(result.iloc[:,[2,4]]).mark_bar(size=5.0).encode(\n",
        "    y=lower_box,\n",
        "    y2=upper_box,\n",
        "    x='age:O'\n",
        ")\n",
        "\n",
        "upper_plot = alt.Chart(result.iloc[:,[2,4]]).mark_rule().encode(\n",
        "    y=upper_whisker,\n",
        "    y2=upper_box,\n",
        "    x='age:O'\n",
        ")\n",
        "\n",
        "middle_tick = alt.Chart(result.iloc[:,[2,4]]).mark_tick(\n",
        "    color='white',\n",
        "    size=5.0\n",
        ").encode(\n",
        "    y='median(typical_units):Q',\n",
        "    x='age:O',\n",
        ")\n",
        "\n",
        "lower_plot + middle_plot + upper_plot + middle_tick"
      ],
      "execution_count": 0,
      "outputs": []
    },
    {
      "metadata": {
        "id": "nmV-glsU1CJ0",
        "colab_type": "text"
      },
      "cell_type": "markdown",
      "source": [
        "# Plotting results"
      ]
    },
    {
      "metadata": {
        "id": "Ji5GCGsyguSv",
        "colab_type": "text"
      },
      "cell_type": "markdown",
      "source": [
        "### Units consuption by age (typical week v week 37)"
      ]
    },
    {
      "metadata": {
        "id": "wuPvbjG3j0cs",
        "colab_type": "code",
        "colab": {}
      },
      "cell_type": "code",
      "source": [
        ""
      ],
      "execution_count": 0,
      "outputs": []
    },
    {
      "metadata": {
        "id": "AzYRawtSjv45",
        "colab_type": "text"
      },
      "cell_type": "markdown",
      "source": [
        "### Corerlation map"
      ]
    },
    {
      "metadata": {
        "id": "XYpNXItd7ZW3",
        "colab_type": "code",
        "colab": {}
      },
      "cell_type": "code",
      "source": [
        "# not a age-units correlation \n",
        "# but whatt if we bin the age groups?\n",
        "scat.corr()"
      ],
      "execution_count": 0,
      "outputs": []
    },
    {
      "metadata": {
        "id": "oPwd2O_rj3X0",
        "colab_type": "text"
      },
      "cell_type": "markdown",
      "source": [
        "### Units shifts week on week"
      ]
    },
    {
      "metadata": {
        "id": "Tj1jixg8L4FM",
        "colab_type": "code",
        "colab": {}
      },
      "cell_type": "code",
      "source": [
        ""
      ],
      "execution_count": 0,
      "outputs": []
    },
    {
      "metadata": {
        "id": "neTiZVA7Cbon",
        "colab_type": "text"
      },
      "cell_type": "markdown",
      "source": [
        "# Slicing the results"
      ]
    },
    {
      "metadata": {
        "id": "ekf71SuvCgaA",
        "colab_type": "text"
      },
      "cell_type": "markdown",
      "source": [
        "## Risk level shifts over weeks\n",
        "Users who stopped using the app earlier than this period are assumed to have returned to their typical weeks behaviour. "
      ]
    },
    {
      "metadata": {
        "id": "5OmOswj4BITy",
        "colab_type": "code",
        "colab": {}
      },
      "cell_type": "code",
      "source": [
        "riskShifts = result.groupby(['typical_risk']+risk_cols, as_index=False)['id'].count()\n",
        "\n",
        "riskShifts.head()"
      ],
      "execution_count": 0,
      "outputs": []
    },
    {
      "metadata": {
        "id": "mDmRheiqDFzU",
        "colab_type": "code",
        "colab": {}
      },
      "cell_type": "code",
      "source": [
        "higherSum = riskShifts[riskShifts['typical_risk'] == 3]['id'].sum()\n",
        "increasingSum = riskShifts[riskShifts['typical_risk'] == 2]['id'].sum()"
      ],
      "execution_count": 0,
      "outputs": []
    },
    {
      "metadata": {
        "id": "Veyu7voGD1WS",
        "colab_type": "code",
        "colab": {}
      },
      "cell_type": "code",
      "source": [
        "def shifts(row):\n",
        "    \n",
        "    if row['typical_risk'] == 3:\n",
        "        return (row['id'] / higherSum *100)\n",
        "        \n",
        "    elif row['typical_risk'] == 2:\n",
        "        return (row['id'] / increasingSum *100)\n",
        "        \n",
        "    else:\n",
        "        return 100"
      ],
      "execution_count": 0,
      "outputs": []
    },
    {
      "metadata": {
        "id": "qsXrbUyJ7zFp",
        "colab_type": "code",
        "colab": {}
      },
      "cell_type": "code",
      "source": [
        "riskShifts['% of category'] = round((riskShifts.apply(lambda row: \n",
        "                                                      shifts(row), \n",
        "                                                      axis=1)), 1)\n",
        "\n",
        "riskShifts.sort_values('% of category', ascending=False).head(10)"
      ],
      "execution_count": 0,
      "outputs": []
    },
    {
      "metadata": {
        "id": "ZxJbQCFIQDW2",
        "colab_type": "code",
        "colab": {}
      },
      "cell_type": "code",
      "source": [
        "riskShifts.iloc[1:,0:7].corr()"
      ],
      "execution_count": 0,
      "outputs": []
    },
    {
      "metadata": {
        "id": "X8e2GxFk0wN5",
        "colab_type": "text"
      },
      "cell_type": "markdown",
      "source": [
        "## 39-60"
      ]
    },
    {
      "metadata": {
        "id": "OPXRbApU0zU8",
        "colab_type": "code",
        "colab": {}
      },
      "cell_type": "code",
      "source": [
        "df3960 = result[(result['age'] > 38) & (result['age'] <= 60)]\n",
        "\n",
        "len(df3960)"
      ],
      "execution_count": 0,
      "outputs": []
    },
    {
      "metadata": {
        "id": "30YoFaz83gb1",
        "colab_type": "code",
        "colab": {}
      },
      "cell_type": "code",
      "source": [
        " any3960 = df3960[(df3960['reduction_37'] > 0) | \n",
        "                  (df3960['reduction_38'] > 0) | \n",
        "                  (df3960['reduction_39'] > 0) |\n",
        "                  (df3960['reduction_40'] > 0) |\n",
        "                  (df3960['reduction_41'] > 0) |\n",
        "                  (df3960['reduction_42'] > 0)]\n",
        "    \n",
        "len(any3960)"
      ],
      "execution_count": 0,
      "outputs": []
    },
    {
      "metadata": {
        "id": "YsmRF4eIEEIo",
        "colab_type": "code",
        "colab": {}
      },
      "cell_type": "code",
      "source": [
        "# percentage of those reducing their units consuption\n",
        "round(len(any3960) / (len(df3960)/100), 1)"
      ],
      "execution_count": 0,
      "outputs": []
    },
    {
      "metadata": {
        "id": "XIV2nHRAIeM8",
        "colab_type": "code",
        "colab": {}
      },
      "cell_type": "code",
      "source": [
        "df3960.groupby('typical_risk')['id'].count() "
      ],
      "execution_count": 0,
      "outputs": []
    },
    {
      "metadata": {
        "id": "fF5SjTGqIp0B",
        "colab_type": "code",
        "colab": {}
      },
      "cell_type": "code",
      "source": [
        "df3960Shifts = df3960.groupby(['typical_risk']+risk_cols, as_index=False)['id'].count() \n",
        "\n",
        "df3960Shifts.head()"
      ],
      "execution_count": 0,
      "outputs": []
    },
    {
      "metadata": {
        "id": "HBTuJzwHIzPa",
        "colab_type": "code",
        "colab": {}
      },
      "cell_type": "code",
      "source": [
        "df3960Shifts['% of category'] = round((df3960Shifts.apply(lambda row: \n",
        "                                                          shifts(row), \n",
        "                                                          axis=1)), 1)\n",
        "\n",
        "df3960Shifts.sort_values('% of category', ascending=False).head(10)"
      ],
      "execution_count": 0,
      "outputs": []
    },
    {
      "metadata": {
        "id": "6ifjx8B-RTTG",
        "colab_type": "code",
        "colab": {}
      },
      "cell_type": "code",
      "source": [
        ""
      ],
      "execution_count": 0,
      "outputs": []
    }
  ]
}