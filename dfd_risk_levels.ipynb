{
  "nbformat": 4,
  "nbformat_minor": 0,
  "metadata": {
    "colab": {
      "name": "dfd_risk_levels.ipynb",
      "version": "0.3.2",
      "provenance": [],
      "private_outputs": true,
      "collapsed_sections": [],
      "toc_visible": true,
      "include_colab_link": true
    },
    "kernelspec": {
      "name": "python3",
      "display_name": "Python 3"
    },
    "accelerator": "GPU"
  },
  "cells": [
    {
      "cell_type": "markdown",
      "metadata": {
        "id": "view-in-github",
        "colab_type": "text"
      },
      "source": [
        "[View in Colaboratory](https://colab.research.google.com/github/janilles/dfdapp/blob/master/dfd_risk_levels.ipynb)"
      ]
    },
    {
      "metadata": {
        "id": "hVd7cCkUJNjW",
        "colab_type": "text"
      },
      "cell_type": "markdown",
      "source": [
        "# Drink Free Days app \n",
        "# RISK LEVELS ANALYSIS\n",
        "Looking at the reduction in alcohol units consuption and subsquent risk levels reduction among Drink Free Days app users.\n",
        "\n",
        "## Data set\n",
        "Relational database behind the app - RDS instance on AWS.\n",
        "\n",
        "## Time period\n",
        "Comparing users' typical weeks (which they fill in as part of the app's onboarding journey) with the first week of the campaign 10-16 September 2018.\n",
        "\n",
        "## Metodology\n",
        "Lorem ipsum\n",
        "\n",
        "## Assumptions\n",
        "Lorem ipsum"
      ]
    },
    {
      "metadata": {
        "id": "Txjx79oIkGWz",
        "colab_type": "text"
      },
      "cell_type": "markdown",
      "source": [
        "# Credentials to run the notebook"
      ]
    },
    {
      "metadata": {
        "id": "i0C0jUBOJejP",
        "colab_type": "text"
      },
      "cell_type": "markdown",
      "source": [
        "## Google Drive authentication\n",
        "Install and authenticate [PyDrive](https://pythonhosted.org/PyDrive/index.html) for loading files from Google Drive so that database passwords aren't hardcoded into the notebook.\n",
        "\n",
        "If login credentials are hardcoded into the database connection (code cell below) this step in not necesary."
      ]
    },
    {
      "metadata": {
        "id": "i-uwdb3-J8B8",
        "colab_type": "code",
        "colab": {}
      },
      "cell_type": "code",
      "source": [
        "# added -q for suppressing output\n",
        "!pip install -U -q PyDrive\n",
        "\n",
        "# see PyDrive documentation for libraries code snippets\n",
        "from pydrive.auth import GoogleAuth\n",
        "from pydrive.drive import GoogleDrive\n",
        "from google.colab import auth\n",
        "from oauth2client.client import GoogleCredentials\n",
        "\n",
        "# authenticate and create the PyDrive client\n",
        "auth.authenticate_user()\n",
        "gauth = GoogleAuth()\n",
        "gauth.credentials = GoogleCredentials.get_application_default()\n",
        "drive = GoogleDrive(gauth)"
      ],
      "execution_count": 0,
      "outputs": []
    },
    {
      "metadata": {
        "id": "3QhdNMalfDmU",
        "colab_type": "text"
      },
      "cell_type": "markdown",
      "source": [
        "## Database connection\n",
        "- Connecting to AWS RDS database with [PyMySQL](https://pymysql.readthedocs.io/en/latest/user/examples.html).\n",
        "- Retruning MySQL queries as Pandas dataframes with [```read_sql()``` ](https://pandas.pydata.org/pandas-docs/stable/generated/pandas.read_sql.html) function."
      ]
    },
    {
      "metadata": {
        "id": "_oFep_FLZJ2M",
        "colab_type": "code",
        "colab": {}
      },
      "cell_type": "code",
      "source": [
        "# added -q for suppressing output\n",
        "!pip install -q -U pymysql\n",
        "\n",
        "import pymysql\n",
        "import pandas as pd"
      ],
      "execution_count": 0,
      "outputs": []
    },
    {
      "metadata": {
        "id": "5aAq_cyXORAC",
        "colab_type": "code",
        "colab": {}
      },
      "cell_type": "code",
      "source": [
        "# comment out the other user/options when running this cell as necessary\n",
        "\n",
        "# Jan's file\n",
        "# 'id' is Google Drive file ID\n",
        "passwd_file = drive.CreateFile({'id': '1YnGugBHvqjJk0nbTqN-683Agb0vaZKHo'}) \n",
        "\n",
        "# Tacey's file\n",
        "# passwd_file = drive.CreateFile({'id': ' '}) \n",
        "\n",
        "# this variable is used in the connect function below\n",
        "user_passwd = passwd_file.GetContentString()\n",
        "\n",
        "# If you're not using Google Drive file but hardcoding the password\n",
        "# user_passwd = password as a string"
      ],
      "execution_count": 0,
      "outputs": []
    },
    {
      "metadata": {
        "id": "Bc4vHmqKZiyA",
        "colab_type": "code",
        "colab": {}
      },
      "cell_type": "code",
      "source": [
        "def connect():\n",
        "\n",
        "    return pymysql.connect(\n",
        "        \n",
        "        host = \"df-phereplica3.crqbvr0pveqx.eu-west-1.rds.amazonaws.com\",\n",
        "        \n",
        "        # change user name and password as necessary\n",
        "           \n",
        "        user = \"jan\",\n",
        "        # user = \"tacey\",\n",
        "        passwd = user_passwd, # assigned in the cell above\n",
        "   \n",
        "        db = \"daysoff\",\n",
        "        \n",
        "        autocommit=True\n",
        "\n",
        "        )\n",
        "\n",
        "connection = connect()\n",
        "\n",
        "def sql_to_df(sql):\n",
        "    \"\"\"\n",
        "    Returns MySQL queries as Pandas dataframes.\n",
        "    \"\"\"\n",
        "    return pd.read_sql(sql, con = connection)"
      ],
      "execution_count": 0,
      "outputs": []
    },
    {
      "metadata": {
        "id": "3H4vBNdu2omb",
        "colab_type": "text"
      },
      "cell_type": "markdown",
      "source": [
        "# Database tables\n",
        "See [MySQL documentation](https://dev.mysql.com/doc/refman/8.0/en/introduction.html) for MySQL syntax."
      ]
    },
    {
      "metadata": {
        "id": "iZPg1ZmMKMFw",
        "colab_type": "code",
        "colab": {}
      },
      "cell_type": "code",
      "source": [
        "# formatting column width of Pandas dataframes\n",
        "# increase column width so that longer comments don't get truncated\n",
        "\n",
        "pd.set_option('max_colwidth',100)"
      ],
      "execution_count": 0,
      "outputs": []
    },
    {
      "metadata": {
        "id": "UxjjNK-ZOIlu",
        "colab_type": "text"
      },
      "cell_type": "markdown",
      "source": [
        "### Drinks table"
      ]
    },
    {
      "metadata": {
        "id": "_9tCXCaGOK5e",
        "colab_type": "code",
        "colab": {}
      },
      "cell_type": "code",
      "source": [
        "# run pd.set_option('max_colwidth',100) if comments column gets truncated\n",
        "\n",
        "sql_to_df(\"\"\"\n",
        "        select \n",
        "            table_name, column_name, data_type, column_comment\n",
        "        from \n",
        "            information_schema.columns\n",
        "        where\n",
        "            table_name = 'g_appdrinks'\n",
        "        \"\"\")"
      ],
      "execution_count": 0,
      "outputs": []
    },
    {
      "metadata": {
        "id": "pABlehhu7nF2",
        "colab_type": "text"
      },
      "cell_type": "markdown",
      "source": [
        "### Pledges table"
      ]
    },
    {
      "metadata": {
        "id": "sXBsb3XT_cG5",
        "colab_type": "code",
        "colab": {}
      },
      "cell_type": "code",
      "source": [
        "# run pd.set_option('max_colwidth',100) if comments column gets truncated\n",
        "\n",
        "sql_to_df(\"\"\"\n",
        "        select \n",
        "            table_name, column_name, data_type, column_comment\n",
        "        from \n",
        "            information_schema.columns\n",
        "        where\n",
        "            table_name = 'g_apppledges'\n",
        "        \"\"\")"
      ],
      "execution_count": 0,
      "outputs": []
    },
    {
      "metadata": {
        "id": "sK1JWqlTOXvp",
        "colab_type": "text"
      },
      "cell_type": "markdown",
      "source": [
        "### Days off table"
      ]
    },
    {
      "metadata": {
        "id": "2RGxCCqIObnB",
        "colab_type": "code",
        "colab": {}
      },
      "cell_type": "code",
      "source": [
        "# run pd.set_option('max_colwidth',100) if comments column gets truncated\n",
        "\n",
        "sql_to_df(\"\"\"\n",
        "        select \n",
        "            table_name, column_name, data_type, column_comment\n",
        "        from \n",
        "            information_schema.columns\n",
        "        where\n",
        "            table_name = 'g_appdaysoff'\n",
        "        \"\"\")"
      ],
      "execution_count": 0,
      "outputs": []
    },
    {
      "metadata": {
        "id": "hZ-pBqOs1xlQ",
        "colab_type": "text"
      },
      "cell_type": "markdown",
      "source": [
        "### App users table"
      ]
    },
    {
      "metadata": {
        "id": "PZC5riNj1rMg",
        "colab_type": "code",
        "colab": {}
      },
      "cell_type": "code",
      "source": [
        "# run pd.set_option('max_colwidth',100) if comments column gets truncated\n",
        "\n",
        "sql_to_df(\"\"\"\n",
        "        select \n",
        "            table_name, column_name, data_type, column_comment\n",
        "        from \n",
        "            information_schema.columns\n",
        "        where\n",
        "            table_name = 'g_appusers'\n",
        "        \"\"\")"
      ],
      "execution_count": 0,
      "outputs": []
    },
    {
      "metadata": {
        "id": "8t0NgYmtfl-H",
        "colab_type": "text"
      },
      "cell_type": "markdown",
      "source": [
        "# Report generation\n",
        "- Write MySQL queries as long strings inside ```sql_to_df()``` function.  See [MySQL documentation](https://dev.mysql.com/doc/refman/8.0/en/introduction.html) for MySQL syntax reference.\n",
        "- ```sql_to_df()``` returns Pandas dataframes."
      ]
    },
    {
      "metadata": {
        "id": "pvwZ3sPA-VG0",
        "colab_type": "text"
      },
      "cell_type": "markdown",
      "source": [
        "### Beahviour before and after app usage\n",
        "- 'before' means during the typical week as specified by the user in the app onboarding.\n",
        "- 'after' means in the first week after the campaign launch: 10-16 Sep 2018"
      ]
    },
    {
      "metadata": {
        "id": "161JIMqHKodK",
        "colab_type": "text"
      },
      "cell_type": "markdown",
      "source": [
        "#### Selecting from drinks table"
      ]
    },
    {
      "metadata": {
        "id": "kPlgqyWgrhgl",
        "colab_type": "code",
        "colab": {}
      },
      "cell_type": "code",
      "source": [
        "# I'm adding 'day' to the slection so that I can reuse this dataframe later\n",
        "# 'day' is needed for calculating units and risks after dfd recorded\n",
        "# Alcohol units calculation: (percent * ml)/ 1000\n",
        "\n",
        "drinks = sql_to_df(\"\"\"\n",
        "        select \n",
        "            id,\n",
        "            percent,\n",
        "            ml,\n",
        "            day,\n",
        "            ((percent * ml)/ 1000) as 'units before'\n",
        "        from\n",
        "            g_appdrinks\n",
        "        \"\"\")\n",
        "\n",
        "drinks.head()"
      ],
      "execution_count": 0,
      "outputs": []
    },
    {
      "metadata": {
        "id": "ObSJ7DzDL4_w",
        "colab_type": "text"
      },
      "cell_type": "markdown",
      "source": [
        "#### Summing units for each user on a typical week"
      ]
    },
    {
      "metadata": {
        "id": "4TV1ekgM0yk_",
        "colab_type": "code",
        "colab": {}
      },
      "cell_type": "code",
      "source": [
        "# assumption (confirmed by Jimmy):\n",
        "# there's only ever one typical week in the database for any given user\n",
        "# so this groupby will return sum of units per week for each user\n",
        "\n",
        "weeklyUnits = drinks.groupby('id', as_index=False)['units before'].sum()\n",
        "\n",
        "weeklyUnits.head()"
      ],
      "execution_count": 0,
      "outputs": []
    },
    {
      "metadata": {
        "id": "EMnONVz6M-i2",
        "colab_type": "text"
      },
      "cell_type": "markdown",
      "source": [
        "#### Selecting demographic info "
      ]
    },
    {
      "metadata": {
        "id": "lz6PAPer1sMp",
        "colab_type": "code",
        "colab": {}
      },
      "cell_type": "code",
      "source": [
        "# adding age as well, not necessary but may be interesting in further analysis\n",
        "# gender is necessary for risk level calculation hence exclusion of empty values\n",
        "\n",
        "demographic = sql_to_df(\"\"\"\n",
        "        select \n",
        "            id,\n",
        "            gender,\n",
        "            age\n",
        "        from\n",
        "            g_appusers\n",
        "        where\n",
        "            gender like '%ale' -- to exclude empty values\n",
        "        \"\"\")\n",
        "\n",
        "demographic.head()"
      ],
      "execution_count": 0,
      "outputs": []
    },
    {
      "metadata": {
        "id": "RcxhE7NfNFd8",
        "colab_type": "text"
      },
      "cell_type": "markdown",
      "source": [
        "#### Joining weekly units and demographic info"
      ]
    },
    {
      "metadata": {
        "id": "Uia5-ikw2UHi",
        "colab_type": "code",
        "colab": {}
      },
      "cell_type": "code",
      "source": [
        "# inner join to make sure gender value is included in the dataframe\n",
        "# as gender is necessary for risk level calculation\n",
        "\n",
        "usersBefore = pd.merge(weeklyUnits, demographic, how='inner', on='id')\n",
        "\n",
        "usersBefore.head()"
      ],
      "execution_count": 0,
      "outputs": []
    },
    {
      "metadata": {
        "id": "uiXyr9_H_eJh",
        "colab_type": "text"
      },
      "cell_type": "markdown",
      "source": [
        "#### Calculating risk before"
      ]
    },
    {
      "metadata": {
        "id": "GvfFsdpK2rRT",
        "colab_type": "code",
        "colab": {}
      },
      "cell_type": "code",
      "source": [
        "def riskCalculator(row, unitsColName):\n",
        "    \"\"\"\n",
        "    Calculates risk level from alcohol units and gender \n",
        "    based on conditions for the three risk categories.\n",
        "    \n",
        "    Note:\n",
        "        Conditions for risk levels are specified in the app documentation.\n",
        "    \n",
        "    Args:\n",
        "        row: Used in lambda function when riskCalculator is applied to dataframe rows.\n",
        "        unitsColName (str): Name of column with alcohol units values used in calculation.\n",
        "        \n",
        "    Returns:\n",
        "        Risk level value as a string. \n",
        "        \n",
        "    Raises:\n",
        "        ValueError: If some row doesn't satisfy any of the if-elif conditions.\n",
        "    \"\"\"\n",
        "    \n",
        "    if row[unitsColName] < 15: \n",
        "        \n",
        "        return 'lower'\n",
        "        \n",
        "    elif ((row['gender'] == 'Male') & \n",
        "          (15 <= row[unitsColName] < 50)):\n",
        "        \n",
        "        return 'increasing'\n",
        "        \n",
        "    elif ((row['gender'] == 'Female') & \n",
        "          (15 <= row[unitsColName] < 35)):\n",
        "        \n",
        "        return 'increasing'\n",
        "        \n",
        "    elif ((row['gender'] == 'Male') & \n",
        "          (row[unitsColName] >= 50)):\n",
        "        \n",
        "        return 'higher'\n",
        "        \n",
        "    elif ((row['gender'] == 'Female') & \n",
        "          (row[unitsColName] >= 35)):\n",
        "        \n",
        "        return 'higher'\n",
        "        \n",
        "    else:\n",
        "        raise ValueError(\n",
        "            'Some row doesn\\'t meet any of the if-elif conditions in riskCalculator.'\n",
        "        )"
      ],
      "execution_count": 0,
      "outputs": []
    },
    {
      "metadata": {
        "id": "EAcKNAP0LSmw",
        "colab_type": "code",
        "colab": {}
      },
      "cell_type": "code",
      "source": [
        "# applying riskCalculator to every row\n",
        "\n",
        "usersBefore['risk before'] = usersBefore.apply(lambda row: \n",
        "                                               riskCalculator(row, 'units before'), \n",
        "                                               axis=1)\n",
        "\n",
        "usersBefore.head()"
      ],
      "execution_count": 0,
      "outputs": []
    },
    {
      "metadata": {
        "id": "_zJoUlo1AMof",
        "colab_type": "text"
      },
      "cell_type": "markdown",
      "source": [
        "#### Selecting form days off table"
      ]
    },
    {
      "metadata": {
        "id": "CyzIg9F-QnrJ",
        "colab_type": "code",
        "colab": {}
      },
      "cell_type": "code",
      "source": [
        "# only doing this for the first week of the campaign for now\n",
        "# by looking at user's drink free days recorded in that week\n",
        "\n",
        "dfd = sql_to_df(\"\"\"\n",
        "        select \n",
        "            id, date, dayname(date) as 'dfd'\n",
        "        from \n",
        "            g_appdaysoff\n",
        "        where\n",
        "            date between '2018-09-10' and '2018-09-16'\n",
        "        \"\"\")\n",
        "\n",
        "dfd.head()"
      ],
      "execution_count": 0,
      "outputs": []
    },
    {
      "metadata": {
        "id": "JGz9DcT4OMhr",
        "colab_type": "text"
      },
      "cell_type": "markdown",
      "source": [
        "#### Grouping drinks units by weekday for each user"
      ]
    },
    {
      "metadata": {
        "id": "4DGBAsR8WpGX",
        "colab_type": "code",
        "colab": {}
      },
      "cell_type": "code",
      "source": [
        "# I'm reusing the same dataframe I used for calculating weekly units\n",
        "# adding 'day' to the groupby statement\n",
        "\n",
        "dailyUnits = drinks.groupby(['id', 'day'], as_index=False)['units before'].sum()\n",
        "\n",
        "dailyUnits.head()"
      ],
      "execution_count": 0,
      "outputs": []
    },
    {
      "metadata": {
        "id": "Z9RIrDULPgKw",
        "colab_type": "text"
      },
      "cell_type": "markdown",
      "source": [
        "#### Joining dfd with typical weekday units"
      ]
    },
    {
      "metadata": {
        "id": "oDGOi88_-5sW",
        "colab_type": "code",
        "colab": {}
      },
      "cell_type": "code",
      "source": [
        "# merge must be specified for more than id column \n",
        "# because id columns in both contain nonunique ids\n",
        "# i.e. same user on different days\n",
        "# and dfd achieved on a day with no drinks in a typical week\n",
        "\n",
        "usersAfter = pd.merge(dfd, dailyUnits,\n",
        "                      how='right',\n",
        "                      left_on=['id', 'dfd'], \n",
        "                      right_on=['id', 'day'])\n",
        "\n",
        "usersAfter.head()"
      ],
      "execution_count": 0,
      "outputs": []
    },
    {
      "metadata": {
        "id": "wsNww76ABDxJ",
        "colab_type": "text"
      },
      "cell_type": "markdown",
      "source": [
        "#### Calculating 'units after'"
      ]
    },
    {
      "metadata": {
        "id": "Vf_PHUUnLbRH",
        "colab_type": "code",
        "colab": {}
      },
      "cell_type": "code",
      "source": [
        "def dfdDayMatch(row):\n",
        "    \"\"\"\n",
        "    Evaluates if drink free day recorded has a corresponding\n",
        "    day of drinks in a typical week.\n",
        "    If it does units are replaced with zero,\n",
        "    if it doesn't 'units before' are the returned value.\n",
        "    \"\"\"\n",
        "    if row['dfd'] == row['day']:\n",
        "        return 0    \n",
        "    else:\n",
        "        return row['units before']"
      ],
      "execution_count": 0,
      "outputs": []
    },
    {
      "metadata": {
        "id": "j79MzETvKCGe",
        "colab_type": "code",
        "colab": {}
      },
      "cell_type": "code",
      "source": [
        "# the idea is to remove units from a day which was a dfd\n",
        "\n",
        "usersAfter['units after'] = usersAfter.apply(dfdDayMatch, axis=1)\n",
        "\n",
        "usersAfter.head()"
      ],
      "execution_count": 0,
      "outputs": []
    },
    {
      "metadata": {
        "id": "4s6WkYLWQfjX",
        "colab_type": "text"
      },
      "cell_type": "markdown",
      "source": [
        "#### Summing 'units after' by week for each user"
      ]
    },
    {
      "metadata": {
        "id": "tKl2kS4gNh_q",
        "colab_type": "code",
        "colab": {}
      },
      "cell_type": "code",
      "source": [
        "# grouping it again by id will return the sum of units for a week \n",
        "\n",
        "unitsAfter = usersAfter.groupby('id', as_index=False)['units after'].sum()\n",
        "\n",
        "unitsAfter.head()"
      ],
      "execution_count": 0,
      "outputs": []
    },
    {
      "metadata": {
        "id": "qHUVkiQJQxMJ",
        "colab_type": "text"
      },
      "cell_type": "markdown",
      "source": [
        "#### Calculating 'risk after'"
      ]
    },
    {
      "metadata": {
        "id": "rX7LfKQCOM9D",
        "colab_type": "code",
        "colab": {}
      },
      "cell_type": "code",
      "source": [
        "result = pd.merge(usersBefore, unitsAfter, how='inner', on='id')\n",
        "\n",
        "result.head()"
      ],
      "execution_count": 0,
      "outputs": []
    },
    {
      "metadata": {
        "id": "RAciBfsJQNN5",
        "colab_type": "code",
        "colab": {}
      },
      "cell_type": "code",
      "source": [
        "# applying riskCalculator function (defined above) to every row\n",
        "\n",
        "result['risk after'] = result.apply(lambda row:\n",
        "                                    riskCalculator(row, 'units after'), \n",
        "                                    axis=1)\n",
        "\n",
        "result.head()"
      ],
      "execution_count": 0,
      "outputs": []
    },
    {
      "metadata": {
        "id": "kpav55VL4Xd8",
        "colab_type": "text"
      },
      "cell_type": "markdown",
      "source": [
        "### Demographic group 39-60\n",
        "TO DO: only include users who had at least 1 dfd and see how these figures compare to overall app users or the rest of the demograpic\n"
      ]
    },
    {
      "metadata": {
        "id": "zCL_n9Vo4gau",
        "colab_type": "code",
        "colab": {}
      },
      "cell_type": "code",
      "source": [
        "demo3960 = result.loc[(result['age'] > 38) & (result['age'] < 61)]\n",
        "\n",
        "demo3960.info()"
      ],
      "execution_count": 0,
      "outputs": []
    },
    {
      "metadata": {
        "id": "6EAfzJik5nQH",
        "colab_type": "code",
        "colab": {}
      },
      "cell_type": "code",
      "source": [
        "demo3960_improved = demo3960.loc[demo3960['units before'] > demo3960['units after']]\n",
        "\n",
        "demo3960_improved.info()"
      ],
      "execution_count": 0,
      "outputs": []
    },
    {
      "metadata": {
        "id": "mxfcnUYD6OpL",
        "colab_type": "code",
        "colab": {}
      },
      "cell_type": "code",
      "source": [
        "3731/236.28"
      ],
      "execution_count": 0,
      "outputs": []
    },
    {
      "metadata": {
        "id": "7X63MwMbQ6ET",
        "colab_type": "text"
      },
      "cell_type": "markdown",
      "source": [
        "# Outcomes"
      ]
    },
    {
      "metadata": {
        "id": "SyJ4OvAKR5KM",
        "colab_type": "text"
      },
      "cell_type": "markdown",
      "source": [
        "#### Overall shifts"
      ]
    },
    {
      "metadata": {
        "id": "LVRxF-soRdD2",
        "colab_type": "code",
        "colab": {}
      },
      "cell_type": "code",
      "source": [
        "result.groupby('risk before')['id'].count()"
      ],
      "execution_count": 0,
      "outputs": []
    },
    {
      "metadata": {
        "id": "-r7OEGsFRwXk",
        "colab_type": "code",
        "colab": {}
      },
      "cell_type": "code",
      "source": [
        "result.groupby('risk after')['id'].count()"
      ],
      "execution_count": 0,
      "outputs": []
    },
    {
      "metadata": {
        "id": "swbH7oEexjVy",
        "colab_type": "text"
      },
      "cell_type": "markdown",
      "source": [
        "#### Lower risk: units reduction"
      ]
    },
    {
      "metadata": {
        "id": "sWPvW_OfykIj",
        "colab_type": "code",
        "colab": {}
      },
      "cell_type": "code",
      "source": [
        "result[['units before', 'units after']].loc[result['risk before'] == 'lower'].mean()"
      ],
      "execution_count": 0,
      "outputs": []
    },
    {
      "metadata": {
        "id": "lxA85txt0SH7",
        "colab_type": "text"
      },
      "cell_type": "markdown",
      "source": [
        "#### Increasing risk: units reduction"
      ]
    },
    {
      "metadata": {
        "id": "Pa0dnjtQzrMH",
        "colab_type": "code",
        "colab": {}
      },
      "cell_type": "code",
      "source": [
        "result[['units before', 'units after']].loc[result['risk before'] == 'increasing'].mean()"
      ],
      "execution_count": 0,
      "outputs": []
    },
    {
      "metadata": {
        "id": "N9-ojPUi0Vfl",
        "colab_type": "text"
      },
      "cell_type": "markdown",
      "source": [
        "#### Higher risk: units reduction"
      ]
    },
    {
      "metadata": {
        "id": "bb6dKAC_0Xie",
        "colab_type": "code",
        "colab": {}
      },
      "cell_type": "code",
      "source": [
        "result[['units before', 'units after']].loc[result['risk before'] == 'higher'].mean()"
      ],
      "execution_count": 0,
      "outputs": []
    },
    {
      "metadata": {
        "id": "leCyu1Gx2Wud",
        "colab_type": "text"
      },
      "cell_type": "markdown",
      "source": [
        "#### From higher to increasing or lower"
      ]
    },
    {
      "metadata": {
        "id": "QlxjgQ-10a9n",
        "colab_type": "code",
        "colab": {}
      },
      "cell_type": "code",
      "source": [
        "result['id'].loc[((result['risk before'] == 'higher') & \n",
        "                  ((result['risk after'] == 'increasing') | \n",
        "                   (result['risk after'] == 'lower')))].count()"
      ],
      "execution_count": 0,
      "outputs": []
    },
    {
      "metadata": {
        "id": "83dCMj6z2eU6",
        "colab_type": "code",
        "colab": {}
      },
      "cell_type": "code",
      "source": [
        "328/41.99"
      ],
      "execution_count": 0,
      "outputs": []
    },
    {
      "metadata": {
        "id": "Vu33qhdn4ouX",
        "colab_type": "text"
      },
      "cell_type": "markdown",
      "source": [
        "#### From increasing to lower"
      ]
    },
    {
      "metadata": {
        "id": "Thr3XNnm4hNV",
        "colab_type": "code",
        "colab": {}
      },
      "cell_type": "code",
      "source": [
        "result['id'].loc[((result['risk before'] == 'increasing') & \n",
        "                  (result['risk after'] == 'lower'))].count()"
      ],
      "execution_count": 0,
      "outputs": []
    },
    {
      "metadata": {
        "id": "aXozv6-G4-aP",
        "colab_type": "code",
        "colab": {}
      },
      "cell_type": "code",
      "source": [
        "1364/131.31"
      ],
      "execution_count": 0,
      "outputs": []
    },
    {
      "metadata": {
        "id": "OVR7qwTw-9N0",
        "colab_type": "text"
      },
      "cell_type": "markdown",
      "source": [
        "# dfd analysis"
      ]
    },
    {
      "metadata": {
        "id": "tkAKegpejg1d",
        "colab_type": "text"
      },
      "cell_type": "markdown",
      "source": [
        "### People logging dfd on days they do not drink anyway in their typical week"
      ]
    },
    {
      "metadata": {
        "id": "G7DsexwXhICd",
        "colab_type": "code",
        "colab": {}
      },
      "cell_type": "code",
      "source": [
        "# check if people are logging dfd when they don't drink on a typical week:\n",
        "# yes, they are - NaN values in 'day' indicate that they are\n",
        "# so counting how many dfd have been logged is not a useful metric \n",
        "# for before and after behaviour/risk change indicator\n",
        "\n",
        "usersAfterLEFT_JOIN = pd.merge(dfd, dailyUnits, \n",
        "                      how='left', \n",
        "                      left_on=['id', 'dfd'], \n",
        "                      right_on=['id', 'day'])\n",
        "\n",
        "usersAfterLEFT_JOIN.head()"
      ],
      "execution_count": 0,
      "outputs": []
    },
    {
      "metadata": {
        "id": "XXilCLa5mR85",
        "colab_type": "text"
      },
      "cell_type": "markdown",
      "source": [
        "### Sum of units drunk - and not drunk  on dfd"
      ]
    },
    {
      "metadata": {
        "id": "XnVXpCTE_5uh",
        "colab_type": "code",
        "colab": {}
      },
      "cell_type": "code",
      "source": [
        "# sum of units NOT drunk as a result of dfd\n",
        "\n",
        "usersAfter.groupby('dfd', as_index=False)['units before'].sum()"
      ],
      "execution_count": 0,
      "outputs": []
    },
    {
      "metadata": {
        "id": "DW-cQ_JLoq6Q",
        "colab_type": "code",
        "colab": {}
      },
      "cell_type": "code",
      "source": [
        "usersAfter.groupby('dfd')['units before'].sum().plot(kind='bar', title='sum of units NOT drunk as a result of dfd');"
      ],
      "execution_count": 0,
      "outputs": []
    },
    {
      "metadata": {
        "id": "ioQcCj3rAbv2",
        "colab_type": "code",
        "colab": {}
      },
      "cell_type": "code",
      "source": [
        "# sum of units (put in by all users in their typical week) \n",
        "# split by day to see which days are most boozy \n",
        "\n",
        "usersAfter.groupby('day', as_index=False)['units before'].sum()"
      ],
      "execution_count": 0,
      "outputs": []
    },
    {
      "metadata": {
        "id": "Q61chBYoohmk",
        "colab_type": "code",
        "colab": {}
      },
      "cell_type": "code",
      "source": [
        "usersAfter.groupby('day')['units before'].sum().plot(kind='bar', \n",
        "                                                 title='sum of units (put in by all users in their typical week)');"
      ],
      "execution_count": 0,
      "outputs": []
    },
    {
      "metadata": {
        "id": "xru322dAAlfj",
        "colab_type": "code",
        "colab": {}
      },
      "cell_type": "code",
      "source": [
        "# days (from a typical week) which haven't been \"eliminated\" by a dfd\n",
        "# i.e. this many units were consumed on these days? \n",
        "# fewer units were consumed than on a typical week\n",
        "\n",
        "usersAfter.groupby('day', as_index=False)['units after'].sum()"
      ],
      "execution_count": 0,
      "outputs": []
    },
    {
      "metadata": {
        "id": "RO35mFCtnDLN",
        "colab_type": "text"
      },
      "cell_type": "markdown",
      "source": [
        "### When are most dfd completed?\n",
        "In the time period of our one week we're looking at"
      ]
    },
    {
      "metadata": {
        "id": "uRYxUoGDnIWI",
        "colab_type": "code",
        "colab": {}
      },
      "cell_type": "code",
      "source": [
        "dfd.groupby('dfd', as_index=False)['id'].count()"
      ],
      "execution_count": 0,
      "outputs": []
    },
    {
      "metadata": {
        "id": "8k0eSIQQoAsy",
        "colab_type": "code",
        "colab": {}
      },
      "cell_type": "code",
      "source": [
        "# make a nicer chart for Jimmy/planning\n",
        "\n",
        "dfd.groupby('dfd')['id'].count().plot(kind='bar', \n",
        "                                      title='When are most dfd completed?');"
      ],
      "execution_count": 0,
      "outputs": []
    },
    {
      "metadata": {
        "id": "Rq335eJp6lth",
        "colab_type": "text"
      },
      "cell_type": "markdown",
      "source": [
        "### dfd in a typical week (i.e. dfd pre app usage)"
      ]
    },
    {
      "metadata": {
        "id": "S9GASW7s6vxa",
        "colab_type": "code",
        "colab": {}
      },
      "cell_type": "code",
      "source": [
        "drinkDays = sql_to_df(\"\"\"\n",
        "        select \n",
        "            id,\n",
        "            day, \n",
        "            amount\n",
        "        from\n",
        "            g_appdrinks\n",
        "        \"\"\")\n",
        "\n",
        "drinkDays.head()"
      ],
      "execution_count": 0,
      "outputs": []
    },
    {
      "metadata": {
        "id": "eMXNP-vUJ3wh",
        "colab_type": "code",
        "colab": {}
      },
      "cell_type": "code",
      "source": [
        "pivoted = pd.pivot_table(drinkDays, values='amount', columns='day', index='id').reset_index()\n",
        "\n",
        "pivoted.fillna(0, inplace=True)\n",
        "\n",
        "pivoted.head()"
      ],
      "execution_count": 0,
      "outputs": []
    },
    {
      "metadata": {
        "id": "k3l10tnYLbNj",
        "colab_type": "code",
        "colab": {}
      },
      "cell_type": "code",
      "source": [
        "pivoted['typical dfd'] = (pivoted[['Monday',\n",
        "                                   'Tuesday',\n",
        "                                   'Wednesday', \n",
        "                                   'Thursday', \n",
        "                                   'Friday', \n",
        "                                   'Saturday', \n",
        "                                   'Sunday']] == 0).sum(axis=1)\n",
        "\n",
        "pivoted.head()"
      ],
      "execution_count": 0,
      "outputs": []
    },
    {
      "metadata": {
        "id": "wCCQgwlSNwUT",
        "colab_type": "code",
        "colab": {}
      },
      "cell_type": "code",
      "source": [
        "actualDfd = dfd.groupby('id', as_index=False)['dfd'].count()"
      ],
      "execution_count": 0,
      "outputs": []
    },
    {
      "metadata": {
        "id": "lqMgqkx8OnEL",
        "colab_type": "code",
        "colab": {}
      },
      "cell_type": "code",
      "source": [
        "compareDfd = pd.merge(actualDfd[['id', 'dfd']], pivoted[['id', 'typical dfd']], how='left', on='id')\n",
        "\n",
        "compareDfd.head()"
      ],
      "execution_count": 0,
      "outputs": []
    },
    {
      "metadata": {
        "id": "rFULpDmoNNs1",
        "colab_type": "code",
        "colab": {}
      },
      "cell_type": "code",
      "source": [
        "print(compareDfd['id'].count())\n",
        "print(compareDfd['dfd'].mean())\n",
        "print(compareDfd['typical dfd'].mean())"
      ],
      "execution_count": 0,
      "outputs": []
    },
    {
      "metadata": {
        "id": "a3mqY5bnPW7F",
        "colab_type": "code",
        "colab": {}
      },
      "cell_type": "code",
      "source": [
        "print(compareDfd['id'].loc[compareDfd['dfd'] > compareDfd['typical dfd']].count())\n",
        "print(compareDfd['dfd'].loc[compareDfd['dfd'] > compareDfd['typical dfd']].mean())\n",
        "print(compareDfd['typical dfd'].loc[compareDfd['dfd'] > compareDfd['typical dfd']].mean())"
      ],
      "execution_count": 0,
      "outputs": []
    },
    {
      "metadata": {
        "id": "BNvBGXEPQrrd",
        "colab_type": "code",
        "colab": {}
      },
      "cell_type": "code",
      "source": [
        "3941/67.15"
      ],
      "execution_count": 0,
      "outputs": []
    },
    {
      "metadata": {
        "id": "Blx_fbArfQdQ",
        "colab_type": "text"
      },
      "cell_type": "markdown",
      "source": [
        "# To do\n",
        "\n",
        "- Group people who have 1, 2, 3, etc. typical week dfd and see how they performed after\n",
        "\n"
      ]
    },
    {
      "metadata": {
        "id": "PcgGojxrLU0r",
        "colab_type": "text"
      },
      "cell_type": "markdown",
      "source": [
        "# Export to csv"
      ]
    },
    {
      "metadata": {
        "id": "ytFAWC6FHZCW",
        "colab_type": "code",
        "colab": {}
      },
      "cell_type": "code",
      "source": [
        "from google.colab import files\n",
        "\n",
        "# df.to_csv('df.csv')\n",
        "# files.download('df.csv')"
      ],
      "execution_count": 0,
      "outputs": []
    }
  ]
}