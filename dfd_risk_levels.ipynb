{
  "nbformat": 4,
  "nbformat_minor": 0,
  "metadata": {
    "colab": {
      "name": "dfd_risk_levels.ipynb",
      "version": "0.3.2",
      "provenance": [],
      "private_outputs": true,
      "collapsed_sections": [],
      "toc_visible": true,
      "include_colab_link": true
    },
    "kernelspec": {
      "name": "python3",
      "display_name": "Python 3"
    },
    "accelerator": "GPU"
  },
  "cells": [
    {
      "cell_type": "markdown",
      "metadata": {
        "id": "view-in-github",
        "colab_type": "text"
      },
      "source": [
        "[View in Colaboratory](https://colab.research.google.com/github/janilles/dfdapp/blob/master/dfd_risk_levels.ipynb)"
      ]
    },
    {
      "metadata": {
        "id": "hVd7cCkUJNjW",
        "colab_type": "text"
      },
      "cell_type": "markdown",
      "source": [
        "# Drink Free Days app \n",
        "# RISK LEVELS ANALYSIS\n",
        "Looking at the reduction in alcohol units consuption and subsquent risk levels reduction among Drink Free Days app users.\n",
        "\n",
        "## Questions answered in this notebook\n",
        "- How many users have reduced their risk level (and alcohol unit consumption) and by how much?\n",
        "  - Comparing typical week with drink free days achieved while using the app (in four weeks after campaign lauch).\n",
        "  - Shifts in Higher/Increasing/Lower risk levels before (typical week) and after using the app.\n",
        "\n",
        "## Data set\n",
        "Relational database behind the app - RDS instance on AWS."
      ]
    },
    {
      "metadata": {
        "id": "Txjx79oIkGWz",
        "colab_type": "text"
      },
      "cell_type": "markdown",
      "source": [
        "# Credentials to run the notebook"
      ]
    },
    {
      "metadata": {
        "id": "i0C0jUBOJejP",
        "colab_type": "text"
      },
      "cell_type": "markdown",
      "source": [
        "## Google Drive authentication (optional)\n",
        "NOTE: If login credentials are hardcoded into the database connection (code cell below) this step in not necesary. Otherwise: \n",
        "\n",
        "Install and authenticate [PyDrive](https://pythonhosted.org/PyDrive/index.html) for loading files from Google Drive so that database passwords aren't hardcoded into the notebook."
      ]
    },
    {
      "metadata": {
        "id": "i-uwdb3-J8B8",
        "colab_type": "code",
        "colab": {}
      },
      "cell_type": "code",
      "source": [
        "# added -q for suppressing output\n",
        "!pip install -U -q PyDrive\n",
        "\n",
        "# see PyDrive documentation for libraries code snippets\n",
        "from pydrive.auth import GoogleAuth\n",
        "from pydrive.drive import GoogleDrive\n",
        "from google.colab import auth\n",
        "from oauth2client.client import GoogleCredentials\n",
        "\n",
        "# authenticate and create the PyDrive client\n",
        "auth.authenticate_user()\n",
        "gauth = GoogleAuth()\n",
        "gauth.credentials = GoogleCredentials.get_application_default()\n",
        "drive = GoogleDrive(gauth)"
      ],
      "execution_count": 0,
      "outputs": []
    },
    {
      "metadata": {
        "id": "3QhdNMalfDmU",
        "colab_type": "text"
      },
      "cell_type": "markdown",
      "source": [
        "## Database connection\n",
        "- Connecting to AWS RDS database with [PyMySQL](https://pymysql.readthedocs.io/en/latest/user/examples.html).\n",
        "- Retruning MySQL queries as Pandas dataframes with [```read_sql()``` ](https://pandas.pydata.org/pandas-docs/stable/generated/pandas.read_sql.html) function."
      ]
    },
    {
      "metadata": {
        "id": "_oFep_FLZJ2M",
        "colab_type": "code",
        "colab": {}
      },
      "cell_type": "code",
      "source": [
        "# added -q for suppressing output\n",
        "!pip install -q -U pymysql\n",
        "\n",
        "import pymysql\n",
        "import pandas as pd"
      ],
      "execution_count": 0,
      "outputs": []
    },
    {
      "metadata": {
        "id": "5aAq_cyXORAC",
        "colab_type": "code",
        "colab": {}
      },
      "cell_type": "code",
      "source": [
        "# comment out the other user/options when running this cell as necessary\n",
        "\n",
        "# Jan's file - 'id' is Google Drive file ID\n",
        "passwd_file = drive.CreateFile({'id': '1YnGugBHvqjJk0nbTqN-683Agb0vaZKHo'}) \n",
        "\n",
        "# this variable is used in the connect function below\n",
        "user_passwd = passwd_file.GetContentString()\n",
        "\n",
        "# If you're not using Google Drive file but are hardcoding the password\n",
        "# user_passwd = password as a string"
      ],
      "execution_count": 0,
      "outputs": []
    },
    {
      "metadata": {
        "id": "Bc4vHmqKZiyA",
        "colab_type": "code",
        "colab": {}
      },
      "cell_type": "code",
      "source": [
        "def connect():\n",
        "\n",
        "    return pymysql.connect(\n",
        "        \n",
        "        host = \"df-phereplica3.crqbvr0pveqx.eu-west-1.rds.amazonaws.com\",\n",
        "        \n",
        "        # change user name and password as necessary\n",
        "           \n",
        "        user = \"jan\",\n",
        "\n",
        "        passwd = user_passwd, # assigned in the cell above\n",
        "   \n",
        "        db = \"daysoff\",\n",
        "        \n",
        "        autocommit=True\n",
        "\n",
        "        )\n",
        "\n",
        "connection = connect()\n",
        "\n",
        "def sql_to_df(sql):\n",
        "    \"\"\"\n",
        "    Returns MySQL queries as Pandas dataframes.\n",
        "    \"\"\"\n",
        "    return pd.read_sql(sql, con = connection)"
      ],
      "execution_count": 0,
      "outputs": []
    },
    {
      "metadata": {
        "id": "3H4vBNdu2omb",
        "colab_type": "text"
      },
      "cell_type": "markdown",
      "source": [
        "# Database tables (optional)\n",
        "Overview of avaliable data and tables used in the MySQL queries below. \n",
        "See [MySQL documentation](https://dev.mysql.com/doc/refman/8.0/en/introduction.html) for MySQL syntax."
      ]
    },
    {
      "metadata": {
        "id": "iZPg1ZmMKMFw",
        "colab_type": "code",
        "colab": {}
      },
      "cell_type": "code",
      "source": [
        "# formatting column width of Pandas dataframes\n",
        "# increase column width so that longer comments don't get truncated\n",
        "\n",
        "pd.set_option('max_colwidth',100)"
      ],
      "execution_count": 0,
      "outputs": []
    },
    {
      "metadata": {
        "id": "UxjjNK-ZOIlu",
        "colab_type": "text"
      },
      "cell_type": "markdown",
      "source": [
        "### Drinks table"
      ]
    },
    {
      "metadata": {
        "id": "_9tCXCaGOK5e",
        "colab_type": "code",
        "colab": {}
      },
      "cell_type": "code",
      "source": [
        "# run pd.set_option('max_colwidth',100) if comments column gets truncated\n",
        "\n",
        "sql_to_df(\"\"\"\n",
        "        SELECT \n",
        "            table_name, column_name, data_type, column_comment\n",
        "        FROM\n",
        "            information_schema.columns\n",
        "        WHERE\n",
        "            table_name = 'g_appdrinks'\n",
        "        \"\"\")"
      ],
      "execution_count": 0,
      "outputs": []
    },
    {
      "metadata": {
        "id": "pABlehhu7nF2",
        "colab_type": "text"
      },
      "cell_type": "markdown",
      "source": [
        "### Pledges table"
      ]
    },
    {
      "metadata": {
        "id": "sXBsb3XT_cG5",
        "colab_type": "code",
        "colab": {}
      },
      "cell_type": "code",
      "source": [
        "# run pd.set_option('max_colwidth',100) if comments column gets truncated\n",
        "\n",
        "sql_to_df(\"\"\"\n",
        "        SELECT\n",
        "            table_name, column_name, data_type, column_comment\n",
        "        FROM\n",
        "            information_schema.columns\n",
        "        WHERE\n",
        "            table_name = 'g_apppledges'\n",
        "        \"\"\")"
      ],
      "execution_count": 0,
      "outputs": []
    },
    {
      "metadata": {
        "id": "sK1JWqlTOXvp",
        "colab_type": "text"
      },
      "cell_type": "markdown",
      "source": [
        "### Days off table"
      ]
    },
    {
      "metadata": {
        "id": "2RGxCCqIObnB",
        "colab_type": "code",
        "colab": {}
      },
      "cell_type": "code",
      "source": [
        "# run pd.set_option('max_colwidth',100) if comments column gets truncated\n",
        "\n",
        "sql_to_df(\"\"\"\n",
        "        SELECT\n",
        "            table_name, column_name, data_type, column_comment\n",
        "        FROM\n",
        "            information_schema.columns\n",
        "        WHERE\n",
        "            table_name = 'g_appdaysoff'\n",
        "        \"\"\")"
      ],
      "execution_count": 0,
      "outputs": []
    },
    {
      "metadata": {
        "id": "hZ-pBqOs1xlQ",
        "colab_type": "text"
      },
      "cell_type": "markdown",
      "source": [
        "### App users table"
      ]
    },
    {
      "metadata": {
        "id": "PZC5riNj1rMg",
        "colab_type": "code",
        "colab": {}
      },
      "cell_type": "code",
      "source": [
        "# run pd.set_option('max_colwidth',100) if comments column gets truncated\n",
        "\n",
        "sql_to_df(\"\"\"\n",
        "        SELECT\n",
        "            table_name, column_name, data_type, column_comment\n",
        "        FROM\n",
        "            information_schema.columns\n",
        "        WHERE\n",
        "            table_name = 'g_appusers'\n",
        "        \"\"\")"
      ],
      "execution_count": 0,
      "outputs": []
    },
    {
      "metadata": {
        "id": "8t0NgYmtfl-H",
        "colab_type": "text"
      },
      "cell_type": "markdown",
      "source": [
        "# Report generation\n",
        "- Write MySQL queries as long strings inside ```sql_to_df()``` function.  See [MySQL documentation](https://dev.mysql.com/doc/refman/8.0/en/introduction.html) for MySQL syntax reference.\n",
        "- ```sql_to_df()``` returns Pandas dataframes."
      ]
    },
    {
      "metadata": {
        "id": "pvwZ3sPA-VG0",
        "colab_type": "text"
      },
      "cell_type": "markdown",
      "source": [
        "### Beahviour before and after app usage\n",
        "- 'before' means during the typical week as specified by the user in the app onboarding.\n",
        "- 'after' means in (any or all of) the first four weeks after the campaign launch on 10 Sep 2018"
      ]
    },
    {
      "metadata": {
        "id": "161JIMqHKodK",
        "colab_type": "text"
      },
      "cell_type": "markdown",
      "source": [
        "#### Selecting from drinks table"
      ]
    },
    {
      "metadata": {
        "id": "kPlgqyWgrhgl",
        "colab_type": "code",
        "colab": {}
      },
      "cell_type": "code",
      "source": [
        "# 'day' is needed for calculating units and risks after dfd recorded\n",
        "# Alcohol units calculation = (percent * ml)/ 1000\n",
        "\n",
        "drinksByDay = sql_to_df(\"\"\"\n",
        "        SELECT\n",
        "            id, \n",
        "            day AS 'typical day', \n",
        "            ((percent * ml)/ 1000) AS 'week0' -- typical week\n",
        "        FROM\n",
        "            g_appdrinks\n",
        "        \"\"\")\n",
        "\n",
        "drinksByDay.head()"
      ],
      "execution_count": 0,
      "outputs": []
    },
    {
      "metadata": {
        "id": "ObSJ7DzDL4_w",
        "colab_type": "text"
      },
      "cell_type": "markdown",
      "source": [
        "#### Summing units for each user on a typical week"
      ]
    },
    {
      "metadata": {
        "id": "4TV1ekgM0yk_",
        "colab_type": "code",
        "colab": {}
      },
      "cell_type": "code",
      "source": [
        "# there's only ever one typical week in the database for any given user\n",
        "# so this groupby will return sum of units per week for each user\n",
        "\n",
        "drinksByWeek = drinksByDay.groupby('id', as_index=False)['week0'].sum()\n",
        "\n",
        "drinksByWeek.head()"
      ],
      "execution_count": 0,
      "outputs": []
    },
    {
      "metadata": {
        "id": "EMnONVz6M-i2",
        "colab_type": "text"
      },
      "cell_type": "markdown",
      "source": [
        "#### Selecting from users table (demographics)\n",
        "Filtering of users (i.e. WHERE condition) explained:\n",
        "- ```gender LIKE '%ale'``` is data cleaning to filter out empty values since gender is necesary for calculating risk levels\n",
        "- age range: 18 (the minimum the app accepts) seems to have too many fake values and the upper cuts off outliers\n",
        "- ```lastseen >= '2018-09-13'``` is to only include app users who have recoded some activity on (or after) three days after the campaign launch (10 Sep 2018) so we can assume that they are using the app\n",
        "\n",
        "**NB:** MySQL week starts on Sunday by default so: \n",
        "- ```week(lastseen)```  counts weeks from Sundays\n",
        "- ```week(lastseen, 1)``` counts weeks from Monday"
      ]
    },
    {
      "metadata": {
        "id": "lz6PAPer1sMp",
        "colab_type": "code",
        "colab": {}
      },
      "cell_type": "code",
      "source": [
        "# 'age' is not necessary but may be interesting in further analysis\n",
        "# 'lastseen' is going to be used to filter users who use the app longer\n",
        "\n",
        "demographic = sql_to_df(\"\"\"\n",
        "        SELECT \n",
        "            id,\n",
        "            week(lastseen, 1) AS 'last week',\n",
        "            gender,\n",
        "            age\n",
        "        FROM\n",
        "            g_appusers\n",
        "        WHERE\n",
        "            gender LIKE '%ale' -- to exclude empty values\n",
        "            AND\n",
        "            age BETWEEN 19 AND 79 -- 18 has too many fake values\n",
        "            AND\n",
        "            lastseen >= '2018-09-13' -- at least a week from campaign launch\n",
        "        \"\"\")\n",
        "\n",
        "demographic.head()"
      ],
      "execution_count": 0,
      "outputs": []
    },
    {
      "metadata": {
        "id": "nH5ABZ-iZgHh",
        "colab_type": "code",
        "colab": {}
      },
      "cell_type": "code",
      "source": [
        "demographic.info()"
      ],
      "execution_count": 0,
      "outputs": []
    },
    {
      "metadata": {
        "id": "RcxhE7NfNFd8",
        "colab_type": "text"
      },
      "cell_type": "markdown",
      "source": [
        "#### Joining typical week units and demographic info dataframes"
      ]
    },
    {
      "metadata": {
        "id": "Uia5-ikw2UHi",
        "colab_type": "code",
        "colab": {}
      },
      "cell_type": "code",
      "source": [
        "# inner join to make sure gender value is included in the dataframe\n",
        "# as gender is necessary for risk level calculation\n",
        "\n",
        "usersBefore = pd.merge(drinksByWeek, demographic, how='inner', on='id')\n",
        "\n",
        "usersBefore.head()"
      ],
      "execution_count": 0,
      "outputs": []
    },
    {
      "metadata": {
        "id": "tGabMMRzZrUW",
        "colab_type": "code",
        "colab": {}
      },
      "cell_type": "code",
      "source": [
        "usersBefore.info()"
      ],
      "execution_count": 0,
      "outputs": []
    },
    {
      "metadata": {
        "id": "uiXyr9_H_eJh",
        "colab_type": "text"
      },
      "cell_type": "markdown",
      "source": [
        "#### Calculating risk before\n",
        "- Defining a ```riskCalculator``` function (see docstring in code cell below for details)\n",
        "- Applying ```riskCalculator``` to every row of dataframe"
      ]
    },
    {
      "metadata": {
        "id": "GvfFsdpK2rRT",
        "colab_type": "code",
        "colab": {}
      },
      "cell_type": "code",
      "source": [
        "def riskCalculator(row, unitsColName):\n",
        "    \"\"\"\n",
        "    Calculates risk level from alcohol units and gender \n",
        "    based on conditions for the three risk categories.\n",
        "    \n",
        "    Note:\n",
        "        Conditions for risk levels are specified in the app documentation.\n",
        "    \n",
        "    Args:\n",
        "        row: Used in lambda function when riskCalculator is applied to dataframe rows.\n",
        "        unitsColName (str): Name of column with alcohol units values used in calculation.\n",
        "        \n",
        "    Returns:\n",
        "        Risk level value as a string. \n",
        "        \n",
        "    Raises:\n",
        "        ValueError: If some row doesn't satisfy any of the if-elif conditions.\n",
        "    \"\"\"\n",
        "    \n",
        "    if row[unitsColName] < 15: \n",
        "        \n",
        "        return 'lower'\n",
        "        \n",
        "    elif ((row['gender'] == 'Male') & \n",
        "          (15 <= row[unitsColName] < 50)):\n",
        "        \n",
        "        return 'increasing'\n",
        "        \n",
        "    elif ((row['gender'] == 'Female') & \n",
        "          (15 <= row[unitsColName] < 35)):\n",
        "        \n",
        "        return 'increasing'\n",
        "        \n",
        "    elif ((row['gender'] == 'Male') & \n",
        "          (row[unitsColName] >= 50)):\n",
        "        \n",
        "        return 'higher'\n",
        "        \n",
        "    elif ((row['gender'] == 'Female') & \n",
        "          (row[unitsColName] >= 35)):\n",
        "        \n",
        "        return 'higher'\n",
        "        \n",
        "    else:\n",
        "        raise ValueError(\n",
        "            'Some row doesn\\'t meet any of the if-elif conditions in riskCalculator.'\n",
        "        ) # error message also returns row index number "
      ],
      "execution_count": 0,
      "outputs": []
    },
    {
      "metadata": {
        "id": "EAcKNAP0LSmw",
        "colab_type": "code",
        "colab": {}
      },
      "cell_type": "code",
      "source": [
        "# applying riskCalculator to every row\n",
        "\n",
        "usersBefore['risk0'] = usersBefore.apply(lambda row: \n",
        "                                               riskCalculator(row, 'week0'), \n",
        "                                               axis=1)\n",
        "\n",
        "usersBefore.head()"
      ],
      "execution_count": 0,
      "outputs": []
    },
    {
      "metadata": {
        "id": "_zJoUlo1AMof",
        "colab_type": "text"
      },
      "cell_type": "markdown",
      "source": [
        "#### Selecting form 'days off' table (i.e. drink free days recorded by users)\n",
        "\n",
        "**NB:** MySQL week starts on Sunday by default so: \n",
        "- ```week(date)```  counts weeks from Sundays\n",
        "\n",
        "- ```week(date, 1)``` counts weeks from Monday"
      ]
    },
    {
      "metadata": {
        "id": "CyzIg9F-QnrJ",
        "colab_type": "code",
        "colab": {}
      },
      "cell_type": "code",
      "source": [
        "# week numbers are used in subsequent calculations so\n",
        "# wee need to make sure weeks start on Monday i.e. week(date, 1) \n",
        "# not Sunday which is MySQL default i.e. week(date)\n",
        "\n",
        "dfdAchieved = sql_to_df(\"\"\"\n",
        "        SELECT \n",
        "            id,  \n",
        "            dayname(date) AS 'dfd day name', -- drink free day \n",
        "            week(date, 1) AS 'dfd week number' -- week of drink free day\n",
        "        FROM \n",
        "            g_appdaysoff\n",
        "        WHERE\n",
        "            date >= '2018-09-10' -- campaign start date\n",
        "        GROUP BY\n",
        "            week(date), id\n",
        "        ORDER BY\n",
        "            id, week(date, 1), dayname(date)\n",
        "        \"\"\")\n",
        "\n",
        "dfdAchieved.head()"
      ],
      "execution_count": 0,
      "outputs": []
    },
    {
      "metadata": {
        "id": "bTXIXphpM7qA",
        "colab_type": "text"
      },
      "cell_type": "markdown",
      "source": [
        "#### Creating units by day (from typical weeks)"
      ]
    },
    {
      "metadata": {
        "id": "4DGBAsR8WpGX",
        "colab_type": "code",
        "colab": {}
      },
      "cell_type": "code",
      "source": [
        "# I'm reusing the same dataframe I used for calculating weekly units\n",
        "# adding 'day' to the groupby statement\n",
        "\n",
        "unitsByDay = drinksByDay.groupby(['id', 'typical day'], as_index=False)['week0'].sum()\n",
        "\n",
        "unitsByDay.sort_values('id').head()"
      ],
      "execution_count": 0,
      "outputs": []
    },
    {
      "metadata": {
        "id": "cJqmzTIuN0P2",
        "colab_type": "text"
      },
      "cell_type": "markdown",
      "source": [
        "#### Joining drink free days with their corresponding alcohol units"
      ]
    },
    {
      "metadata": {
        "id": "MI808B8SrdM2",
        "colab_type": "code",
        "colab": {}
      },
      "cell_type": "code",
      "source": [
        "# grouping drink free days achieved with their typical days (daily units)\n",
        "# to calculate how many units have to be deducted for each drink free day achieved\n",
        "\n",
        "dfdUnitsMatch = pd.merge(dfdAchieved, unitsByDay, \n",
        "                # left join returns drink free days recorded \n",
        "                # also on days which are drink free in a typical week anyway\n",
        "                how='inner', \n",
        "                left_on=['id', 'dfd day name'],\n",
        "                right_on=['id', 'typical day'])\n",
        "\n",
        "dfdUnitsMatch.sort_values('id').head(10)"
      ],
      "execution_count": 0,
      "outputs": []
    },
    {
      "metadata": {
        "id": "eMbGd5RLZ9ct",
        "colab_type": "code",
        "colab": {}
      },
      "cell_type": "code",
      "source": [
        "dfdUnitsMatch.info()"
      ],
      "execution_count": 0,
      "outputs": []
    },
    {
      "metadata": {
        "id": "58haxHhtOdia",
        "colab_type": "text"
      },
      "cell_type": "markdown",
      "source": [
        "#### Units reductions by week for each users"
      ]
    },
    {
      "metadata": {
        "id": "ZWTVShHNzwII",
        "colab_type": "code",
        "colab": {}
      },
      "cell_type": "code",
      "source": [
        "unitsReductionByWeek = dfdUnitsMatch.groupby(['id',\n",
        "                                              'dfd week number'], as_index=False)['week0'].sum()\n",
        "\n",
        "# rename column\n",
        "unitsReductionByWeek.rename(columns={\"week0\": \"units to deduct\"}, inplace=True)\n",
        "\n",
        "unitsReductionByWeek.sort_values('id').head(10)"
      ],
      "execution_count": 0,
      "outputs": []
    },
    {
      "metadata": {
        "id": "NcyrMCMW2m3P",
        "colab_type": "code",
        "colab": {}
      },
      "cell_type": "code",
      "source": [
        "# just as an aside\n",
        "# how many units NOT drunk in each week\n",
        "\n",
        "unitsReductionByWeek.groupby('dfd week number', as_index=False)['units to deduct'].sum()"
      ],
      "execution_count": 0,
      "outputs": []
    },
    {
      "metadata": {
        "id": "Q0_q5b4iBg0s",
        "colab_type": "code",
        "colab": {}
      },
      "cell_type": "code",
      "source": [
        "# just as an aside\n",
        "# how many drink free days in each week\n",
        "\n",
        "unitsReductionByWeek.groupby('dfd week number', as_index=False)['id'].count()"
      ],
      "execution_count": 0,
      "outputs": []
    },
    {
      "metadata": {
        "id": "ccuGEtMtytC0",
        "colab_type": "code",
        "colab": {}
      },
      "cell_type": "code",
      "source": [
        "# assign 'id' and 'units to deduct' for each week into new dataframe \n",
        "# to get units reduction column for each week for each user\n",
        "\n",
        "cols = ['id', 'units to deduct']\n",
        "\n",
        "week1loc = unitsReductionByWeek['dfd week number'] == 37\n",
        "week2loc = unitsReductionByWeek['dfd week number'] == 38\n",
        "week3loc = unitsReductionByWeek['dfd week number'] == 39\n",
        "week4loc = unitsReductionByWeek['dfd week number'] == 40\n",
        "\n",
        "week1 = unitsReductionByWeek[cols].loc[week1loc].rename(columns={\"units to deduct\": \"reduction1\"})\n",
        "week2 = unitsReductionByWeek[cols].loc[week2loc].rename(columns={\"units to deduct\": \"reduction2\"})\n",
        "week3 = unitsReductionByWeek[cols].loc[week3loc].rename(columns={\"units to deduct\": \"reduction3\"})\n",
        "week4 = unitsReductionByWeek[cols].loc[week4loc].rename(columns={\"units to deduct\": \"reduction4\"})"
      ],
      "execution_count": 0,
      "outputs": []
    },
    {
      "metadata": {
        "id": "dSy0SmpEoGnT",
        "colab_type": "code",
        "colab": {}
      },
      "cell_type": "code",
      "source": [
        "week1.head()"
      ],
      "execution_count": 0,
      "outputs": []
    },
    {
      "metadata": {
        "id": "hJXAxq2gUSVR",
        "colab_type": "text"
      },
      "cell_type": "markdown",
      "source": [
        "#### Join usersBefore with weeks 1-4 of app usage"
      ]
    },
    {
      "metadata": {
        "id": "ASCum_PU18sd",
        "colab_type": "code",
        "colab": {}
      },
      "cell_type": "code",
      "source": [
        "result = usersBefore.merge(week1, \n",
        "                           on='id', \n",
        "                           # outer returns week1 IDs not in usersBefore\n",
        "                           # users may have achieved drink free days but\n",
        "                           # don't meet demographics selection criteria\n",
        "                           # including 'lastseen' condition\n",
        "                           how='left').merge(week2, \n",
        "                                              on='id',\n",
        "                                              how='left').merge(week3, \n",
        "                                                                 on='id', \n",
        "                                                                 how='left').merge(week4, \n",
        "                                                                                    on='id', \n",
        "                                                                                    how='left')\n",
        "# fill in missing values with zeros\n",
        "result.fillna(0, inplace=True)\n",
        "\n",
        "result.head()"
      ],
      "execution_count": 0,
      "outputs": []
    },
    {
      "metadata": {
        "id": "nBjm2yFraLgv",
        "colab_type": "text"
      },
      "cell_type": "markdown",
      "source": [
        "#### Calculating alcohol units for each week\n",
        "**NB: ** Users who were last seen in e.g. week1 will get week0 (i.e. typical week) values for subsequent weeks - i.e. as if they were still using the app. We thereby assume they went back to typical weeks?"
      ]
    },
    {
      "metadata": {
        "id": "D-73OfgoaSdq",
        "colab_type": "code",
        "colab": {}
      },
      "cell_type": "code",
      "source": [
        "# adding columns for alcohol units consumptiopn in each week\n",
        "\n",
        "result['week1'] = result['week0'] - result['reduction1']\n",
        "result['week2'] = result['week0'] - result['reduction2']\n",
        "result['week3'] = result['week0'] - result['reduction3']\n",
        "result['week4'] = result['week0'] - result['reduction4']"
      ],
      "execution_count": 0,
      "outputs": []
    },
    {
      "metadata": {
        "id": "dochqZGrcITf",
        "colab_type": "code",
        "colab": {}
      },
      "cell_type": "code",
      "source": [
        "result.head()"
      ],
      "execution_count": 0,
      "outputs": []
    },
    {
      "metadata": {
        "id": "Gca9F5dhbnUe",
        "colab_type": "text"
      },
      "cell_type": "markdown",
      "source": [
        "#### Calculating risk for each week"
      ]
    },
    {
      "metadata": {
        "id": "RAciBfsJQNN5",
        "colab_type": "code",
        "colab": {}
      },
      "cell_type": "code",
      "source": [
        "# applying riskCalculator function (defined above) to every row\n",
        "# creating a new column for calculated risk level for each week\n",
        "\n",
        "R = ['risk1', 'risk2', 'risk3', 'risk4']\n",
        "W = ['week1', 'week2', 'week3', 'week4']\n",
        "\n",
        "dictionary = dict(zip(R, W))\n",
        "\n",
        "for risk, week in dictionary.items():\n",
        "    result[risk] = result.apply(lambda row: \n",
        "                                riskCalculator(row, week), \n",
        "                                axis=1)\n",
        "\n",
        "result.head()"
      ],
      "execution_count": 0,
      "outputs": []
    },
    {
      "metadata": {
        "id": "iDJ16iFRi_9-",
        "colab_type": "text"
      },
      "cell_type": "markdown",
      "source": [
        "#### Export result to CSV"
      ]
    },
    {
      "metadata": {
        "id": "ytFAWC6FHZCW",
        "colab_type": "code",
        "colab": {}
      },
      "cell_type": "code",
      "source": [
        "from google.colab import files\n",
        "\n",
        "# result.to_csv('dfd_risk_levels.csv')\n",
        "# files.download('dfd_risk_levels.csv')"
      ],
      "execution_count": 0,
      "outputs": []
    },
    {
      "metadata": {
        "id": "clMvvIDbZxVM",
        "colab_type": "text"
      },
      "cell_type": "markdown",
      "source": [
        "# Slicing the results"
      ]
    },
    {
      "metadata": {
        "id": "OJN1aS1Pgmxt",
        "colab_type": "text"
      },
      "cell_type": "markdown",
      "source": [
        "### Users who recorded a dfd in all four weeks\n",
        "To select combinations as desired id sets are created and then records in 'result' dataframe are isolated with ```.isin()``` method.\n",
        "\n",
        "For operations with ```set``` see [sets documentation](https://docs.python.org/2/library/sets.html)."
      ]
    },
    {
      "metadata": {
        "id": "8Mmqwc3igxr3",
        "colab_type": "code",
        "colab": {}
      },
      "cell_type": "code",
      "source": [
        "# one set per week + week0 which is typical week\n",
        "\n",
        "set0 = set(result['id'])\n",
        "set1 = set(week1['id'])\n",
        "set2 = set(week2['id'])\n",
        "set3 = set(week3['id'])\n",
        "set4 = set(week4['id'])"
      ],
      "execution_count": 0,
      "outputs": []
    },
    {
      "metadata": {
        "id": "_ADRNGhbofx0",
        "colab_type": "code",
        "colab": {}
      },
      "cell_type": "code",
      "source": [
        "# selecting user ids which appear in each week\n",
        "# i.e. users who recorded at least one dfd in each week\n",
        "\n",
        "selection = set0.intersection(set1, set2, set3, set4)\n",
        "\n",
        "# see how many users are in the selection\n",
        "len(selection)"
      ],
      "execution_count": 0,
      "outputs": []
    },
    {
      "metadata": {
        "id": "EWk55stbUV3n",
        "colab_type": "code",
        "colab": {}
      },
      "cell_type": "code",
      "source": [
        "# isolate users who are part of the selection\n",
        "\n",
        "result4 = result[result['id'].isin(selection)]\n",
        "\n",
        "result4.head()"
      ],
      "execution_count": 0,
      "outputs": []
    },
    {
      "metadata": {
        "id": "VfmuvpNkkD5c",
        "colab_type": "text"
      },
      "cell_type": "markdown",
      "source": [
        "#### Data exploration"
      ]
    },
    {
      "metadata": {
        "id": "FY3fd5L1jPP1",
        "colab_type": "code",
        "colab": {}
      },
      "cell_type": "code",
      "source": [
        "print(result4['reduction1'].mean())\n",
        "print(result4['reduction2'].mean())\n",
        "print(result4['reduction3'].mean())\n",
        "print(result4['reduction4'].mean())"
      ],
      "execution_count": 0,
      "outputs": []
    },
    {
      "metadata": {
        "id": "oWlCxPwgjhTo",
        "colab_type": "code",
        "colab": {}
      },
      "cell_type": "code",
      "source": [
        "print(result4['week0'].mean())\n",
        "print(result4['week1'].mean())\n",
        "print(result4['week2'].mean())\n",
        "print(result4['week3'].mean())\n",
        "print(result4['week4'].mean())"
      ],
      "execution_count": 0,
      "outputs": []
    },
    {
      "metadata": {
        "id": "y08fjIIKj2cI",
        "colab_type": "code",
        "colab": {}
      },
      "cell_type": "code",
      "source": [
        "result4.loc[(result4['risk0'] == 'higher') & (result4['risk4'] == 'increasing')]"
      ],
      "execution_count": 0,
      "outputs": []
    },
    {
      "metadata": {
        "id": "XJnpYfMElkmb",
        "colab_type": "code",
        "colab": {}
      },
      "cell_type": "code",
      "source": [
        "result4.loc[(result4['risk0'] == 'increasing') & (result4['risk4'] == 'lower')]"
      ],
      "execution_count": 0,
      "outputs": []
    },
    {
      "metadata": {
        "id": "uOZQJkS8n6gT",
        "colab_type": "code",
        "colab": {}
      },
      "cell_type": "code",
      "source": [
        ""
      ],
      "execution_count": 0,
      "outputs": []
    }
  ]
}